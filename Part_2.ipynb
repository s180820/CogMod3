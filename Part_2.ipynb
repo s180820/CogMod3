{
 "cells": [
  {
   "cell_type": "code",
   "execution_count": 24,
   "metadata": {},
   "outputs": [],
   "source": [
    "# Visualising the data\n",
    "# • Plot a probability density histogram for each type of stimulus. This height of each bar\n",
    "# should be the proportion of responses divided by the width of the column.\n",
    "\n",
    "import seaborn as sns\n",
    "import matplotlib.pyplot as plt\n",
    "import numpy as np\n",
    "import pandas as pd\n",
    "import glob\n",
    "%matplotlib inline\n",
    "plt.rcParams['figure.figsize'] = (20,10)\n",
    "\n",
    "# Load the data\n",
    "data_path= \"Data/Part_2/\"\n",
    "dfs = []\n",
    "for file in glob.glob('Data/Part_2/*.txt'):\n",
    "  dfs.append(pd.DataFrame(np.loadtxt(file)))\n",
    "df_all = pd.concat(dfs)"
   ]
  },
  {
   "cell_type": "code",
   "execution_count": 32,
   "metadata": {},
   "outputs": [
    {
     "data": {
      "text/plain": [
       "35"
      ]
     },
     "execution_count": 32,
     "metadata": {},
     "output_type": "execute_result"
    }
   ],
   "source": [
    "# The first row of the array contains response counts for the auditory stimuli. The columns of\n",
    "# the first row indicate the specific auditory stimulus ranging from very similar to a ’b’ in the\n",
    "# first column to very similar to a ’d’ in the last column. Likewise, the second row contains\n",
    "# response counts to the visual stimulus ranging from very similar to a ’b’ to very similar to a\n",
    "# ’d’. Rows 3-7 contains response counts for the audiovisual stimuli. Rows indicate the visual\n",
    "# component of the stimulus ranging from very similar to a ’b’ (row 3) to very similar to a ’d’\n",
    "# (row 7). Columns indicate the auditory component of the stimulus ranging from very similar\n",
    "# to a ’b’ (column 1) to very similar to a ’d’ (column 5).\n",
    "df_all"
   ]
  },
  {
   "cell_type": "code",
   "execution_count": 30,
   "metadata": {},
   "outputs": [],
   "source": [
    "# split df_all into 5 dfs\n",
    "df_1 = df_all.iloc[0:7,0:5]\n",
    "df_2 = df_all.iloc[7:14,0:5]\n",
    "df_3 = df_all.iloc[14:21,0:5]\n",
    "df_4 = df_all.iloc[21:28,0:5]\n",
    "df_5 = df_all.iloc[28:35,0:5]\n",
    "\n"
   ]
  },
  {
   "cell_type": "code",
   "execution_count": null,
   "metadata": {},
   "outputs": [],
   "source": [
    "# fit the early strong fusion model\n",
    "\n",
    "def early_strong_fusion(data):\n",
    "    # our code here\n",
    "    return model\n",
    "\n",
    "  \n"
   ]
  },
  {
   "cell_type": "code",
   "execution_count": null,
   "metadata": {},
   "outputs": [],
   "source": [
    "# fit an early Bayesian Causal Inference model (BCI)\n",
    "\n",
    "def early_BCI(data):\n",
    "    # our code here\n",
    "    return model\n",
    "\n",
    "###### is this just the same as we did in part 1? The BCI model? ######"
   ]
  }
 ],
 "metadata": {
  "kernelspec": {
   "display_name": "Python 3.8.13 ('katrine_personal_env')",
   "language": "python",
   "name": "python3"
  },
  "language_info": {
   "codemirror_mode": {
    "name": "ipython",
    "version": 3
   },
   "file_extension": ".py",
   "mimetype": "text/x-python",
   "name": "python",
   "nbconvert_exporter": "python",
   "pygments_lexer": "ipython3",
   "version": "3.8.13"
  },
  "orig_nbformat": 4,
  "vscode": {
   "interpreter": {
    "hash": "23b47e8941e9532a227126a88d0aed60e854f3b3d5618484cace29efe7d4fdfe"
   }
  }
 },
 "nbformat": 4,
 "nbformat_minor": 2
}
