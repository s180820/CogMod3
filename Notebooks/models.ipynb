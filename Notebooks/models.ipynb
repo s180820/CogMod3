{
 "cells": [
  {
   "cell_type": "code",
   "execution_count": 16,
   "metadata": {},
   "outputs": [
    {
     "data": {
      "text/plain": [
       "(8, 20)"
      ]
     },
     "execution_count": 16,
     "metadata": {},
     "output_type": "execute_result"
    }
   ],
   "source": [
    "import numpy as np\n",
    "data_path= \"../Data/Homework3pt1DataCSV.txt\"\n",
    "\n",
    "data = np.loadtxt(data_path)\n",
    "data.shape"
   ]
  },
  {
   "cell_type": "code",
   "execution_count": 65,
   "metadata": {},
   "outputs": [],
   "source": [
    "from scipy.stats import norm\n",
    "import math\n",
    "import scipy\n",
    "\n",
    "NUM_RESPONSES = 20*6 - 1\n",
    "\n",
    "def softmax(theta):\n",
    "    return (np.exp(theta) / (np.exp(theta) + 1))\n",
    "\n",
    "def cdf_a_v(mu, sigma, c):\n",
    "    return norm.cdf(mu, c, sigma)\n",
    "\n",
    "def cdf_av(mu_a, mu_v, sigma_a, sigma_v, c_a, c_v):\n",
    "    mu_av = (sigma_v ** 2 / (sigma_a ** 2 + sigma_v ** 2)) * (mu_a - c_a) + (sigma_a ** 2 / (sigma_a ** 2 + sigma_v ** 2)) * (mu_v - c_v)\n",
    "    sigma_av = math.sqrt((sigma_a ** 2 * sigma_v ** 2) / (sigma_a ** 2 + sigma_v ** 2))\n",
    "    return norm.cdf(mu_av/sigma_av)\n",
    "\n",
    "def gauss_likelihood_a_v(mu, sigma, c, x):\n",
    "    return scipy.special.binom(NUM_RESPONSES, x) * cdf_a_v(mu, sigma, c)**x * (1 - cdf_a_v(mu, sigma, c))**(NUM_RESPONSES - x)\n",
    "\n",
    "def gauss_likelihood_av(mu_a, mu_v, sigma_a, sigma_v, c_a, c_v, x):\n",
    "    return scipy.special.binom(NUM_RESPONSES, x) * cdf_av(mu_a, mu_v, sigma_a, sigma_v, c_a, c_v) ** x * (1 - cdf_av(mu_a, mu_v, sigma_a, sigma_v, c_a, c_v)) ** (NUM_RESPONSES - x)"
   ]
  },
  {
   "cell_type": "code",
   "execution_count": 66,
   "metadata": {},
   "outputs": [],
   "source": [
    "def log_likelihood_gaussian(params, d):\n",
    "    c_a, c_v, sigma_a, sigma_v = params\n",
    "    c_a = softmax(c_a)\n",
    "    c_v = softmax(c_v)\n",
    "    sigma_a = np.exp(sigma_a)\n",
    "    sigma_v = np.exp(sigma_v)\n",
    "    l_av = []\n",
    "    \n",
    "    l_a = np.prod([gauss_likelihood_a_v(j + 1, sigma_a, c_a, d[0][j]) for j in range(0, 20)])\n",
    "    l_v = np.prod([gauss_likelihood_a_v(j + 1, sigma_v, c_v, d[1][j]) for j in range(0, 20)])\n",
    "    print(l_a, l_v)\n",
    "    for i in range(0, 6):\n",
    "        for j in range(0, 20):\n",
    "            l_av.append(gauss_likelihood_av(j + 1, i + 1, sigma_a, sigma_v, c_a, c_v, d[i+2][j]))\n",
    "            \n",
    "    return -np.log(np.prod([l_a, l_v, np.prod(l_av)]))"
   ]
  },
  {
   "cell_type": "code",
   "execution_count": 67,
   "metadata": {},
   "outputs": [
    {
     "name": "stdout",
     "output_type": "stream",
     "text": [
      "0.0 0.0\n",
      "0.0 0.0\n",
      "0.0 0.0\n",
      "0.0 0.0\n",
      "0.0 0.0\n"
     ]
    },
    {
     "name": "stderr",
     "output_type": "stream",
     "text": [
      "/var/folders/p7/1qllz46s60lfswf2l4vv4qtr0000gn/T/ipykernel_19297/2187567351.py:16: RuntimeWarning: divide by zero encountered in log\n",
      "  return -np.log(np.prod([l_a, l_v, np.prod(l_av)]))\n"
     ]
    },
    {
     "data": {
      "text/plain": [
       "      fun: inf\n",
       " hess_inv: array([[1, 0, 0, 0],\n",
       "       [0, 1, 0, 0],\n",
       "       [0, 0, 1, 0],\n",
       "       [0, 0, 0, 1]])\n",
       "      jac: array([nan, nan, nan, nan])\n",
       "  message: 'NaN result encountered.'\n",
       "     nfev: 5\n",
       "      nit: 0\n",
       "     njev: 1\n",
       "   status: 3\n",
       "  success: False\n",
       "        x: array([0.96965097, 0.94601456, 0.46813133, 0.47553534])"
      ]
     },
     "execution_count": 67,
     "metadata": {},
     "output_type": "execute_result"
    }
   ],
   "source": [
    "from scipy.optimize import minimize\n",
    "s_mle_0 = minimize(log_likelihood_gaussian, np.random.uniform(size=4), data)\n",
    "s_mle_0"
   ]
  },
  {
   "cell_type": "code",
   "execution_count": 50,
   "metadata": {},
   "outputs": [],
   "source": [
    "import pandas as pd\n",
    "data = np.array(pd.read_csv(\"../Data/Homework3pt1DataCSV.txt\", header = None, sep= \"\\s+\"), dtype=int)"
   ]
  },
  {
   "cell_type": "code",
   "execution_count": 51,
   "metadata": {},
   "outputs": [
    {
     "data": {
      "text/plain": [
       "array([[  9, -11,   9,   4,  22, -11,   1,   5,   4, -10,   3,   0,   7,\n",
       "          5,  20,  -6, -11,  28, -22,  10],\n",
       "       [ 24,  35,  21,  15,  34,  43,  17,  24,  27,  45,  38,  29,  29,\n",
       "         30,  17,  29,  16,  31,  28,  20],\n",
       "       [ -2,   2,  -2,  -3,   6,   2,  -3,   1,   4,   5,   6,  -5,  -3,\n",
       "          1,  -2,  -3,   3,  -1,  -3,  -3],\n",
       "       [ 28,  26,  33,  33,  28,  32,  26,  30,  32,  26,  26,  38,  34,\n",
       "         27,  30,  30,  32,  26,  26,  22],\n",
       "       [ -7,   4,   4,  -2,  -1,  -6,  -6,   1,  -6,   1,   3,   8,  -1,\n",
       "          1,   9,  -4,   8,  -3,  -6,   5],\n",
       "       [ 25,  24,  27,  33,  29,  24,  27,  27,  31,  22,  30,  26,  28,\n",
       "         22,  28,  25,  25,  27,  23,  30],\n",
       "       [  2,  -2,   6,   6,   8,   2,   5,   5,   5,   4,  10,   6,  39,\n",
       "          4,   4,   5,   6,   5,   3,  -4],\n",
       "       [ 31,  28,  32,  33,  32,  28,  32,  29,  27,  32,  34,  34,  27,\n",
       "         32,  34,  25,  29,  12,  32,  27]])"
      ]
     },
     "execution_count": 51,
     "metadata": {},
     "output_type": "execute_result"
    }
   ],
   "source": [
    "data"
   ]
  },
  {
   "cell_type": "code",
   "execution_count": null,
   "metadata": {},
   "outputs": [],
   "source": []
  }
 ],
 "metadata": {
  "kernelspec": {
   "display_name": "Python 3.10.6 64-bit",
   "language": "python",
   "name": "python3"
  },
  "language_info": {
   "codemirror_mode": {
    "name": "ipython",
    "version": 3
   },
   "file_extension": ".py",
   "mimetype": "text/x-python",
   "name": "python",
   "nbconvert_exporter": "python",
   "pygments_lexer": "ipython3",
   "version": "3.10.6"
  },
  "orig_nbformat": 4,
  "vscode": {
   "interpreter": {
    "hash": "b0fa6594d8f4cbf19f97940f81e996739fb7646882a419484c72d19e05852a7e"
   }
  }
 },
 "nbformat": 4,
 "nbformat_minor": 2
}
