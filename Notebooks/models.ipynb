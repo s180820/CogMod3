{
 "cells": [
  {
   "cell_type": "code",
   "execution_count": 1,
   "metadata": {},
   "outputs": [
    {
     "data": {
      "text/plain": [
       "(8, 20)"
      ]
     },
     "execution_count": 1,
     "metadata": {},
     "output_type": "execute_result"
    }
   ],
   "source": [
    "import numpy as np\n",
    "data_path= \"../Data/Homework3pt1DataCSV.txt\"\n",
    "\n",
    "data = np.loadtxt(data_path)\n",
    "data.shape"
   ]
  },
  {
   "cell_type": "code",
   "execution_count": null,
   "metadata": {},
   "outputs": [],
   "source": [
    "def log_likelihood_gaussian(params, d):\n",
    "    x_a0, x_a30, x_v0, x_v30, sigma_a, sigma_v = params\n",
    "    sigma_a = np.exp(sigma_a)\n",
    "    sigma_v = np.exp(sigma_v)\n",
    "    l_av = []\n",
    "    \n",
    "    l_a = np.prod([gauss_likelihood_a_v(j + 1, sigma_a, c_a, d[0][j]) for j in range(0, 20)])\n",
    "    l_v = np.prod([gauss_likelihood_a_v(j + 1, sigma_v, c_v, d[1][j]) for j in range(0, 20)])\n",
    "    print(l_a, l_v)\n",
    "    for i in range(0, 6):\n",
    "        for j in range(0, 20):\n",
    "            l_av.append(gauss_likelihood_av(j + 1, i + 1, sigma_a, sigma_v, c_a, c_v, d[i+2][j]))\n",
    "            \n",
    "    return -np.log(np.prod([l_a, l_v, np.prod(l_av)]))"
   ]
  },
  {
   "cell_type": "code",
   "execution_count": 65,
   "metadata": {},
   "outputs": [],
   "source": [
    "from scipy.stats import norm\n",
    "import math\n",
    "import scipy\n",
    "\n",
    "NUM_RESPONSES = 20\n",
    "\n",
    "def softmax(theta):\n",
    "    return (np.exp(theta) / (np.exp(theta) + 1))\n",
    "\n",
    "def pdf_a_v(mu, sigma, c):\n",
    "    return norm.pdf(mu, sigma)\n",
    "\n",
    "def avs(mu_a, mu_v, sigma_a, sigma_v):\n",
    "    mu_av = (sigma_v ** 2 / (sigma_a ** 2 + sigma_v ** 2)) * mu_a + (1 -(sigma_a ** 2 / (sigma_a ** 2 + sigma_v ** 2))) * mu_v\n",
    "    sigma_av = math.sqrt((sigma_a ** 2 + sigma_v ** 2) / (sigma_a ** 2 * sigma_v ** 2))\n",
    "    return mu_av, sigma_av"
   ]
  },
  {
   "cell_type": "code",
   "execution_count": null,
   "metadata": {},
   "outputs": [],
   "source": [
    "def maxmize_precision(xas, xvs, sigma):\n",
    "    mu_avs = []\n",
    "    sigma_avs = []\n",
    "    for i in range(2):\n",
    "        mu_av, sigma_av = avs(xas[i], xvs[i], sigma[0], sigma[1])\n",
    "        mu_avs.append(mu_av)\n",
    "        sigma_avs.append(sigma_av)\n",
    "    \n",
    "    \n",
    "    return sigma_avs"
   ]
  },
  {
   "cell_type": "code",
   "execution_count": null,
   "metadata": {},
   "outputs": [],
   "source": []
  },
  {
   "cell_type": "code",
   "execution_count": null,
   "metadata": {},
   "outputs": [],
   "source": []
  },
  {
   "cell_type": "code",
   "execution_count": null,
   "metadata": {},
   "outputs": [],
   "source": []
  },
  {
   "cell_type": "code",
   "execution_count": null,
   "metadata": {},
   "outputs": [],
   "source": []
  },
  {
   "cell_type": "code",
   "execution_count": 66,
   "metadata": {},
   "outputs": [],
   "source": [
    "def log_likelihood_gaussian(params, d):\n",
    "    x_a0, x_a30, x_v0, x_v30, sigma_a, sigma_v = params\n",
    "    mus_a = [x_a0, x_a30]\n",
    "    mus_v = [x_v0, x_v30]\n",
    "    sigma_a = np.exp(sigma_a)\n",
    "    sigma_v = np.exp(sigma_v)\n",
    "    l_av = []\n",
    "    \n",
    "    l_a = np.prod([gauss_likelihood_a_v(j + 1, sigma_a, d[0][j]) for j in range(0, 20)])\n",
    "    l_v = np.prod([gauss_likelihood_a_v(j + 1, sigma_v, d[1][j]) for j in range(0, 20)])\n",
    "    print(l_a, l_v)\n",
    "    for i in range(0, 6):\n",
    "        for j in range(0, 20):\n",
    "            l_av.append(gauss_likelihood_av(j + 1, i + 1, sigma_a, sigma_v, d[i+2][j]))\n",
    "            \n",
    "    return -np.log(np.prod([l_a, l_v, np.prod(l_av)]))"
   ]
  },
  {
   "cell_type": "code",
   "execution_count": null,
   "metadata": {},
   "outputs": [],
   "source": [
    "def gauss_likelihood_a_v(mu, sigma, x):\n",
    "    return scipy.special.binom(NUM_RESPONSES, x) * cdf_a_v(mu, sigma)**x * (1 - cdf_a_v(mu, sigma))**(NUM_RESPONSES - x)\n",
    "\n",
    "def gauss_likelihood_av(mu_a, mu_v, sigma_a, sigma_v, c_a, c_v, x):\n",
    "    return scipy.special.binom(NUM_RESPONSES, x) * cdf_av(mu_a, mu_v, sigma_a, sigma_v, c_a, c_v) ** x * (1 - cdf_av(mu_a, mu_v, sigma_a, sigma_v, c_a, c_v)) ** (NUM_RESPONSES - x)"
   ]
  },
  {
   "cell_type": "code",
   "execution_count": 67,
   "metadata": {},
   "outputs": [
    {
     "name": "stdout",
     "output_type": "stream",
     "text": [
      "0.0 0.0\n",
      "0.0 0.0\n",
      "0.0 0.0\n",
      "0.0 0.0\n",
      "0.0 0.0\n"
     ]
    },
    {
     "name": "stderr",
     "output_type": "stream",
     "text": [
      "/var/folders/p7/1qllz46s60lfswf2l4vv4qtr0000gn/T/ipykernel_19297/2187567351.py:16: RuntimeWarning: divide by zero encountered in log\n",
      "  return -np.log(np.prod([l_a, l_v, np.prod(l_av)]))\n"
     ]
    },
    {
     "data": {
      "text/plain": [
       "      fun: inf\n",
       " hess_inv: array([[1, 0, 0, 0],\n",
       "       [0, 1, 0, 0],\n",
       "       [0, 0, 1, 0],\n",
       "       [0, 0, 0, 1]])\n",
       "      jac: array([nan, nan, nan, nan])\n",
       "  message: 'NaN result encountered.'\n",
       "     nfev: 5\n",
       "      nit: 0\n",
       "     njev: 1\n",
       "   status: 3\n",
       "  success: False\n",
       "        x: array([0.96965097, 0.94601456, 0.46813133, 0.47553534])"
      ]
     },
     "execution_count": 67,
     "metadata": {},
     "output_type": "execute_result"
    }
   ],
   "source": [
    "from scipy.optimize import minimize\n",
    "s_mle_0 = minimize(log_likelihood_gaussian, np.random.uniform(size=4), data)\n",
    "s_mle_0"
   ]
  },
  {
   "cell_type": "code",
   "execution_count": null,
   "metadata": {},
   "outputs": [],
   "source": []
  }
 ],
 "metadata": {
  "kernelspec": {
   "display_name": "Python 3.10.6 64-bit",
   "language": "python",
   "name": "python3"
  },
  "language_info": {
   "codemirror_mode": {
    "name": "ipython",
    "version": 3
   },
   "file_extension": ".py",
   "mimetype": "text/x-python",
   "name": "python",
   "nbconvert_exporter": "python",
   "pygments_lexer": "ipython3",
   "version": "3.10.6"
  },
  "orig_nbformat": 4,
  "vscode": {
   "interpreter": {
    "hash": "b0fa6594d8f4cbf19f97940f81e996739fb7646882a419484c72d19e05852a7e"
   }
  }
 },
 "nbformat": 4,
 "nbformat_minor": 2
}
