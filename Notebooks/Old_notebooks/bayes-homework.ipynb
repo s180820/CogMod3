{
 "cells": [
  {
   "cell_type": "code",
   "execution_count": 3,
   "id": "d23466b5",
   "metadata": {},
   "outputs": [],
   "source": [
    "import pandas as pd\n",
    "import numpy as np\n",
    "import scipy.special\n",
    "from scipy.optimize import minimize\n",
    "import math"
   ]
  },
  {
   "cell_type": "code",
   "execution_count": 8,
   "id": "43a5122d",
   "metadata": {},
   "outputs": [],
   "source": [
    "NUM_RESPONSES = 24"
   ]
  },
  {
   "cell_type": "code",
   "execution_count": 4,
   "id": "fb096e07",
   "metadata": {},
   "outputs": [],
   "source": [
    "def log_likelihood(thetas, data):\n",
    "    l_av = []\n",
    "    \n",
    "    l_a = np.prod([binom_likelihood_a_v(thetas[j], data[0][j]) for j in range(0, 5)])\n",
    "    l_v = np.prod([binom_likelihood_a_v(thetas[j+5], data[1][j]) for j in range(0, 5)])\n",
    "\n",
    "    for i in range(0, 5):\n",
    "        for j in range(0, 5):\n",
    "            l_av.append(binom_likelihood_av((thetas[i + 5], thetas[j]), data[i+2][j]))\n",
    "            \n",
    "    return -np.log(np.prod([l_a, l_v, np.prod(l_av)]))"
   ]
  },
  {
   "cell_type": "markdown",
   "id": "04c379f5",
   "metadata": {},
   "source": [
    "$$s = \\frac{e^\\theta}{e^\\theta + 1}$$"
   ]
  },
  {
   "cell_type": "code",
   "execution_count": 5,
   "id": "7a89eb6e",
   "metadata": {},
   "outputs": [],
   "source": [
    "def softmax(theta):\n",
    "    return (np.exp(theta) / (np.exp(theta) + 1))"
   ]
  },
  {
   "cell_type": "markdown",
   "id": "2cd937c8",
   "metadata": {},
   "source": [
    "$$\\binom{N}{x} s^x  (1 - s)^{(N-x)}$$"
   ]
  },
  {
   "cell_type": "code",
   "execution_count": 6,
   "id": "4d692205",
   "metadata": {},
   "outputs": [],
   "source": [
    "def binom_likelihood_a_v(theta, x):\n",
    "    return scipy.special.binom(NUM_RESPONSES, x) * softmax(theta)**x * (1 - softmax(theta))**(NUM_RESPONSES - x)"
   ]
  },
  {
   "cell_type": "markdown",
   "id": "c96d6185",
   "metadata": {},
   "source": [
    "$$\\binom{N}{x} p^x  (1 - p)^{(N-x)}$$"
   ]
  },
  {
   "cell_type": "code",
   "execution_count": 7,
   "id": "01d718ef",
   "metadata": {},
   "outputs": [],
   "source": [
    "def binom_likelihood_av(thetas, x):\n",
    "    return scipy.special.binom(NUM_RESPONSES, x) * p_av(thetas) ** x * (1 - p_av(thetas)) ** (NUM_RESPONSES - x) "
   ]
  },
  {
   "cell_type": "markdown",
   "id": "ee1be64f",
   "metadata": {},
   "source": [
    "$$p = \\frac{s(\\theta_A) s(\\theta_V)}{s(\\theta_A) s(\\theta_V) + (1 - s(\\theta_A))(1 - s(\\theta_V))}$$"
   ]
  },
  {
   "cell_type": "code",
   "execution_count": 8,
   "id": "78a41109",
   "metadata": {},
   "outputs": [],
   "source": [
    "def p_av(thetas):\n",
    "    return (softmax(thetas[0]) * softmax(thetas[1])) / (softmax(thetas[0]) * softmax(thetas[1]) + \n",
    "        (1 - softmax(thetas[0])) * (1 - softmax(thetas[1])))"
   ]
  },
  {
   "cell_type": "code",
   "execution_count": 6,
   "id": "ff22476b",
   "metadata": {},
   "outputs": [
    {
     "data": {
      "text/plain": [
       "array([[ 0,  2,  4, 24, 24],\n",
       "       [ 0, 17, 24, 24, 24],\n",
       "       [ 0,  0,  0, 10, 14],\n",
       "       [ 4,  8,  7, 20, 22],\n",
       "       [ 9, 15, 19, 24, 24],\n",
       "       [14, 17, 22, 24, 24],\n",
       "       [14, 19, 23, 24, 24]])"
      ]
     },
     "execution_count": 6,
     "metadata": {},
     "output_type": "execute_result"
    }
   ],
   "source": [
    "data = np.array([pd.read_csv(\"data/DataSub{}.txt\".format(i), header = None, sep= \"\\s+\") for i in range(1,6)], dtype=int)\n",
    "data[0]"
   ]
  },
  {
   "cell_type": "code",
   "execution_count": 10,
   "id": "0f01042f",
   "metadata": {},
   "outputs": [],
   "source": [
    "s0 = minimize(log_likelihood, np.random.uniform(size=10), data[0])"
   ]
  },
  {
   "cell_type": "code",
   "execution_count": 11,
   "id": "46f85639",
   "metadata": {
    "scrolled": true
   },
   "outputs": [
    {
     "data": {
      "text/plain": [
       "(array([-3.31249984, -2.29406402, -1.51871253,  2.45673704,  3.21447961,\n",
       "        -2.97398178,  0.84074966,  2.90905781,  3.5835505 ,  3.82602048]),\n",
       " 47.341626079778244)"
      ]
     },
     "execution_count": 11,
     "metadata": {},
     "output_type": "execute_result"
    }
   ],
   "source": [
    "(s0.x, s0.fun)"
   ]
  },
  {
   "cell_type": "code",
   "execution_count": 12,
   "id": "b64ff524",
   "metadata": {},
   "outputs": [],
   "source": [
    "s1 = minimize(log_likelihood, np.random.uniform(size=10), data[1])"
   ]
  },
  {
   "cell_type": "code",
   "execution_count": 13,
   "id": "251e45a9",
   "metadata": {},
   "outputs": [
    {
     "data": {
      "text/plain": [
       "(array([-3.68435531, -1.83171133, -0.32485497,  2.57849203,  4.829168  ,\n",
       "        -5.2910906 ,  0.91128169,  3.20199738,  5.08540099,  5.87272272]),\n",
       " 32.98836229400522)"
      ]
     },
     "execution_count": 13,
     "metadata": {},
     "output_type": "execute_result"
    }
   ],
   "source": [
    "(s1.x, s1.fun)"
   ]
  },
  {
   "cell_type": "code",
   "execution_count": 14,
   "id": "639d3c3f",
   "metadata": {},
   "outputs": [],
   "source": [
    "s2 = minimize(log_likelihood, np.random.uniform(size=10), data[2])"
   ]
  },
  {
   "cell_type": "code",
   "execution_count": 15,
   "id": "911de8eb",
   "metadata": {},
   "outputs": [
    {
     "data": {
      "text/plain": [
       "(array([-2.64514226, -1.73949361, -0.68846137,  2.61508783,  5.40708289,\n",
       "        -1.99842867,  0.25290933,  1.54162953,  2.36808207,  2.61909763]),\n",
       " 53.381625302883755)"
      ]
     },
     "execution_count": 15,
     "metadata": {},
     "output_type": "execute_result"
    }
   ],
   "source": [
    "(s2.x, s2.fun)"
   ]
  },
  {
   "cell_type": "code",
   "execution_count": 16,
   "id": "c3910ddb",
   "metadata": {},
   "outputs": [],
   "source": [
    "s3 = minimize(log_likelihood, np.random.uniform(size=10), data[3])"
   ]
  },
  {
   "cell_type": "code",
   "execution_count": 17,
   "id": "16c834cd",
   "metadata": {},
   "outputs": [
    {
     "data": {
      "text/plain": [
       "(array([-4.11520081, -3.10551217, -2.04203934,  2.25480795,  4.62330709,\n",
       "        -2.51613162, -1.19431655, -0.30726338,  1.25651197,  2.12220312]),\n",
       " 46.90895921308356)"
      ]
     },
     "execution_count": 17,
     "metadata": {},
     "output_type": "execute_result"
    }
   ],
   "source": [
    "(s3.x, s3.fun)"
   ]
  },
  {
   "cell_type": "code",
   "execution_count": 18,
   "id": "7ddb9345",
   "metadata": {},
   "outputs": [],
   "source": [
    "s4 = minimize(log_likelihood, np.random.uniform(size=10), data[4])"
   ]
  },
  {
   "cell_type": "code",
   "execution_count": 19,
   "id": "310f7ba5",
   "metadata": {},
   "outputs": [
    {
     "data": {
      "text/plain": [
       "(array([-5.43242822, -3.92658249, -1.41518824,  2.91516232,  6.2408824 ,\n",
       "        -3.00499879,  0.42307472,  1.72985653,  2.4227969 ,  3.04850152]),\n",
       " 42.81412495452377)"
      ]
     },
     "execution_count": 19,
     "metadata": {},
     "output_type": "execute_result"
    }
   ],
   "source": [
    "(s4.x, s4.fun)"
   ]
  },
  {
   "cell_type": "markdown",
   "id": "5145595e",
   "metadata": {},
   "source": [
    "### Scatterplot"
   ]
  },
  {
   "cell_type": "code",
   "execution_count": 20,
   "id": "1d3f2640",
   "metadata": {},
   "outputs": [],
   "source": [
    "import matplotlib.pyplot as plt\n"
   ]
  },
  {
   "cell_type": "code",
   "execution_count": 21,
   "id": "d5ece93e",
   "metadata": {},
   "outputs": [],
   "source": [
    "def calculate_p_flmp(subject):\n",
    "    ps = []\n",
    "    for s in subject:\n",
    "        p = list(softmax(s.x[0:5])) + list(softmax(s.x[5:10]))\n",
    "\n",
    "        for i in range(0, 5):\n",
    "            for j in range(0, 5):\n",
    "                p.append(p_av((s.x[i + 5], s.x[j])))\n",
    "        ps.append(p)\n",
    "    return ps"
   ]
  },
  {
   "cell_type": "code",
   "execution_count": 22,
   "id": "6058d34f",
   "metadata": {},
   "outputs": [],
   "source": [
    "ps = calculate_p_flmp([s0,s1,s2,s3,s4])"
   ]
  },
  {
   "cell_type": "code",
   "execution_count": 23,
   "id": "257d257d",
   "metadata": {},
   "outputs": [
    {
     "data": {
      "text/plain": [
       "Text(0, 0.5, 'Proportions')"
      ]
     },
     "execution_count": 23,
     "metadata": {},
     "output_type": "execute_result"
    },
    {
     "data": {
      "image/png": "[encoded data removed]",
      "text/plain": [
       "<Figure size 432x288 with 1 Axes>"
      ]
     },
     "metadata": {
      "needs_background": "light"
     },
     "output_type": "display_data"
    }
   ],
   "source": [
    "plt.figure()    \n",
    "plt.scatter(ps[0], (data[0]/24).reshape((35,1)))\n",
    "plt.title('Subject 1')\n",
    "plt.xlabel('Estimated probability')\n",
    "plt.ylabel('Proportions')"
   ]
  },
  {
   "cell_type": "code",
   "execution_count": 100,
   "id": "55c9dd55",
   "metadata": {},
   "outputs": [
    {
     "data": {
      "text/plain": [
       "0.983052014545914"
      ]
     },
     "execution_count": 100,
     "metadata": {},
     "output_type": "execute_result"
    }
   ],
   "source": [
    "(np.corrcoef(ps[0], (data[0]/24).reshape((35,1)).flatten().tolist())[0,1])**2"
   ]
  },
  {
   "cell_type": "code",
   "execution_count": 24,
   "id": "290b0c4d",
   "metadata": {},
   "outputs": [
    {
     "data": {
      "text/plain": [
       "Text(0, 0.5, 'Proportions')"
      ]
     },
     "execution_count": 24,
     "metadata": {},
     "output_type": "execute_result"
    },
    {
     "data": {
      "image/png": "[encoded data removed]",
      "text/plain": [
       "<Figure size 432x288 with 1 Axes>"
      ]
     },
     "metadata": {
      "needs_background": "light"
     },
     "output_type": "display_data"
    }
   ],
   "source": [
    "plt.figure()    \n",
    "plt.scatter(ps[1], (data[1]/24).reshape((35,1)))\n",
    "plt.title('Subject 2')\n",
    "plt.xlabel('Estimated probability')\n",
    "plt.ylabel('Proportions')"
   ]
  },
  {
   "cell_type": "code",
   "execution_count": 101,
   "id": "0a537f71",
   "metadata": {},
   "outputs": [
    {
     "data": {
      "text/plain": [
       "0.9909637244632283"
      ]
     },
     "execution_count": 101,
     "metadata": {},
     "output_type": "execute_result"
    }
   ],
   "source": [
    "(np.corrcoef(ps[1], (data[1]/24).reshape((35,1)).flatten().tolist())[0,1])**2"
   ]
  },
  {
   "cell_type": "code",
   "execution_count": 25,
   "id": "7689d980",
   "metadata": {},
   "outputs": [
    {
     "data": {
      "text/plain": [
       "Text(0, 0.5, 'Proportions')"
      ]
     },
     "execution_count": 25,
     "metadata": {},
     "output_type": "execute_result"
    },
    {
     "data": {
      "image/png": "[encoded data removed]",
      "text/plain": [
       "<Figure size 432x288 with 1 Axes>"
      ]
     },
     "metadata": {
      "needs_background": "light"
     },
     "output_type": "display_data"
    }
   ],
   "source": [
    "plt.figure()    \n",
    "plt.scatter(ps[2], (data[2]/24).reshape((35,1)))\n",
    "plt.title('Subject 3')\n",
    "plt.xlabel('Estimated probability')\n",
    "plt.ylabel('Proportions')"
   ]
  },
  {
   "cell_type": "code",
   "execution_count": 102,
   "id": "52b33c85",
   "metadata": {},
   "outputs": [
    {
     "data": {
      "text/plain": [
       "0.9670660908411554"
      ]
     },
     "execution_count": 102,
     "metadata": {},
     "output_type": "execute_result"
    }
   ],
   "source": [
    "(np.corrcoef(ps[2], (data[2]/24).reshape((35,1)).flatten().tolist())[0,1])**2"
   ]
  },
  {
   "cell_type": "code",
   "execution_count": 26,
   "id": "790ab5da",
   "metadata": {},
   "outputs": [
    {
     "data": {
      "text/plain": [
       "Text(0, 0.5, 'Proportions')"
      ]
     },
     "execution_count": 26,
     "metadata": {},
     "output_type": "execute_result"
    },
    {
     "data": {
      "image/png": "[encoded data removed]",
      "text/plain": [
       "<Figure size 432x288 with 1 Axes>"
      ]
     },
     "metadata": {
      "needs_background": "light"
     },
     "output_type": "display_data"
    }
   ],
   "source": [
    "plt.figure()    \n",
    "plt.scatter(ps[3], (data[3]/24).reshape((35,1)))\n",
    "plt.title('Subject 4')\n",
    "plt.xlabel('Estimated probability')\n",
    "plt.ylabel('Proportions')"
   ]
  },
  {
   "cell_type": "code",
   "execution_count": 103,
   "id": "1b0a860a",
   "metadata": {},
   "outputs": [
    {
     "data": {
      "text/plain": [
       "0.9907212112711169"
      ]
     },
     "execution_count": 103,
     "metadata": {},
     "output_type": "execute_result"
    }
   ],
   "source": [
    "(np.corrcoef(ps[3], (data[3]/24).reshape((35,1)).flatten().tolist())[0,1])**2"
   ]
  },
  {
   "cell_type": "code",
   "execution_count": 27,
   "id": "55e97240",
   "metadata": {},
   "outputs": [
    {
     "data": {
      "text/plain": [
       "Text(0, 0.5, 'Proportions')"
      ]
     },
     "execution_count": 27,
     "metadata": {},
     "output_type": "execute_result"
    },
    {
     "data": {
      "image/png": "[encoded data removed]",
      "text/plain": [
       "<Figure size 432x288 with 1 Axes>"
      ]
     },
     "metadata": {
      "needs_background": "light"
     },
     "output_type": "display_data"
    }
   ],
   "source": [
    "plt.figure()    \n",
    "plt.scatter(ps[4], (data[4]/24).reshape((35,1)))\n",
    "plt.title('Subject 5')\n",
    "plt.xlabel('Estimated probability')\n",
    "plt.ylabel('Proportions')"
   ]
  },
  {
   "cell_type": "code",
   "execution_count": 104,
   "id": "ceb3ebfe",
   "metadata": {},
   "outputs": [
    {
     "data": {
      "text/plain": [
       "0.9890422442668213"
      ]
     },
     "execution_count": 104,
     "metadata": {},
     "output_type": "execute_result"
    }
   ],
   "source": [
    "(np.corrcoef(ps[4], (data[4]/24).reshape((35,1)).flatten().tolist())[0,1])**2"
   ]
  },
  {
   "cell_type": "markdown",
   "id": "bd3d1a11",
   "metadata": {},
   "source": [
    "# PART 2"
   ]
  },
  {
   "cell_type": "code",
   "execution_count": 28,
   "id": "1e7c9d02",
   "metadata": {},
   "outputs": [],
   "source": [
    "from scipy.stats import norm"
   ]
  },
  {
   "cell_type": "code",
   "execution_count": 29,
   "id": "50bc3370",
   "metadata": {},
   "outputs": [],
   "source": [
    "def cdf_a_v(mu, sigma, c):\n",
    "    return norm.cdf(mu, c, sigma)\n",
    "\n",
    "def cdf_av(mu_a, mu_v, sigma_a, sigma_v, c_a, c_v):\n",
    "    mu_av = (sigma_v ** 2 / (sigma_a ** 2 + sigma_v ** 2)) * (mu_a - c_a) + (sigma_a ** 2 / (sigma_a ** 2 + sigma_v ** 2)) * (mu_v - c_v)\n",
    "    sigma_av = math.sqrt((sigma_a ** 2 * sigma_v ** 2) / (sigma_a ** 2 + sigma_v ** 2))\n",
    "    return norm.cdf(mu_av/sigma_av)"
   ]
  },
  {
   "cell_type": "code",
   "execution_count": 30,
   "id": "fe5711e9",
   "metadata": {},
   "outputs": [],
   "source": [
    "def gauss_likelihood_a_v(mu, sigma, c, x):\n",
    "    return scipy.special.binom(NUM_RESPONSES, x) * cdf_a_v(mu, sigma, c)**x * (1 - cdf_a_v(mu, sigma, c))**(NUM_RESPONSES - x)\n",
    "\n",
    "def gauss_likelihood_av(mu_a, mu_v, sigma_a, sigma_v, c_a, c_v, x):\n",
    "    return scipy.special.binom(NUM_RESPONSES, x) * cdf_av(mu_a, mu_v, sigma_a, sigma_v, c_a, c_v) ** x * (1 - cdf_av(mu_a, mu_v, sigma_a, sigma_v, c_a, c_v)) ** (NUM_RESPONSES - x)"
   ]
  },
  {
   "cell_type": "code",
   "execution_count": 31,
   "id": "392cb4fe",
   "metadata": {},
   "outputs": [],
   "source": [
    "def log_likelihood_gaussian(params, d):\n",
    "    c_a, c_v, sigma_a, sigma_v = params\n",
    "    sigma_a = np.exp(sigma_a)\n",
    "    sigma_v = np.exp(sigma_v)\n",
    "    l_av = []\n",
    "    \n",
    "    l_a = np.prod([gauss_likelihood_a_v(j + 1, sigma_a, c_a, d[0][j]) for j in range(0, 5)])\n",
    "    l_v = np.prod([gauss_likelihood_a_v(j + 1, sigma_v, c_v, d[1][j]) for j in range(0, 5)])\n",
    "\n",
    "    for i in range(0, 5):\n",
    "        for j in range(0, 5):\n",
    "            l_av.append(gauss_likelihood_av(j + 1, i + 1, sigma_a, sigma_v, c_a, c_v, d[i+2][j]))\n",
    "            \n",
    "    return -np.log(np.prod([l_a, l_v, np.prod(l_av)]))"
   ]
  },
  {
   "cell_type": "code",
   "execution_count": 32,
   "id": "31148561",
   "metadata": {},
   "outputs": [
    {
     "name": "stderr",
     "output_type": "stream",
     "text": [
      "/var/folders/bq/3gyftpdn1jj45c_b7cpcjr200000gn/T/ipykernel_2765/4229261807.py:14: RuntimeWarning: divide by zero encountered in log\n",
      "  return -np.log(np.prod([l_a, l_v, np.prod(l_av)]))\n",
      "/Users/alejandro/src/github.com/alexrs/dtu-cognitive-modelling/bayes-homework/lib/python3.9/site-packages/scipy/optimize/_numdiff.py:557: RuntimeWarning: invalid value encountered in subtract\n",
      "  df = fun(x) - f0\n",
      "/var/folders/bq/3gyftpdn1jj45c_b7cpcjr200000gn/T/ipykernel_2765/4229261807.py:14: RuntimeWarning: divide by zero encountered in log\n",
      "  return -np.log(np.prod([l_a, l_v, np.prod(l_av)]))\n",
      "/var/folders/bq/3gyftpdn1jj45c_b7cpcjr200000gn/T/ipykernel_2765/4229261807.py:14: RuntimeWarning: divide by zero encountered in log\n",
      "  return -np.log(np.prod([l_a, l_v, np.prod(l_av)]))\n",
      "/Users/alejandro/src/github.com/alexrs/dtu-cognitive-modelling/bayes-homework/lib/python3.9/site-packages/scipy/optimize/_numdiff.py:557: RuntimeWarning: invalid value encountered in subtract\n",
      "  df = fun(x) - f0\n",
      "/var/folders/bq/3gyftpdn1jj45c_b7cpcjr200000gn/T/ipykernel_2765/4229261807.py:14: RuntimeWarning: divide by zero encountered in log\n",
      "  return -np.log(np.prod([l_a, l_v, np.prod(l_av)]))\n"
     ]
    },
    {
     "data": {
      "text/plain": [
       "      fun: 72.80160664670242\n",
       " hess_inv: array([[ 0.01549901, -0.01079341,  0.00079718,  0.0003531 ],\n",
       "       [-0.01079341,  0.01278183,  0.00031146, -0.00039515],\n",
       "       [ 0.00079718,  0.00031146,  0.00402766,  0.00313545],\n",
       "       [ 0.0003531 , -0.00039515,  0.00313545,  0.00347319]])\n",
       "      jac: array([ 9.53674316e-07, -1.90734863e-06, -5.72204590e-06,  1.23977661e-05])\n",
       "  message: 'Desired error not necessarily achieved due to precision loss.'\n",
       "     nfev: 291\n",
       "      nit: 18\n",
       "     njev: 55\n",
       "   status: 2\n",
       "  success: False\n",
       "        x: array([ 3.31169203,  1.85769064, -0.10208323, -0.1332647 ])"
      ]
     },
     "execution_count": 32,
     "metadata": {},
     "output_type": "execute_result"
    }
   ],
   "source": [
    "s_mle_0 = minimize(log_likelihood_gaussian, np.random.uniform(size=4), data[0])\n",
    "s_mle_0"
   ]
  },
  {
   "cell_type": "code",
   "execution_count": 33,
   "id": "4812e498",
   "metadata": {},
   "outputs": [
    {
     "name": "stderr",
     "output_type": "stream",
     "text": [
      "/var/folders/bq/3gyftpdn1jj45c_b7cpcjr200000gn/T/ipykernel_2765/4229261807.py:14: RuntimeWarning: divide by zero encountered in log\n",
      "  return -np.log(np.prod([l_a, l_v, np.prod(l_av)]))\n",
      "/Users/alejandro/src/github.com/alexrs/dtu-cognitive-modelling/bayes-homework/lib/python3.9/site-packages/scipy/optimize/_numdiff.py:557: RuntimeWarning: invalid value encountered in subtract\n",
      "  df = fun(x) - f0\n"
     ]
    },
    {
     "data": {
      "text/plain": [
       "      fun: 55.07570757998339\n",
       " hess_inv: array([[ 0.01303968, -0.00610079,  0.00062148,  0.00046213],\n",
       "       [-0.00610079,  0.00610178, -0.00041236, -0.00078123],\n",
       "       [ 0.00062148, -0.00041236,  0.00537703,  0.00415273],\n",
       "       [ 0.00046213, -0.00078123,  0.00415273,  0.00428977]])\n",
       "      jac: array([9.53674316e-07, 2.86102295e-06, 2.86102295e-06, 0.00000000e+00])\n",
       "  message: 'Optimization terminated successfully.'\n",
       "     nfev: 115\n",
       "      nit: 16\n",
       "     njev: 23\n",
       "   status: 0\n",
       "  success: True\n",
       "        x: array([ 3.02055526,  1.98442428, -0.2731591 , -0.5333263 ])"
      ]
     },
     "execution_count": 33,
     "metadata": {},
     "output_type": "execute_result"
    }
   ],
   "source": [
    "s_mle_1 = minimize(log_likelihood_gaussian, [1,1,1,1], data[1])\n",
    "s_mle_1"
   ]
  },
  {
   "cell_type": "code",
   "execution_count": 34,
   "id": "ec7aa5af",
   "metadata": {},
   "outputs": [
    {
     "data": {
      "text/plain": [
       "      fun: 69.41370636322947\n",
       " hess_inv: array([[ 0.01013238, -0.00936045,  0.00021508, -0.00069269],\n",
       "       [-0.00936045,  0.02079545, -0.00084683, -0.00190569],\n",
       "       [ 0.00021508, -0.00084683,  0.00379089,  0.00338764],\n",
       "       [-0.00069269, -0.00190569,  0.00338764,  0.00494109]])\n",
       "      jac: array([ 5.72204590e-06,  6.67572021e-06, -9.53674316e-06, -9.53674316e-07])\n",
       "  message: 'Optimization terminated successfully.'\n",
       "     nfev: 120\n",
       "      nit: 18\n",
       "     njev: 24\n",
       "   status: 0\n",
       "  success: True\n",
       "        x: array([ 2.9025154 ,  2.0476345 , -0.09581157,  0.12568082])"
      ]
     },
     "execution_count": 34,
     "metadata": {},
     "output_type": "execute_result"
    }
   ],
   "source": [
    "s_mle_2 = minimize(log_likelihood_gaussian, [1,1,1,1], data[2])\n",
    "s_mle_2"
   ]
  },
  {
   "cell_type": "code",
   "execution_count": 35,
   "id": "fd2e9ab0",
   "metadata": {},
   "outputs": [
    {
     "name": "stderr",
     "output_type": "stream",
     "text": [
      "/var/folders/bq/3gyftpdn1jj45c_b7cpcjr200000gn/T/ipykernel_2765/4229261807.py:14: RuntimeWarning: divide by zero encountered in log\n",
      "  return -np.log(np.prod([l_a, l_v, np.prod(l_av)]))\n",
      "/Users/alejandro/src/github.com/alexrs/dtu-cognitive-modelling/bayes-homework/lib/python3.9/site-packages/scipy/optimize/_numdiff.py:557: RuntimeWarning: invalid value encountered in subtract\n",
      "  df = fun(x) - f0\n",
      "/var/folders/bq/3gyftpdn1jj45c_b7cpcjr200000gn/T/ipykernel_2765/4229261807.py:14: RuntimeWarning: divide by zero encountered in log\n",
      "  return -np.log(np.prod([l_a, l_v, np.prod(l_av)]))\n"
     ]
    },
    {
     "data": {
      "text/plain": [
       "      fun: 67.21261014007078\n",
       " hess_inv: array([[ 5.29786278e-03, -6.89304512e-03,  2.53084250e-04,\n",
       "         2.66516176e-04],\n",
       "       [-6.89304512e-03,  2.25931705e-02,  4.75612926e-06,\n",
       "        -7.55340225e-05],\n",
       "       [ 2.53084250e-04,  4.75612926e-06,  3.52361467e-03,\n",
       "         3.54101685e-03],\n",
       "       [ 2.66516176e-04, -7.55340225e-05,  3.54101685e-03,\n",
       "         6.31552658e-03]])\n",
       "      jac: array([-9.53674316e-07, -9.53674316e-07, -9.53674316e-07, -1.90734863e-06])\n",
       "  message: 'Optimization terminated successfully.'\n",
       "     nfev: 139\n",
       "      nit: 20\n",
       "     njev: 27\n",
       "   status: 0\n",
       "  success: True\n",
       "        x: array([ 3.35798124,  3.10656047, -0.36319639,  0.12981738])"
      ]
     },
     "execution_count": 35,
     "metadata": {},
     "output_type": "execute_result"
    }
   ],
   "source": [
    "s_mle_3 = minimize(log_likelihood_gaussian, [1,1,1,1], data[3])\n",
    "s_mle_3"
   ]
  },
  {
   "cell_type": "code",
   "execution_count": 36,
   "id": "bb2c0ee8",
   "metadata": {
    "scrolled": true
   },
   "outputs": [
    {
     "name": "stderr",
     "output_type": "stream",
     "text": [
      "/var/folders/bq/3gyftpdn1jj45c_b7cpcjr200000gn/T/ipykernel_2765/4229261807.py:14: RuntimeWarning: divide by zero encountered in log\n",
      "  return -np.log(np.prod([l_a, l_v, np.prod(l_av)]))\n",
      "/Users/alejandro/src/github.com/alexrs/dtu-cognitive-modelling/bayes-homework/lib/python3.9/site-packages/scipy/optimize/_numdiff.py:557: RuntimeWarning: invalid value encountered in subtract\n",
      "  df = fun(x) - f0\n",
      "/var/folders/bq/3gyftpdn1jj45c_b7cpcjr200000gn/T/ipykernel_2765/4229261807.py:14: RuntimeWarning: divide by zero encountered in log\n",
      "  return -np.log(np.prod([l_a, l_v, np.prod(l_av)]))\n"
     ]
    },
    {
     "data": {
      "text/plain": [
       "      fun: 53.54646159431489\n",
       " hess_inv: array([[ 0.00504052, -0.00595967,  0.00017221, -0.00079148],\n",
       "       [-0.00595967,  0.02065551, -0.00070672, -0.00191377],\n",
       "       [ 0.00017221, -0.00070672,  0.00370752,  0.00381999],\n",
       "       [-0.00079148, -0.00191377,  0.00381999,  0.00608759]])\n",
       "      jac: array([-9.53674316e-07,  9.53674316e-07, -3.33786011e-06,  1.43051147e-06])\n",
       "  message: 'Optimization terminated successfully.'\n",
       "     nfev: 124\n",
       "      nit: 18\n",
       "     njev: 24\n",
       "   status: 0\n",
       "  success: True\n",
       "        x: array([ 3.32445194,  2.07178068, -0.5329072 , -0.07674362])"
      ]
     },
     "execution_count": 36,
     "metadata": {},
     "output_type": "execute_result"
    }
   ],
   "source": [
    "s_mle_4 = minimize(log_likelihood_gaussian, [1,1,1,1], data[4])\n",
    "s_mle_4"
   ]
  },
  {
   "cell_type": "markdown",
   "id": "80c6d21d",
   "metadata": {},
   "source": [
    "## Scatterplot"
   ]
  },
  {
   "cell_type": "code",
   "execution_count": 37,
   "id": "0ce836b5",
   "metadata": {},
   "outputs": [],
   "source": [
    "def calculate_p_mle(subject):\n",
    "    ps_1 = []\n",
    "    for s in subject:\n",
    "        c_a, c_v, sigma_a, sigma_v = s.x\n",
    "        sigma_a = np.exp(sigma_a)\n",
    "        sigma_v = np.exp(sigma_v)\n",
    "        p_1 = []\n",
    "        for i in range(5):\n",
    "            p_1.append(cdf_a_v(i + 1, sigma_a, c_a))\n",
    "\n",
    "        for i in range(5):\n",
    "            p_1.append(cdf_a_v(i + 1, sigma_v, c_v))\n",
    "\n",
    "        for i in range(5):\n",
    "            for j in range(0, 5):\n",
    "                p_1.append(cdf_av(j + 1, i + 1, sigma_a, sigma_v, c_a, c_v))\n",
    "\n",
    "        ps_1.append(p_1)\n",
    "    return ps_1\n",
    "\n"
   ]
  },
  {
   "cell_type": "code",
   "execution_count": 38,
   "id": "3037887f",
   "metadata": {},
   "outputs": [],
   "source": [
    "ps_2 = calculate_p_mle([s_mle_0,s_mle_1,s_mle_2,s_mle_3,s_mle_4])"
   ]
  },
  {
   "cell_type": "code",
   "execution_count": 39,
   "id": "fbc79a31",
   "metadata": {},
   "outputs": [
    {
     "data": {
      "text/plain": [
       "Text(0, 0.5, 'Proportions')"
      ]
     },
     "execution_count": 39,
     "metadata": {},
     "output_type": "execute_result"
    },
    {
     "data": {
      "image/png": "[encoded data removed]",
      "text/plain": [
       "<Figure size 432x288 with 1 Axes>"
      ]
     },
     "metadata": {
      "needs_background": "light"
     },
     "output_type": "display_data"
    }
   ],
   "source": [
    "plt.figure()    \n",
    "plt.scatter(ps_2[0], (data[0]/24).reshape((35,1)))\n",
    "plt.title('Subject 1')\n",
    "plt.xlabel('Estimated probability')\n",
    "plt.ylabel('Proportions')"
   ]
  },
  {
   "cell_type": "code",
   "execution_count": 105,
   "id": "fb1eade1",
   "metadata": {},
   "outputs": [
    {
     "data": {
      "text/plain": [
       "0.9170260948975414"
      ]
     },
     "execution_count": 105,
     "metadata": {},
     "output_type": "execute_result"
    }
   ],
   "source": [
    "(np.corrcoef(ps_2[0], (data[0]/24).reshape((35,1)).flatten().tolist())[0,1])**2"
   ]
  },
  {
   "cell_type": "code",
   "execution_count": 40,
   "id": "58c0af38",
   "metadata": {
    "scrolled": true
   },
   "outputs": [
    {
     "data": {
      "text/plain": [
       "Text(0, 0.5, 'Proportions')"
      ]
     },
     "execution_count": 40,
     "metadata": {},
     "output_type": "execute_result"
    },
    {
     "data": {
      "image/png": "[encoded data removed]",
      "text/plain": [
       "<Figure size 432x288 with 1 Axes>"
      ]
     },
     "metadata": {
      "needs_background": "light"
     },
     "output_type": "display_data"
    }
   ],
   "source": [
    "plt.figure()    \n",
    "plt.scatter(ps_2[1], (data[1]/24).reshape((35,1)))\n",
    "plt.title('Subject 2')\n",
    "plt.xlabel('Estimated probability')\n",
    "plt.ylabel('Proportions')"
   ]
  },
  {
   "cell_type": "code",
   "execution_count": 106,
   "id": "27dc502f",
   "metadata": {},
   "outputs": [
    {
     "data": {
      "text/plain": [
       "0.9515155047548305"
      ]
     },
     "execution_count": 106,
     "metadata": {},
     "output_type": "execute_result"
    }
   ],
   "source": [
    "(np.corrcoef(ps_2[1], (data[1]/24).reshape((35,1)).flatten().tolist())[0,1])**2"
   ]
  },
  {
   "cell_type": "code",
   "execution_count": 41,
   "id": "8a3d7a55",
   "metadata": {},
   "outputs": [
    {
     "data": {
      "text/plain": [
       "Text(0, 0.5, 'Proportions')"
      ]
     },
     "execution_count": 41,
     "metadata": {},
     "output_type": "execute_result"
    },
    {
     "data": {
      "image/png": "[encoded data removed]",
      "text/plain": [
       "<Figure size 432x288 with 1 Axes>"
      ]
     },
     "metadata": {
      "needs_background": "light"
     },
     "output_type": "display_data"
    }
   ],
   "source": [
    "plt.figure()    \n",
    "plt.scatter(ps_2[2], (data[2]/24).reshape((35,1)))\n",
    "plt.title('Subject 3')\n",
    "plt.xlabel('Estimated probability')\n",
    "plt.ylabel('Proportions')"
   ]
  },
  {
   "cell_type": "code",
   "execution_count": 107,
   "id": "e81a671a",
   "metadata": {},
   "outputs": [
    {
     "data": {
      "text/plain": [
       "0.9194533542883164"
      ]
     },
     "execution_count": 107,
     "metadata": {},
     "output_type": "execute_result"
    }
   ],
   "source": [
    "(np.corrcoef(ps_2[2], (data[2]/24).reshape((35,1)).flatten().tolist())[0,1])**2"
   ]
  },
  {
   "cell_type": "code",
   "execution_count": 42,
   "id": "c502c327",
   "metadata": {},
   "outputs": [
    {
     "data": {
      "text/plain": [
       "Text(0, 0.5, 'Proportions')"
      ]
     },
     "execution_count": 42,
     "metadata": {},
     "output_type": "execute_result"
    },
    {
     "data": {
      "image/png": "[encoded data removed]",
      "text/plain": [
       "<Figure size 432x288 with 1 Axes>"
      ]
     },
     "metadata": {
      "needs_background": "light"
     },
     "output_type": "display_data"
    }
   ],
   "source": [
    "plt.figure()    \n",
    "plt.scatter(ps_2[3], (data[3]/24).reshape((35,1)))\n",
    "plt.title('Subject 4')\n",
    "plt.xlabel('Estimated probability')\n",
    "plt.ylabel('Proportions')"
   ]
  },
  {
   "cell_type": "code",
   "execution_count": 108,
   "id": "581b8b1e",
   "metadata": {},
   "outputs": [
    {
     "data": {
      "text/plain": [
       "0.9438552398959568"
      ]
     },
     "execution_count": 108,
     "metadata": {},
     "output_type": "execute_result"
    }
   ],
   "source": [
    "(np.corrcoef(ps_2[3], (data[3]/24).reshape((35,1)).flatten().tolist())[0,1])**2"
   ]
  },
  {
   "cell_type": "code",
   "execution_count": 43,
   "id": "d9f9c416",
   "metadata": {},
   "outputs": [
    {
     "data": {
      "text/plain": [
       "Text(0, 0.5, 'Proportions')"
      ]
     },
     "execution_count": 43,
     "metadata": {},
     "output_type": "execute_result"
    },
    {
     "data": {
      "image/png": "[encoded data removed]",
      "text/plain": [
       "<Figure size 432x288 with 1 Axes>"
      ]
     },
     "metadata": {
      "needs_background": "light"
     },
     "output_type": "display_data"
    }
   ],
   "source": [
    "plt.figure()    \n",
    "plt.scatter(ps_2[4], (data[4]/24).reshape((35,1)))\n",
    "plt.title('Subject 5')\n",
    "plt.xlabel('Estimated probability')\n",
    "plt.ylabel('Proportions')"
   ]
  },
  {
   "cell_type": "code",
   "execution_count": 109,
   "id": "fad407e6",
   "metadata": {},
   "outputs": [
    {
     "data": {
      "text/plain": [
       "0.9737125536166111"
      ]
     },
     "execution_count": 109,
     "metadata": {},
     "output_type": "execute_result"
    }
   ],
   "source": [
    "(np.corrcoef(ps_2[4], (data[4]/24).reshape((35,1)).flatten().tolist())[0,1])**2"
   ]
  },
  {
   "cell_type": "markdown",
   "id": "f519e1fc",
   "metadata": {},
   "source": [
    "# Simulation"
   ]
  },
  {
   "cell_type": "markdown",
   "id": "548fee54",
   "metadata": {},
   "source": [
    "## FLMP"
   ]
  },
  {
   "cell_type": "code",
   "execution_count": 44,
   "id": "a4cd2c91",
   "metadata": {},
   "outputs": [],
   "source": [
    "from scipy.stats import binom"
   ]
  },
  {
   "cell_type": "code",
   "execution_count": 45,
   "id": "ba5f1a3d",
   "metadata": {},
   "outputs": [],
   "source": [
    "def simulate_fmlp(thetas):\n",
    "    m = np.array([[0] * 5] * 7)\n",
    "    var = 0.3\n",
    "    thetas_s = np.ones(10)\n",
    "\n",
    "    for i in range(10):\n",
    "            thetas_s[i] = thetas[i] + np.random.normal(0, var, 1)[0]\n",
    "\n",
    "    m[0] = binom.rvs(NUM_RESPONSES, softmax(thetas_s[:5]))\n",
    "    m[1] = binom.rvs(NUM_RESPONSES, softmax(thetas_s[5:]))\n",
    "\n",
    "    for i in range(5):\n",
    "        for j in range(5):\n",
    "            m[i+2][j] = binom.rvs(NUM_RESPONSES, p_av((thetas_s[i + 5], thetas_s[j])))\n",
    "    return m, thetas_s"
   ]
  },
  {
   "cell_type": "code",
   "execution_count": 46,
   "id": "ca697ace",
   "metadata": {},
   "outputs": [],
   "source": [
    "simulated_flmp = []\n",
    "simulated_flmp.append(simulate_fmlp(s0.x))\n",
    "simulated_flmp.append(simulate_fmlp(s1.x))\n",
    "simulated_flmp.append(simulate_fmlp(s2.x))\n",
    "simulated_flmp.append(simulate_fmlp(s3.x))\n",
    "simulated_flmp.append(simulate_fmlp(s4.x))"
   ]
  },
  {
   "cell_type": "markdown",
   "id": "d19f857d",
   "metadata": {},
   "source": [
    "## MLE"
   ]
  },
  {
   "cell_type": "code",
   "execution_count": 47,
   "id": "bd0c3777",
   "metadata": {},
   "outputs": [],
   "source": [
    "def simulate_mle(params):\n",
    "    c_a, c_v, sigma_a, sigma_v = params\n",
    "    var = 0.3\n",
    "    c_a = c_a + np.random.normal(0, var, 1)[0]\n",
    "    c_v = c_v + np.random.normal(0, var, 1)[0]\n",
    "    sigma_a = np.exp(sigma_a) + np.random.normal(0, var, 1)[0]\n",
    "    sigma_v = np.exp(sigma_v) + np.random.normal(0, var, 1)[0]\n",
    "    \n",
    "    m = np.array([[0] * 5] * 7)\n",
    "    \n",
    "    m[0] = binom.rvs(NUM_RESPONSES, cdf_a_v(list(range(1,6)), sigma_a, c_a))\n",
    "    m[1] = binom.rvs(NUM_RESPONSES, cdf_a_v(list(range(1,6)), sigma_v, c_v))\n",
    "\n",
    "    for i in range(5):\n",
    "        for j in range(5):\n",
    "            m[i+2][j] =  binom.rvs(NUM_RESPONSES, cdf_av(j+1, i+1, sigma_a, sigma_v, c_a, c_v))\n",
    "    return m, [c_a, c_v, sigma_a, sigma_v]"
   ]
  },
  {
   "cell_type": "code",
   "execution_count": 48,
   "id": "b2824451",
   "metadata": {},
   "outputs": [],
   "source": [
    "simulated_mle = []\n",
    "simulated_mle.append(simulate_mle(s_mle_0.x))\n",
    "simulated_mle.append(simulate_mle(s_mle_1.x))\n",
    "simulated_mle.append(simulate_mle(s_mle_2.x))\n",
    "simulated_mle.append(simulate_mle(s_mle_3.x))\n",
    "simulated_mle.append(simulate_mle(s_mle_4.x))"
   ]
  },
  {
   "cell_type": "code",
   "execution_count": 49,
   "id": "555c680f",
   "metadata": {},
   "outputs": [
    {
     "data": {
      "text/plain": [
       "[(array([[ 1,  1,  2, 15, 22],\n",
       "         [ 4, 14, 23, 24, 24],\n",
       "         [ 0,  1,  3,  7, 11],\n",
       "         [ 3,  4,  7, 15, 21],\n",
       "         [ 3,  7, 13, 20, 22],\n",
       "         [12, 14, 22, 24, 24],\n",
       "         [19, 24, 23, 24, 24]]),\n",
       "  [3.885937569195481,\n",
       "   1.7888057218438358,\n",
       "   0.9980811746300432,\n",
       "   0.8991858834438758]),\n",
       " (array([[ 0,  2, 11, 23, 24],\n",
       "         [ 0, 10, 22, 24, 24],\n",
       "         [ 0,  0,  0, 11, 17],\n",
       "         [ 0,  2, 12, 21, 24],\n",
       "         [ 3, 10, 20, 24, 24],\n",
       "         [14, 24, 24, 24, 24],\n",
       "         [21, 24, 24, 24, 24]]),\n",
       "  [2.8453661972781394,\n",
       "   2.3108929541754457,\n",
       "   0.5835731870831592,\n",
       "   0.5536309476906698]),\n",
       " (array([[ 2,  8, 18, 22, 23],\n",
       "         [ 2,  8, 16, 21, 23],\n",
       "         [ 2,  2,  7,  9, 21],\n",
       "         [ 5,  5, 15, 16, 23],\n",
       "         [ 4, 13, 21, 20, 22],\n",
       "         [ 8, 16, 16, 23, 24],\n",
       "         [ 9, 21, 22, 24, 24]]),\n",
       "  [2.5550249963580307,\n",
       "   2.7603614889938957,\n",
       "   1.0646621533973593,\n",
       "   1.3409443999220163]),\n",
       " (array([[ 0,  2, 15, 24, 24],\n",
       "         [ 1,  4, 11, 18, 22],\n",
       "         [ 0,  0,  9, 23, 24],\n",
       "         [ 0,  1,  9, 22, 24],\n",
       "         [ 0,  1, 14, 24, 24],\n",
       "         [ 0,  2, 12, 23, 24],\n",
       "         [ 0,  6, 19, 24, 24]]),\n",
       "  [2.8124322835817686,\n",
       "   3.24433497479597,\n",
       "   0.5500832648311713,\n",
       "   1.2465859704563644]),\n",
       " (array([[ 0,  1,  4, 24, 24],\n",
       "         [ 3,  7, 18, 24, 24],\n",
       "         [ 0,  0,  3, 18, 24],\n",
       "         [ 0,  0,  3, 18, 24],\n",
       "         [ 0,  1, 12, 23, 24],\n",
       "         [ 1,  2, 11, 23, 24],\n",
       "         [ 0,  7, 21, 24, 24]]),\n",
       "  [3.3684859225686963,\n",
       "   2.3410895616149605,\n",
       "   0.5438281819503105,\n",
       "   0.8985475997413879])]"
      ]
     },
     "execution_count": 49,
     "metadata": {},
     "output_type": "execute_result"
    }
   ],
   "source": [
    "simulated_mle"
   ]
  },
  {
   "cell_type": "code",
   "execution_count": 50,
   "id": "a91212f4",
   "metadata": {},
   "outputs": [],
   "source": [
    "def conf_matrix():\n",
    "    \n",
    "    subj = 5\n",
    "    log_flmp_flmp = []; log_flmp_mle = []; log_mle_flmp = []; log_mle_mle = [];\n",
    "    \n",
    "    MA = np.zeros((2,2))\n",
    "    \n",
    "    generated_flmp = []; generated_mle = []; parameters_flmp = []; parameters_mle = [];\n",
    "    \n",
    "    for i in range(subj):\n",
    "        generated_flmp.append(simulated_flmp[i][0])\n",
    "        generated_mle.append(simulated_mle[i][0])\n",
    "        parameters_flmp.append(simulated_flmp[i][1])\n",
    "        parameters_mle.append(simulated_mle[i][1])\n",
    "        \n",
    "    \n",
    "    #first one is generated and second one is fitted\n",
    "    for i in range(subj):\n",
    "        log_flmp_flmp.append(log_likelihood(parameters_flmp[i], generated_flmp[i]))\n",
    "        log_flmp_mle.append(log_likelihood_gaussian(parameters_mle[i], generated_flmp[i]))\n",
    "        log_mle_mle.append(log_likelihood_gaussian(parameters_mle[i], generated_mle[i]))\n",
    "        log_mle_flmp.append(log_likelihood(parameters_flmp[i], generated_mle[i]))\n",
    "    \n",
    "    for i in range(subj):\n",
    "                             \n",
    "        if log_flmp_flmp[i] < log_mle_flmp[i]:\n",
    "            MA[0,0] += 1\n",
    "        else:\n",
    "            MA[0,1] += 1\n",
    "                             \n",
    "        if log_mle_mle[i] < log_flmp_mle[i]:\n",
    "            MA[1,1] += 1\n",
    "        else:\n",
    "            MA[1,0] +=1\n",
    "    \n",
    "    return MA\n",
    "        "
   ]
  },
  {
   "cell_type": "code",
   "execution_count": 51,
   "id": "f1f2977e",
   "metadata": {
    "scrolled": true
   },
   "outputs": [
    {
     "name": "stdout",
     "output_type": "stream",
     "text": [
      "[[5. 0.]\n",
      " [0. 5.]]\n"
     ]
    }
   ],
   "source": [
    "MA = conf_matrix()\n",
    "print(MA)"
   ]
  },
  {
   "cell_type": "code",
   "execution_count": 52,
   "id": "cdbd3592",
   "metadata": {},
   "outputs": [
    {
     "name": "stdout",
     "output_type": "stream",
     "text": [
      "3.885937569195481 2.8453661972781394 2.5550249963580307 2.8124322835817686 3.3684859225686963\n",
      "1.7888057218438358 2.3108929541754457 2.7603614889938957 3.24433497479597 2.3410895616149605\n",
      "0.9980811746300432 0.5835731870831592 1.0646621533973593 0.5500832648311713 0.5438281819503105\n",
      "0.8991858834438758 0.5536309476906698 1.3409443999220163 1.2465859704563644 0.8985475997413879\n"
     ]
    }
   ],
   "source": [
    "for i in range(4):\n",
    "    print(simulated_mle[0][1][i],simulated_mle[1][1][i],simulated_mle[2][1][i],simulated_mle[3][1][i],simulated_mle[4][1][i])"
   ]
  },
  {
   "cell_type": "code",
   "execution_count": 53,
   "id": "d3587a7a",
   "metadata": {},
   "outputs": [
    {
     "name": "stdout",
     "output_type": "stream",
     "text": [
      "[[ 1  1  2 15 22]\n",
      " [ 4 14 23 24 24]\n",
      " [ 0  1  3  7 11]\n",
      " [ 3  4  7 15 21]\n",
      " [ 3  7 13 20 22]\n",
      " [12 14 22 24 24]\n",
      " [19 24 23 24 24]]\n"
     ]
    }
   ],
   "source": [
    "print(simulated_mle[0][0])"
   ]
  },
  {
   "cell_type": "markdown",
   "id": "94593169",
   "metadata": {},
   "source": [
    "# Cross Validation"
   ]
  },
  {
   "cell_type": "code",
   "execution_count": 54,
   "id": "201f8cd7",
   "metadata": {},
   "outputs": [],
   "source": [
    "def log_likelihood_gaussian_2(params, d, test):\n",
    "    c_a, c_v, sigma_a, sigma_v = params\n",
    "    sigma_a = np.exp(sigma_a)\n",
    "    sigma_v = np.exp(sigma_v)\n",
    "    l_av = []\n",
    "    \n",
    "    l_a = [gauss_likelihood_a_v(j + 1, sigma_a, c_a, d[0][j]) for j in range(0, 5)]\n",
    "    l_v = [gauss_likelihood_a_v(j + 1, sigma_v, c_v, d[1][j]) for j in range(0, 5)]\n",
    "\n",
    "    for i in range(0, 5):\n",
    "        for j in range(0, 5):\n",
    "            l_av.append(gauss_likelihood_av(j + 1, i + 1, sigma_a, sigma_v, c_a, c_v, d[i+2][j]))\n",
    "           \n",
    "    l = l_a + l_v + l_av\n",
    "    l[test] = 1\n",
    "    return -np.log(np.prod(l))"
   ]
  },
  {
   "cell_type": "code",
   "execution_count": 55,
   "id": "542035a5",
   "metadata": {},
   "outputs": [],
   "source": [
    "def log_likelihood_2(thetas, data, test):\n",
    "    l_av = []\n",
    "    l_a = [binom_likelihood_a_v(thetas[j], data[0][j]) for j in range(0, 5)]\n",
    "    l_v = [binom_likelihood_a_v(thetas[j+5], data[1][j]) for j in range(0, 5)]\n",
    "\n",
    "    for i in range(0, 5):\n",
    "        for j in range(0, 5):\n",
    "            l_av.append(binom_likelihood_av((thetas[i + 5], thetas[j]), data[i+2][j]))\n",
    "            \n",
    "    l = l_a + l_v + l_av\n",
    "    l[test] = 1\n",
    "    return -np.log(np.prod(l))\n",
    "\n"
   ]
  },
  {
   "cell_type": "code",
   "execution_count": 56,
   "id": "6f6dc464",
   "metadata": {},
   "outputs": [],
   "source": [
    "def compute_binom_flme(thetas, data, test):\n",
    "    l_av = []\n",
    "    l_a = [binom_likelihood_a_v(thetas[j], data[0][j]) for j in range(0, 5)]\n",
    "    l_v = [binom_likelihood_a_v(thetas[j+5], data[1][j]) for j in range(0, 5)]\n",
    "\n",
    "    for i in range(0, 5):\n",
    "        for j in range(0, 5):\n",
    "            l_av.append(binom_likelihood_av((thetas[i + 5], thetas[j]), data[i+2][j]))\n",
    "            \n",
    "    l = l_a + l_v + l_av\n",
    "    return -np.log(l[test])\n"
   ]
  },
  {
   "cell_type": "code",
   "execution_count": 57,
   "id": "fe34a1f6",
   "metadata": {},
   "outputs": [],
   "source": [
    "def compute_binom_mle(params, d, test):\n",
    "    c_a, c_v, sigma_a, sigma_v = params\n",
    "    sigma_a = np.exp(sigma_a)\n",
    "    sigma_v = np.exp(sigma_v)\n",
    "    l_av = []\n",
    "    \n",
    "    l_a = [gauss_likelihood_a_v(j + 1, sigma_a, c_a, d[0][j]) for j in range(0, 5)]\n",
    "    l_v = [gauss_likelihood_a_v(j + 1, sigma_v, c_v, d[1][j]) for j in range(0, 5)]\n",
    "\n",
    "    for i in range(0, 5):\n",
    "        for j in range(0, 5):\n",
    "            l_av.append(gauss_likelihood_av(j + 1, i + 1, sigma_a, sigma_v, c_a, c_v, d[i+2][j]))\n",
    "           \n",
    "    l = l_a + l_v + l_av\n",
    "    return -np.log(l[test])"
   ]
  },
  {
   "cell_type": "code",
   "execution_count": 58,
   "id": "6b613107",
   "metadata": {},
   "outputs": [
    {
     "name": "stdout",
     "output_type": "stream",
     "text": [
      "TRAINING ERR DATA 0 [46.4295819941554, 46.06475982402471, 45.77735520776974, 44.75628531036697, 46.235275249016695, 45.94801398398127, 45.59868853893916, 45.949244287378725, 46.64820755719901, 46.80047258352704, 47.29667186877589, 47.21586894567485, 47.06359193083908, 45.03367031024216, 45.35241536918942, 44.396572954354575, 43.07541694139506, 45.388639920077495, 40.54255303709019, 43.91956185199325, 45.47533630739982, 45.484875947524095, 45.70681775822951, 47.22768444495596, 47.2885746526724, 45.499116845157445, 44.872531198141154, 45.917887160792894, 47.28399108793606, 47.31471180944664, 45.294963950947476, 45.58244915843583, 45.795475700562484, 47.296473053919364, 47.320526456792315]\n",
      "TEST ERR DATA 0 66.69455043425332\n"
     ]
    },
    {
     "name": "stderr",
     "output_type": "stream",
     "text": [
      "/var/folders/bq/3gyftpdn1jj45c_b7cpcjr200000gn/T/ipykernel_2765/1189811036.py:12: RuntimeWarning: divide by zero encountered in log\n",
      "  return -np.log(np.prod(l))\n",
      "/Users/alejandro/src/github.com/alexrs/dtu-cognitive-modelling/bayes-homework/lib/python3.9/site-packages/scipy/optimize/_numdiff.py:557: RuntimeWarning: invalid value encountered in subtract\n",
      "  df = fun(x) - f0\n",
      "/var/folders/bq/3gyftpdn1jj45c_b7cpcjr200000gn/T/ipykernel_2765/1189811036.py:12: RuntimeWarning: divide by zero encountered in log\n",
      "  return -np.log(np.prod(l))\n"
     ]
    },
    {
     "name": "stdout",
     "output_type": "stream",
     "text": [
      "TRAINING ERR DATA 1 [31.86611407578094, 31.530921585608997, 30.985977985492735, 30.206616437822216, 32.779660429118245, 32.86203958429584, 30.68790798933097, 31.938705457239376, 32.83639549135921, 32.91967739941372, 32.9853228253077, 32.968856522539284, 32.89795101913769, 31.075290033719604, 30.87705821351027, 30.463227489984664, 30.904202894176606, 29.93701226951347, 26.747435253281164, 32.90861367965229, 30.78184781103187, 30.924043311092362, 31.460327726163364, 32.912926825337486, 32.980529473712956, 31.320045606635368, 32.00053107708952, 32.775520747939744, 32.977053872541155, 32.98717473986853, 30.87117306416728, 32.51938804616366, 32.892578884778146, 32.98322416667624, 32.987822051091534]\n",
      "TEST ERR DATA 1 354.0282489911757\n",
      "TRAINING ERR DATA 2 [51.59767067437534, 49.46760504207944, 51.49290461305743, 51.37666572550434, 53.26717798274754, 51.10365557248472, 51.24911780856675, 51.828300673816265, 50.97510879116956, 52.22699245308904, 51.6191517814154, 52.78403539216318, 51.088805840567, 51.55505327112044, 52.134035763933916, 51.64776845027169, 51.20368302475485, 50.68572786435697, 50.64411211832609, 53.29389389163082, 51.45247245151734, 51.057488012775174, 51.45726772426673, 51.980927700003754, 53.35828428522292, 51.066576833311736, 47.79237659315483, 51.8083603672232, 53.21439485129335, 53.371485871037315, 50.05682140740337, 50.94857806520089, 51.951540237565105, 53.25194300067542, 53.37374666200345]\n",
      "TEST ERR DATA 2 86.87242275032091\n",
      "TRAINING ERR DATA 3 [46.49747146468818, 45.75956081051307, 45.47792027702284, 45.3201842462711, 46.66390519771465, 44.668939511037394, 45.18058148768129, 45.09144004409518, 44.22674146999116, 44.79886877942799, 46.87712766209835, 44.249849590569774, 42.76314559312801, 45.03718167848209, 45.367935737581405, 46.78794191983726, 46.571998110649254, 45.8947463382952, 44.92563896369554, 45.87646642739016, 46.60783889042795, 46.05905183928907, 45.64223050485226, 45.314675255391556, 46.56808843754435, 45.871346515512286, 45.20033376131665, 45.12001653592659, 42.70726232358529, 46.84097345377601, 44.68633542243138, 45.11609424638759, 45.029565195781366, 45.35794981113067, 46.88056881732112]\n",
      "TEST ERR DATA 3 57.38571022373272\n",
      "TRAINING ERR DATA 4 [42.70739837475924, 41.5707395803122, 39.01197042952611, 41.242927586648534, 42.765923600308064, 41.359647900914574, 40.967409670004336, 37.55890455649916, 41.4378718299727, 41.57941255951096, 42.808918260343326, 42.79057643965512, 41.17397674344874, 40.79387994334564, 41.737234235562894, 40.66661243370616, 41.766618182451396, 40.68242095474682, 41.80944699712094, 42.78286429604099, 42.15633917367696, 41.4899135698331, 40.249727183716864, 40.98850585675878, 42.80578804304643, 41.044378445976754, 41.232256520722274, 41.00182836507754, 40.3651316762805, 42.80996717863468, 41.16945807318035, 41.08073177364394, 41.269958761671155, 42.751692371362545, 42.811903920820065]\n",
      "TEST ERR DATA 4 68.9068769074186\n"
     ]
    }
   ],
   "source": [
    "p_4_flme = []\n",
    "\n",
    "for s in range(5):\n",
    "    test_err = []\n",
    "    training_err = []\n",
    "    p_4_flme_s = []\n",
    "    for i in range(35):\n",
    "        m = minimize(log_likelihood_2, np.random.uniform(size=10), args=(data[s], i))\n",
    "        training_err.append(m.fun)\n",
    "        test_err.append(compute_binom_flme(m.x, data[s], i))\n",
    "        p_4_flme_s.append(calculate_p_flmp([m])[0][i])\n",
    "\n",
    "    p_4_flme.append(p_4_flme_s)\n",
    "    print(\"TRAINING ERR DATA\", s , training_err)\n",
    "    print(\"TEST ERR DATA\", s, sum(test_err))"
   ]
  },
  {
   "cell_type": "code",
   "execution_count": 59,
   "id": "4ba72ba5",
   "metadata": {},
   "outputs": [
    {
     "name": "stderr",
     "output_type": "stream",
     "text": [
      "/var/folders/bq/3gyftpdn1jj45c_b7cpcjr200000gn/T/ipykernel_2765/2828207961.py:16: RuntimeWarning: divide by zero encountered in log\n",
      "  return -np.log(np.prod(l))\n",
      "/Users/alejandro/src/github.com/alexrs/dtu-cognitive-modelling/bayes-homework/lib/python3.9/site-packages/scipy/optimize/_numdiff.py:557: RuntimeWarning: invalid value encountered in subtract\n",
      "  df = fun(x) - f0\n",
      "/var/folders/bq/3gyftpdn1jj45c_b7cpcjr200000gn/T/ipykernel_2765/2828207961.py:16: RuntimeWarning: divide by zero encountered in log\n",
      "  return -np.log(np.prod(l))\n",
      "/var/folders/bq/3gyftpdn1jj45c_b7cpcjr200000gn/T/ipykernel_2765/2828207961.py:16: RuntimeWarning: divide by zero encountered in log\n",
      "  return -np.log(np.prod(l))\n",
      "/Users/alejandro/src/github.com/alexrs/dtu-cognitive-modelling/bayes-homework/lib/python3.9/site-packages/scipy/optimize/_numdiff.py:557: RuntimeWarning: invalid value encountered in subtract\n",
      "  df = fun(x) - f0\n",
      "/var/folders/bq/3gyftpdn1jj45c_b7cpcjr200000gn/T/ipykernel_2765/2828207961.py:16: RuntimeWarning: divide by zero encountered in log\n",
      "  return -np.log(np.prod(l))\n"
     ]
    },
    {
     "name": "stdout",
     "output_type": "stream",
     "text": [
      "TRAINING ERR DATA 0 [72.67275121295951, 71.51651685932043, 68.26897620953055, 65.62759327238146, 71.99464604964565, 67.71157183881964, 69.65858381618176, 70.13581050819414, 72.62418767847075, 72.7976350236324, 72.64267068308395, 71.68854145499807, 67.8952698124371, 70.97741507881328, 69.50249781216988, 68.50862609067745, 69.35525590466222, 69.68707072159532, 70.61615170580174, 71.5327933009635, 68.6275064255455, 69.74963971526671, 71.09086501183583, 70.95836104739699, 72.48965495479882, 70.47641111016628, 70.77020004458575, 71.4679943782119, 72.52905419675695, 72.77478518137556, 67.51519682047353, 67.4499898512858, 71.06145554770012, 72.77891942376307, 72.80034879204007]\n",
      "TEST ERR DATA 0 89.29676862879464\n"
     ]
    },
    {
     "name": "stderr",
     "output_type": "stream",
     "text": [
      "/var/folders/bq/3gyftpdn1jj45c_b7cpcjr200000gn/T/ipykernel_2765/2828207961.py:16: RuntimeWarning: divide by zero encountered in log\n",
      "  return -np.log(np.prod(l))\n",
      "/Users/alejandro/src/github.com/alexrs/dtu-cognitive-modelling/bayes-homework/lib/python3.9/site-packages/scipy/optimize/_numdiff.py:557: RuntimeWarning: invalid value encountered in subtract\n",
      "  df = fun(x) - f0\n",
      "/var/folders/bq/3gyftpdn1jj45c_b7cpcjr200000gn/T/ipykernel_2765/2828207961.py:16: RuntimeWarning: divide by zero encountered in log\n",
      "  return -np.log(np.prod(l))\n",
      "/Users/alejandro/src/github.com/alexrs/dtu-cognitive-modelling/bayes-homework/lib/python3.9/site-packages/scipy/optimize/_numdiff.py:557: RuntimeWarning: invalid value encountered in subtract\n",
      "  df = fun(x) - f0\n",
      "/var/folders/bq/3gyftpdn1jj45c_b7cpcjr200000gn/T/ipykernel_2765/2828207961.py:16: RuntimeWarning: divide by zero encountered in log\n",
      "  return -np.log(np.prod(l))\n",
      "/var/folders/bq/3gyftpdn1jj45c_b7cpcjr200000gn/T/ipykernel_2765/2828207961.py:16: RuntimeWarning: divide by zero encountered in log\n",
      "  return -np.log(np.prod(l))\n",
      "/Users/alejandro/src/github.com/alexrs/dtu-cognitive-modelling/bayes-homework/lib/python3.9/site-packages/scipy/optimize/_numdiff.py:557: RuntimeWarning: invalid value encountered in subtract\n",
      "  df = fun(x) - f0\n",
      "/var/folders/bq/3gyftpdn1jj45c_b7cpcjr200000gn/T/ipykernel_2765/2828207961.py:16: RuntimeWarning: divide by zero encountered in log\n",
      "  return -np.log(np.prod(l))\n",
      "/Users/alejandro/src/github.com/alexrs/dtu-cognitive-modelling/bayes-homework/lib/python3.9/site-packages/scipy/optimize/_numdiff.py:557: RuntimeWarning: invalid value encountered in subtract\n",
      "  df = fun(x) - f0\n",
      "/var/folders/bq/3gyftpdn1jj45c_b7cpcjr200000gn/T/ipykernel_2765/2828207961.py:16: RuntimeWarning: divide by zero encountered in log\n",
      "  return -np.log(np.prod(l))\n",
      "/var/folders/bq/3gyftpdn1jj45c_b7cpcjr200000gn/T/ipykernel_2765/2828207961.py:16: RuntimeWarning: divide by zero encountered in log\n",
      "  return -np.log(np.prod(l))\n",
      "/Users/alejandro/src/github.com/alexrs/dtu-cognitive-modelling/bayes-homework/lib/python3.9/site-packages/scipy/optimize/_numdiff.py:557: RuntimeWarning: invalid value encountered in subtract\n",
      "  df = fun(x) - f0\n",
      "/var/folders/bq/3gyftpdn1jj45c_b7cpcjr200000gn/T/ipykernel_2765/2828207961.py:16: RuntimeWarning: divide by zero encountered in log\n",
      "  return -np.log(np.prod(l))\n",
      "/Users/alejandro/src/github.com/alexrs/dtu-cognitive-modelling/bayes-homework/lib/python3.9/site-packages/scipy/optimize/_numdiff.py:557: RuntimeWarning: invalid value encountered in subtract\n",
      "  df = fun(x) - f0\n",
      "/var/folders/bq/3gyftpdn1jj45c_b7cpcjr200000gn/T/ipykernel_2765/2828207961.py:16: RuntimeWarning: divide by zero encountered in log\n",
      "  return -np.log(np.prod(l))\n",
      "/var/folders/bq/3gyftpdn1jj45c_b7cpcjr200000gn/T/ipykernel_2765/2828207961.py:16: RuntimeWarning: divide by zero encountered in log\n",
      "  return -np.log(np.prod(l))\n",
      "/Users/alejandro/src/github.com/alexrs/dtu-cognitive-modelling/bayes-homework/lib/python3.9/site-packages/scipy/optimize/_numdiff.py:557: RuntimeWarning: invalid value encountered in subtract\n",
      "  df = fun(x) - f0\n",
      "/var/folders/bq/3gyftpdn1jj45c_b7cpcjr200000gn/T/ipykernel_2765/2828207961.py:16: RuntimeWarning: divide by zero encountered in log\n",
      "  return -np.log(np.prod(l))\n",
      "/var/folders/bq/3gyftpdn1jj45c_b7cpcjr200000gn/T/ipykernel_2765/2828207961.py:16: RuntimeWarning: divide by zero encountered in log\n",
      "  return -np.log(np.prod(l))\n",
      "/Users/alejandro/src/github.com/alexrs/dtu-cognitive-modelling/bayes-homework/lib/python3.9/site-packages/scipy/optimize/_numdiff.py:557: RuntimeWarning: invalid value encountered in subtract\n",
      "  df = fun(x) - f0\n",
      "/var/folders/bq/3gyftpdn1jj45c_b7cpcjr200000gn/T/ipykernel_2765/2828207961.py:16: RuntimeWarning: divide by zero encountered in log\n",
      "  return -np.log(np.prod(l))\n",
      "/Users/alejandro/src/github.com/alexrs/dtu-cognitive-modelling/bayes-homework/lib/python3.9/site-packages/scipy/optimize/_numdiff.py:557: RuntimeWarning: invalid value encountered in subtract\n",
      "  df = fun(x) - f0\n",
      "/var/folders/bq/3gyftpdn1jj45c_b7cpcjr200000gn/T/ipykernel_2765/2828207961.py:16: RuntimeWarning: divide by zero encountered in log\n",
      "  return -np.log(np.prod(l))\n",
      "/var/folders/bq/3gyftpdn1jj45c_b7cpcjr200000gn/T/ipykernel_2765/2828207961.py:16: RuntimeWarning: divide by zero encountered in log\n",
      "  return -np.log(np.prod(l))\n",
      "/Users/alejandro/src/github.com/alexrs/dtu-cognitive-modelling/bayes-homework/lib/python3.9/site-packages/scipy/optimize/_numdiff.py:557: RuntimeWarning: invalid value encountered in subtract\n",
      "  df = fun(x) - f0\n",
      "/var/folders/bq/3gyftpdn1jj45c_b7cpcjr200000gn/T/ipykernel_2765/2828207961.py:16: RuntimeWarning: divide by zero encountered in log\n",
      "  return -np.log(np.prod(l))\n",
      "/Users/alejandro/src/github.com/alexrs/dtu-cognitive-modelling/bayes-homework/lib/python3.9/site-packages/scipy/optimize/_numdiff.py:557: RuntimeWarning: invalid value encountered in subtract\n",
      "  df = fun(x) - f0\n",
      "/var/folders/bq/3gyftpdn1jj45c_b7cpcjr200000gn/T/ipykernel_2765/2828207961.py:16: RuntimeWarning: divide by zero encountered in log\n",
      "  return -np.log(np.prod(l))\n",
      "/var/folders/bq/3gyftpdn1jj45c_b7cpcjr200000gn/T/ipykernel_2765/2828207961.py:16: RuntimeWarning: divide by zero encountered in log\n",
      "  return -np.log(np.prod(l))\n",
      "/Users/alejandro/src/github.com/alexrs/dtu-cognitive-modelling/bayes-homework/lib/python3.9/site-packages/scipy/optimize/_numdiff.py:557: RuntimeWarning: invalid value encountered in subtract\n",
      "  df = fun(x) - f0\n",
      "/var/folders/bq/3gyftpdn1jj45c_b7cpcjr200000gn/T/ipykernel_2765/2828207961.py:16: RuntimeWarning: divide by zero encountered in log\n",
      "  return -np.log(np.prod(l))\n",
      "/Users/alejandro/src/github.com/alexrs/dtu-cognitive-modelling/bayes-homework/lib/python3.9/site-packages/scipy/optimize/_numdiff.py:557: RuntimeWarning: invalid value encountered in subtract\n",
      "  df = fun(x) - f0\n",
      "/var/folders/bq/3gyftpdn1jj45c_b7cpcjr200000gn/T/ipykernel_2765/2828207961.py:16: RuntimeWarning: divide by zero encountered in log\n",
      "  return -np.log(np.prod(l))\n",
      "/var/folders/bq/3gyftpdn1jj45c_b7cpcjr200000gn/T/ipykernel_2765/2828207961.py:16: RuntimeWarning: divide by zero encountered in log\n",
      "  return -np.log(np.prod(l))\n",
      "/Users/alejandro/src/github.com/alexrs/dtu-cognitive-modelling/bayes-homework/lib/python3.9/site-packages/scipy/optimize/_numdiff.py:557: RuntimeWarning: invalid value encountered in subtract\n",
      "  df = fun(x) - f0\n",
      "/var/folders/bq/3gyftpdn1jj45c_b7cpcjr200000gn/T/ipykernel_2765/2828207961.py:16: RuntimeWarning: divide by zero encountered in log\n",
      "  return -np.log(np.prod(l))\n",
      "/Users/alejandro/src/github.com/alexrs/dtu-cognitive-modelling/bayes-homework/lib/python3.9/site-packages/scipy/optimize/_numdiff.py:557: RuntimeWarning: invalid value encountered in subtract\n",
      "  df = fun(x) - f0\n",
      "/var/folders/bq/3gyftpdn1jj45c_b7cpcjr200000gn/T/ipykernel_2765/2828207961.py:16: RuntimeWarning: divide by zero encountered in log\n",
      "  return -np.log(np.prod(l))\n",
      "/var/folders/bq/3gyftpdn1jj45c_b7cpcjr200000gn/T/ipykernel_2765/2828207961.py:16: RuntimeWarning: divide by zero encountered in log\n",
      "  return -np.log(np.prod(l))\n",
      "/Users/alejandro/src/github.com/alexrs/dtu-cognitive-modelling/bayes-homework/lib/python3.9/site-packages/scipy/optimize/_numdiff.py:557: RuntimeWarning: invalid value encountered in subtract\n",
      "  df = fun(x) - f0\n",
      "/var/folders/bq/3gyftpdn1jj45c_b7cpcjr200000gn/T/ipykernel_2765/2828207961.py:16: RuntimeWarning: divide by zero encountered in log\n",
      "  return -np.log(np.prod(l))\n",
      "/Users/alejandro/src/github.com/alexrs/dtu-cognitive-modelling/bayes-homework/lib/python3.9/site-packages/scipy/optimize/_numdiff.py:557: RuntimeWarning: invalid value encountered in subtract\n",
      "  df = fun(x) - f0\n",
      "/var/folders/bq/3gyftpdn1jj45c_b7cpcjr200000gn/T/ipykernel_2765/2828207961.py:16: RuntimeWarning: divide by zero encountered in log\n",
      "  return -np.log(np.prod(l))\n",
      "/Users/alejandro/src/github.com/alexrs/dtu-cognitive-modelling/bayes-homework/lib/python3.9/site-packages/scipy/optimize/_numdiff.py:557: RuntimeWarning: invalid value encountered in subtract\n",
      "  df = fun(x) - f0\n",
      "/var/folders/bq/3gyftpdn1jj45c_b7cpcjr200000gn/T/ipykernel_2765/2828207961.py:16: RuntimeWarning: divide by zero encountered in log\n",
      "  return -np.log(np.prod(l))\n",
      "/Users/alejandro/src/github.com/alexrs/dtu-cognitive-modelling/bayes-homework/lib/python3.9/site-packages/scipy/optimize/_numdiff.py:557: RuntimeWarning: invalid value encountered in subtract\n",
      "  df = fun(x) - f0\n",
      "/var/folders/bq/3gyftpdn1jj45c_b7cpcjr200000gn/T/ipykernel_2765/2828207961.py:16: RuntimeWarning: divide by zero encountered in log\n",
      "  return -np.log(np.prod(l))\n",
      "/Users/alejandro/src/github.com/alexrs/dtu-cognitive-modelling/bayes-homework/lib/python3.9/site-packages/scipy/optimize/_numdiff.py:557: RuntimeWarning: invalid value encountered in subtract\n",
      "  df = fun(x) - f0\n"
     ]
    },
    {
     "name": "stderr",
     "output_type": "stream",
     "text": [
      "/var/folders/bq/3gyftpdn1jj45c_b7cpcjr200000gn/T/ipykernel_2765/2828207961.py:16: RuntimeWarning: divide by zero encountered in log\n",
      "  return -np.log(np.prod(l))\n",
      "/var/folders/bq/3gyftpdn1jj45c_b7cpcjr200000gn/T/ipykernel_2765/2828207961.py:16: RuntimeWarning: divide by zero encountered in log\n",
      "  return -np.log(np.prod(l))\n",
      "/Users/alejandro/src/github.com/alexrs/dtu-cognitive-modelling/bayes-homework/lib/python3.9/site-packages/scipy/optimize/_numdiff.py:557: RuntimeWarning: invalid value encountered in subtract\n",
      "  df = fun(x) - f0\n",
      "/var/folders/bq/3gyftpdn1jj45c_b7cpcjr200000gn/T/ipykernel_2765/2828207961.py:16: RuntimeWarning: divide by zero encountered in log\n",
      "  return -np.log(np.prod(l))\n",
      "/Users/alejandro/src/github.com/alexrs/dtu-cognitive-modelling/bayes-homework/lib/python3.9/site-packages/scipy/optimize/_numdiff.py:557: RuntimeWarning: invalid value encountered in subtract\n",
      "  df = fun(x) - f0\n",
      "/var/folders/bq/3gyftpdn1jj45c_b7cpcjr200000gn/T/ipykernel_2765/2828207961.py:16: RuntimeWarning: divide by zero encountered in log\n",
      "  return -np.log(np.prod(l))\n",
      "/var/folders/bq/3gyftpdn1jj45c_b7cpcjr200000gn/T/ipykernel_2765/2828207961.py:16: RuntimeWarning: divide by zero encountered in log\n",
      "  return -np.log(np.prod(l))\n",
      "/Users/alejandro/src/github.com/alexrs/dtu-cognitive-modelling/bayes-homework/lib/python3.9/site-packages/scipy/optimize/_numdiff.py:557: RuntimeWarning: invalid value encountered in subtract\n",
      "  df = fun(x) - f0\n",
      "/var/folders/bq/3gyftpdn1jj45c_b7cpcjr200000gn/T/ipykernel_2765/2828207961.py:16: RuntimeWarning: divide by zero encountered in log\n",
      "  return -np.log(np.prod(l))\n",
      "/Users/alejandro/src/github.com/alexrs/dtu-cognitive-modelling/bayes-homework/lib/python3.9/site-packages/scipy/optimize/_numdiff.py:557: RuntimeWarning: invalid value encountered in subtract\n",
      "  df = fun(x) - f0\n",
      "/var/folders/bq/3gyftpdn1jj45c_b7cpcjr200000gn/T/ipykernel_2765/2828207961.py:16: RuntimeWarning: divide by zero encountered in log\n",
      "  return -np.log(np.prod(l))\n",
      "/var/folders/bq/3gyftpdn1jj45c_b7cpcjr200000gn/T/ipykernel_2765/2828207961.py:16: RuntimeWarning: divide by zero encountered in log\n",
      "  return -np.log(np.prod(l))\n",
      "/Users/alejandro/src/github.com/alexrs/dtu-cognitive-modelling/bayes-homework/lib/python3.9/site-packages/scipy/optimize/_numdiff.py:557: RuntimeWarning: invalid value encountered in subtract\n",
      "  df = fun(x) - f0\n",
      "/var/folders/bq/3gyftpdn1jj45c_b7cpcjr200000gn/T/ipykernel_2765/2828207961.py:16: RuntimeWarning: divide by zero encountered in log\n",
      "  return -np.log(np.prod(l))\n",
      "/var/folders/bq/3gyftpdn1jj45c_b7cpcjr200000gn/T/ipykernel_2765/2828207961.py:16: RuntimeWarning: divide by zero encountered in log\n",
      "  return -np.log(np.prod(l))\n",
      "/Users/alejandro/src/github.com/alexrs/dtu-cognitive-modelling/bayes-homework/lib/python3.9/site-packages/scipy/optimize/_numdiff.py:557: RuntimeWarning: invalid value encountered in subtract\n",
      "  df = fun(x) - f0\n",
      "/var/folders/bq/3gyftpdn1jj45c_b7cpcjr200000gn/T/ipykernel_2765/2828207961.py:16: RuntimeWarning: divide by zero encountered in log\n",
      "  return -np.log(np.prod(l))\n",
      "/Users/alejandro/src/github.com/alexrs/dtu-cognitive-modelling/bayes-homework/lib/python3.9/site-packages/scipy/optimize/_numdiff.py:557: RuntimeWarning: invalid value encountered in subtract\n",
      "  df = fun(x) - f0\n",
      "/var/folders/bq/3gyftpdn1jj45c_b7cpcjr200000gn/T/ipykernel_2765/2828207961.py:16: RuntimeWarning: divide by zero encountered in log\n",
      "  return -np.log(np.prod(l))\n",
      "/var/folders/bq/3gyftpdn1jj45c_b7cpcjr200000gn/T/ipykernel_2765/2828207961.py:16: RuntimeWarning: divide by zero encountered in log\n",
      "  return -np.log(np.prod(l))\n",
      "/Users/alejandro/src/github.com/alexrs/dtu-cognitive-modelling/bayes-homework/lib/python3.9/site-packages/scipy/optimize/_numdiff.py:557: RuntimeWarning: invalid value encountered in subtract\n",
      "  df = fun(x) - f0\n",
      "/var/folders/bq/3gyftpdn1jj45c_b7cpcjr200000gn/T/ipykernel_2765/2828207961.py:16: RuntimeWarning: divide by zero encountered in log\n",
      "  return -np.log(np.prod(l))\n",
      "/Users/alejandro/src/github.com/alexrs/dtu-cognitive-modelling/bayes-homework/lib/python3.9/site-packages/scipy/optimize/_numdiff.py:557: RuntimeWarning: invalid value encountered in subtract\n",
      "  df = fun(x) - f0\n",
      "/var/folders/bq/3gyftpdn1jj45c_b7cpcjr200000gn/T/ipykernel_2765/2828207961.py:16: RuntimeWarning: divide by zero encountered in log\n",
      "  return -np.log(np.prod(l))\n",
      "/Users/alejandro/src/github.com/alexrs/dtu-cognitive-modelling/bayes-homework/lib/python3.9/site-packages/scipy/optimize/_numdiff.py:557: RuntimeWarning: invalid value encountered in subtract\n",
      "  df = fun(x) - f0\n",
      "/var/folders/bq/3gyftpdn1jj45c_b7cpcjr200000gn/T/ipykernel_2765/2828207961.py:16: RuntimeWarning: divide by zero encountered in log\n",
      "  return -np.log(np.prod(l))\n",
      "/var/folders/bq/3gyftpdn1jj45c_b7cpcjr200000gn/T/ipykernel_2765/2828207961.py:16: RuntimeWarning: divide by zero encountered in log\n",
      "  return -np.log(np.prod(l))\n",
      "/Users/alejandro/src/github.com/alexrs/dtu-cognitive-modelling/bayes-homework/lib/python3.9/site-packages/scipy/optimize/_numdiff.py:557: RuntimeWarning: invalid value encountered in subtract\n",
      "  df = fun(x) - f0\n",
      "/var/folders/bq/3gyftpdn1jj45c_b7cpcjr200000gn/T/ipykernel_2765/2828207961.py:16: RuntimeWarning: divide by zero encountered in log\n",
      "  return -np.log(np.prod(l))\n",
      "/Users/alejandro/src/github.com/alexrs/dtu-cognitive-modelling/bayes-homework/lib/python3.9/site-packages/scipy/optimize/_numdiff.py:557: RuntimeWarning: invalid value encountered in subtract\n",
      "  df = fun(x) - f0\n",
      "/var/folders/bq/3gyftpdn1jj45c_b7cpcjr200000gn/T/ipykernel_2765/2828207961.py:16: RuntimeWarning: divide by zero encountered in log\n",
      "  return -np.log(np.prod(l))\n",
      "/var/folders/bq/3gyftpdn1jj45c_b7cpcjr200000gn/T/ipykernel_2765/2828207961.py:16: RuntimeWarning: divide by zero encountered in log\n",
      "  return -np.log(np.prod(l))\n",
      "/Users/alejandro/src/github.com/alexrs/dtu-cognitive-modelling/bayes-homework/lib/python3.9/site-packages/scipy/optimize/_numdiff.py:557: RuntimeWarning: invalid value encountered in subtract\n",
      "  df = fun(x) - f0\n",
      "/var/folders/bq/3gyftpdn1jj45c_b7cpcjr200000gn/T/ipykernel_2765/2828207961.py:16: RuntimeWarning: divide by zero encountered in log\n",
      "  return -np.log(np.prod(l))\n",
      "/Users/alejandro/src/github.com/alexrs/dtu-cognitive-modelling/bayes-homework/lib/python3.9/site-packages/scipy/optimize/_numdiff.py:557: RuntimeWarning: invalid value encountered in subtract\n",
      "  df = fun(x) - f0\n",
      "/var/folders/bq/3gyftpdn1jj45c_b7cpcjr200000gn/T/ipykernel_2765/2828207961.py:16: RuntimeWarning: divide by zero encountered in log\n",
      "  return -np.log(np.prod(l))\n",
      "/var/folders/bq/3gyftpdn1jj45c_b7cpcjr200000gn/T/ipykernel_2765/2828207961.py:16: RuntimeWarning: divide by zero encountered in log\n",
      "  return -np.log(np.prod(l))\n",
      "/Users/alejandro/src/github.com/alexrs/dtu-cognitive-modelling/bayes-homework/lib/python3.9/site-packages/scipy/optimize/_numdiff.py:557: RuntimeWarning: invalid value encountered in subtract\n",
      "  df = fun(x) - f0\n",
      "/var/folders/bq/3gyftpdn1jj45c_b7cpcjr200000gn/T/ipykernel_2765/2828207961.py:16: RuntimeWarning: divide by zero encountered in log\n",
      "  return -np.log(np.prod(l))\n",
      "/Users/alejandro/src/github.com/alexrs/dtu-cognitive-modelling/bayes-homework/lib/python3.9/site-packages/scipy/optimize/_numdiff.py:557: RuntimeWarning: invalid value encountered in subtract\n",
      "  df = fun(x) - f0\n",
      "/var/folders/bq/3gyftpdn1jj45c_b7cpcjr200000gn/T/ipykernel_2765/2828207961.py:16: RuntimeWarning: divide by zero encountered in log\n",
      "  return -np.log(np.prod(l))\n",
      "/Users/alejandro/src/github.com/alexrs/dtu-cognitive-modelling/bayes-homework/lib/python3.9/site-packages/scipy/optimize/_numdiff.py:557: RuntimeWarning: invalid value encountered in subtract\n",
      "  df = fun(x) - f0\n",
      "/var/folders/bq/3gyftpdn1jj45c_b7cpcjr200000gn/T/ipykernel_2765/2828207961.py:16: RuntimeWarning: divide by zero encountered in log\n",
      "  return -np.log(np.prod(l))\n",
      "/var/folders/bq/3gyftpdn1jj45c_b7cpcjr200000gn/T/ipykernel_2765/2828207961.py:16: RuntimeWarning: divide by zero encountered in log\n",
      "  return -np.log(np.prod(l))\n",
      "/Users/alejandro/src/github.com/alexrs/dtu-cognitive-modelling/bayes-homework/lib/python3.9/site-packages/scipy/optimize/_numdiff.py:557: RuntimeWarning: invalid value encountered in subtract\n",
      "  df = fun(x) - f0\n",
      "/var/folders/bq/3gyftpdn1jj45c_b7cpcjr200000gn/T/ipykernel_2765/2828207961.py:16: RuntimeWarning: divide by zero encountered in log\n",
      "  return -np.log(np.prod(l))\n",
      "/Users/alejandro/src/github.com/alexrs/dtu-cognitive-modelling/bayes-homework/lib/python3.9/site-packages/scipy/optimize/_numdiff.py:557: RuntimeWarning: invalid value encountered in subtract\n",
      "  df = fun(x) - f0\n",
      "/var/folders/bq/3gyftpdn1jj45c_b7cpcjr200000gn/T/ipykernel_2765/2828207961.py:16: RuntimeWarning: divide by zero encountered in log\n",
      "  return -np.log(np.prod(l))\n"
     ]
    },
    {
     "name": "stderr",
     "output_type": "stream",
     "text": [
      "/var/folders/bq/3gyftpdn1jj45c_b7cpcjr200000gn/T/ipykernel_2765/2828207961.py:16: RuntimeWarning: divide by zero encountered in log\n",
      "  return -np.log(np.prod(l))\n",
      "/Users/alejandro/src/github.com/alexrs/dtu-cognitive-modelling/bayes-homework/lib/python3.9/site-packages/scipy/optimize/_numdiff.py:557: RuntimeWarning: invalid value encountered in subtract\n",
      "  df = fun(x) - f0\n",
      "/var/folders/bq/3gyftpdn1jj45c_b7cpcjr200000gn/T/ipykernel_2765/2828207961.py:16: RuntimeWarning: divide by zero encountered in log\n",
      "  return -np.log(np.prod(l))\n",
      "/Users/alejandro/src/github.com/alexrs/dtu-cognitive-modelling/bayes-homework/lib/python3.9/site-packages/scipy/optimize/_numdiff.py:557: RuntimeWarning: invalid value encountered in subtract\n",
      "  df = fun(x) - f0\n",
      "/var/folders/bq/3gyftpdn1jj45c_b7cpcjr200000gn/T/ipykernel_2765/2828207961.py:16: RuntimeWarning: divide by zero encountered in log\n",
      "  return -np.log(np.prod(l))\n",
      "/var/folders/bq/3gyftpdn1jj45c_b7cpcjr200000gn/T/ipykernel_2765/2828207961.py:16: RuntimeWarning: divide by zero encountered in log\n",
      "  return -np.log(np.prod(l))\n",
      "/Users/alejandro/src/github.com/alexrs/dtu-cognitive-modelling/bayes-homework/lib/python3.9/site-packages/scipy/optimize/_numdiff.py:557: RuntimeWarning: invalid value encountered in subtract\n",
      "  df = fun(x) - f0\n",
      "/var/folders/bq/3gyftpdn1jj45c_b7cpcjr200000gn/T/ipykernel_2765/2828207961.py:16: RuntimeWarning: divide by zero encountered in log\n",
      "  return -np.log(np.prod(l))\n",
      "/Users/alejandro/src/github.com/alexrs/dtu-cognitive-modelling/bayes-homework/lib/python3.9/site-packages/scipy/optimize/_numdiff.py:557: RuntimeWarning: invalid value encountered in subtract\n",
      "  df = fun(x) - f0\n",
      "/var/folders/bq/3gyftpdn1jj45c_b7cpcjr200000gn/T/ipykernel_2765/2828207961.py:16: RuntimeWarning: divide by zero encountered in log\n",
      "  return -np.log(np.prod(l))\n",
      "/var/folders/bq/3gyftpdn1jj45c_b7cpcjr200000gn/T/ipykernel_2765/2828207961.py:16: RuntimeWarning: divide by zero encountered in log\n",
      "  return -np.log(np.prod(l))\n",
      "/Users/alejandro/src/github.com/alexrs/dtu-cognitive-modelling/bayes-homework/lib/python3.9/site-packages/scipy/optimize/_numdiff.py:557: RuntimeWarning: invalid value encountered in subtract\n",
      "  df = fun(x) - f0\n",
      "/var/folders/bq/3gyftpdn1jj45c_b7cpcjr200000gn/T/ipykernel_2765/2828207961.py:16: RuntimeWarning: divide by zero encountered in log\n",
      "  return -np.log(np.prod(l))\n",
      "/Users/alejandro/src/github.com/alexrs/dtu-cognitive-modelling/bayes-homework/lib/python3.9/site-packages/scipy/optimize/_numdiff.py:557: RuntimeWarning: invalid value encountered in subtract\n",
      "  df = fun(x) - f0\n",
      "/var/folders/bq/3gyftpdn1jj45c_b7cpcjr200000gn/T/ipykernel_2765/2828207961.py:16: RuntimeWarning: divide by zero encountered in log\n",
      "  return -np.log(np.prod(l))\n",
      "/Users/alejandro/src/github.com/alexrs/dtu-cognitive-modelling/bayes-homework/lib/python3.9/site-packages/scipy/optimize/_numdiff.py:557: RuntimeWarning: invalid value encountered in subtract\n",
      "  df = fun(x) - f0\n",
      "/var/folders/bq/3gyftpdn1jj45c_b7cpcjr200000gn/T/ipykernel_2765/2828207961.py:16: RuntimeWarning: divide by zero encountered in log\n",
      "  return -np.log(np.prod(l))\n",
      "/var/folders/bq/3gyftpdn1jj45c_b7cpcjr200000gn/T/ipykernel_2765/2828207961.py:16: RuntimeWarning: divide by zero encountered in log\n",
      "  return -np.log(np.prod(l))\n",
      "/Users/alejandro/src/github.com/alexrs/dtu-cognitive-modelling/bayes-homework/lib/python3.9/site-packages/scipy/optimize/_numdiff.py:557: RuntimeWarning: invalid value encountered in subtract\n",
      "  df = fun(x) - f0\n",
      "/var/folders/bq/3gyftpdn1jj45c_b7cpcjr200000gn/T/ipykernel_2765/2828207961.py:16: RuntimeWarning: divide by zero encountered in log\n",
      "  return -np.log(np.prod(l))\n",
      "/Users/alejandro/src/github.com/alexrs/dtu-cognitive-modelling/bayes-homework/lib/python3.9/site-packages/scipy/optimize/_numdiff.py:557: RuntimeWarning: invalid value encountered in subtract\n",
      "  df = fun(x) - f0\n",
      "/var/folders/bq/3gyftpdn1jj45c_b7cpcjr200000gn/T/ipykernel_2765/2828207961.py:16: RuntimeWarning: divide by zero encountered in log\n",
      "  return -np.log(np.prod(l))\n",
      "/Users/alejandro/src/github.com/alexrs/dtu-cognitive-modelling/bayes-homework/lib/python3.9/site-packages/scipy/optimize/_numdiff.py:557: RuntimeWarning: invalid value encountered in subtract\n",
      "  df = fun(x) - f0\n",
      "/var/folders/bq/3gyftpdn1jj45c_b7cpcjr200000gn/T/ipykernel_2765/2828207961.py:16: RuntimeWarning: divide by zero encountered in log\n",
      "  return -np.log(np.prod(l))\n",
      "/var/folders/bq/3gyftpdn1jj45c_b7cpcjr200000gn/T/ipykernel_2765/2828207961.py:16: RuntimeWarning: divide by zero encountered in log\n",
      "  return -np.log(np.prod(l))\n",
      "/Users/alejandro/src/github.com/alexrs/dtu-cognitive-modelling/bayes-homework/lib/python3.9/site-packages/scipy/optimize/_numdiff.py:557: RuntimeWarning: invalid value encountered in subtract\n",
      "  df = fun(x) - f0\n",
      "/var/folders/bq/3gyftpdn1jj45c_b7cpcjr200000gn/T/ipykernel_2765/2828207961.py:16: RuntimeWarning: divide by zero encountered in log\n",
      "  return -np.log(np.prod(l))\n",
      "/Users/alejandro/src/github.com/alexrs/dtu-cognitive-modelling/bayes-homework/lib/python3.9/site-packages/scipy/optimize/_numdiff.py:557: RuntimeWarning: invalid value encountered in subtract\n",
      "  df = fun(x) - f0\n",
      "/var/folders/bq/3gyftpdn1jj45c_b7cpcjr200000gn/T/ipykernel_2765/2828207961.py:16: RuntimeWarning: divide by zero encountered in log\n",
      "  return -np.log(np.prod(l))\n",
      "/var/folders/bq/3gyftpdn1jj45c_b7cpcjr200000gn/T/ipykernel_2765/2828207961.py:16: RuntimeWarning: divide by zero encountered in log\n",
      "  return -np.log(np.prod(l))\n",
      "/Users/alejandro/src/github.com/alexrs/dtu-cognitive-modelling/bayes-homework/lib/python3.9/site-packages/scipy/optimize/_numdiff.py:557: RuntimeWarning: invalid value encountered in subtract\n",
      "  df = fun(x) - f0\n",
      "/var/folders/bq/3gyftpdn1jj45c_b7cpcjr200000gn/T/ipykernel_2765/2828207961.py:16: RuntimeWarning: divide by zero encountered in log\n",
      "  return -np.log(np.prod(l))\n",
      "/Users/alejandro/src/github.com/alexrs/dtu-cognitive-modelling/bayes-homework/lib/python3.9/site-packages/scipy/optimize/_numdiff.py:557: RuntimeWarning: invalid value encountered in subtract\n",
      "  df = fun(x) - f0\n",
      "/var/folders/bq/3gyftpdn1jj45c_b7cpcjr200000gn/T/ipykernel_2765/2828207961.py:16: RuntimeWarning: divide by zero encountered in log\n",
      "  return -np.log(np.prod(l))\n",
      "/var/folders/bq/3gyftpdn1jj45c_b7cpcjr200000gn/T/ipykernel_2765/2828207961.py:16: RuntimeWarning: divide by zero encountered in log\n",
      "  return -np.log(np.prod(l))\n",
      "/Users/alejandro/src/github.com/alexrs/dtu-cognitive-modelling/bayes-homework/lib/python3.9/site-packages/scipy/optimize/_numdiff.py:557: RuntimeWarning: invalid value encountered in subtract\n",
      "  df = fun(x) - f0\n",
      "/var/folders/bq/3gyftpdn1jj45c_b7cpcjr200000gn/T/ipykernel_2765/2828207961.py:16: RuntimeWarning: divide by zero encountered in log\n",
      "  return -np.log(np.prod(l))\n",
      "/Users/alejandro/src/github.com/alexrs/dtu-cognitive-modelling/bayes-homework/lib/python3.9/site-packages/scipy/optimize/_numdiff.py:557: RuntimeWarning: invalid value encountered in subtract\n",
      "  df = fun(x) - f0\n",
      "/var/folders/bq/3gyftpdn1jj45c_b7cpcjr200000gn/T/ipykernel_2765/2828207961.py:16: RuntimeWarning: divide by zero encountered in log\n",
      "  return -np.log(np.prod(l))\n",
      "/Users/alejandro/src/github.com/alexrs/dtu-cognitive-modelling/bayes-homework/lib/python3.9/site-packages/scipy/optimize/_numdiff.py:557: RuntimeWarning: invalid value encountered in subtract\n",
      "  df = fun(x) - f0\n",
      "/var/folders/bq/3gyftpdn1jj45c_b7cpcjr200000gn/T/ipykernel_2765/2828207961.py:16: RuntimeWarning: divide by zero encountered in log\n",
      "  return -np.log(np.prod(l))\n",
      "/Users/alejandro/src/github.com/alexrs/dtu-cognitive-modelling/bayes-homework/lib/python3.9/site-packages/scipy/optimize/_numdiff.py:557: RuntimeWarning: invalid value encountered in subtract\n",
      "  df = fun(x) - f0\n",
      "/var/folders/bq/3gyftpdn1jj45c_b7cpcjr200000gn/T/ipykernel_2765/2828207961.py:16: RuntimeWarning: divide by zero encountered in log\n",
      "  return -np.log(np.prod(l))\n",
      "/var/folders/bq/3gyftpdn1jj45c_b7cpcjr200000gn/T/ipykernel_2765/2828207961.py:16: RuntimeWarning: divide by zero encountered in log\n",
      "  return -np.log(np.prod(l))\n",
      "/Users/alejandro/src/github.com/alexrs/dtu-cognitive-modelling/bayes-homework/lib/python3.9/site-packages/scipy/optimize/_numdiff.py:557: RuntimeWarning: invalid value encountered in subtract\n",
      "  df = fun(x) - f0\n",
      "/var/folders/bq/3gyftpdn1jj45c_b7cpcjr200000gn/T/ipykernel_2765/2828207961.py:16: RuntimeWarning: divide by zero encountered in log\n",
      "  return -np.log(np.prod(l))\n",
      "/Users/alejandro/src/github.com/alexrs/dtu-cognitive-modelling/bayes-homework/lib/python3.9/site-packages/scipy/optimize/_numdiff.py:557: RuntimeWarning: invalid value encountered in subtract\n",
      "  df = fun(x) - f0\n"
     ]
    },
    {
     "name": "stderr",
     "output_type": "stream",
     "text": [
      "/var/folders/bq/3gyftpdn1jj45c_b7cpcjr200000gn/T/ipykernel_2765/2828207961.py:16: RuntimeWarning: divide by zero encountered in log\n",
      "  return -np.log(np.prod(l))\n"
     ]
    },
    {
     "name": "stdout",
     "output_type": "stream",
     "text": [
      "TRAINING ERR DATA 1 [52.388296171329266, 53.42365064246574, 53.18356486444795, 52.128803578871576, 54.96053848365707, 53.81051644436213, 47.98112082630674, 53.97683910863222, 55.06859344433971, 55.075704288863555, 55.03716818341717, 54.677400273850644, 52.6578057246576, 49.946555264461686, 49.39012734521535, 52.59669968833916, 52.21334019612891, 53.169513689095545, 52.97664294865464, 53.635166221160425, 53.0005740694188, 53.2779326590184, 52.754930641571256, 54.688812473783074, 55.03831993527572, 52.798151603214485, 54.02394329948256, 54.99235976341291, 55.070254138892054, 55.07551092368651, 45.6081746605032, 55.06189189014587, 55.075104481270195, 55.07569326806849, 55.075707397475746]\n",
      "TEST ERR DATA 1 73.01057580807336\n"
     ]
    },
    {
     "name": "stderr",
     "output_type": "stream",
     "text": [
      "/var/folders/bq/3gyftpdn1jj45c_b7cpcjr200000gn/T/ipykernel_2765/2828207961.py:16: RuntimeWarning: divide by zero encountered in log\n",
      "  return -np.log(np.prod(l))\n",
      "/Users/alejandro/src/github.com/alexrs/dtu-cognitive-modelling/bayes-homework/lib/python3.9/site-packages/scipy/optimize/_numdiff.py:557: RuntimeWarning: invalid value encountered in subtract\n",
      "  df = fun(x) - f0\n",
      "/var/folders/bq/3gyftpdn1jj45c_b7cpcjr200000gn/T/ipykernel_2765/2828207961.py:16: RuntimeWarning: divide by zero encountered in log\n",
      "  return -np.log(np.prod(l))\n",
      "/Users/alejandro/src/github.com/alexrs/dtu-cognitive-modelling/bayes-homework/lib/python3.9/site-packages/scipy/optimize/_numdiff.py:557: RuntimeWarning: invalid value encountered in subtract\n",
      "  df = fun(x) - f0\n",
      "/var/folders/bq/3gyftpdn1jj45c_b7cpcjr200000gn/T/ipykernel_2765/2828207961.py:16: RuntimeWarning: divide by zero encountered in log\n",
      "  return -np.log(np.prod(l))\n",
      "/var/folders/bq/3gyftpdn1jj45c_b7cpcjr200000gn/T/ipykernel_2765/2828207961.py:16: RuntimeWarning: divide by zero encountered in log\n",
      "  return -np.log(np.prod(l))\n",
      "/Users/alejandro/src/github.com/alexrs/dtu-cognitive-modelling/bayes-homework/lib/python3.9/site-packages/scipy/optimize/_numdiff.py:557: RuntimeWarning: invalid value encountered in subtract\n",
      "  df = fun(x) - f0\n",
      "/var/folders/bq/3gyftpdn1jj45c_b7cpcjr200000gn/T/ipykernel_2765/2828207961.py:16: RuntimeWarning: divide by zero encountered in log\n",
      "  return -np.log(np.prod(l))\n",
      "/var/folders/bq/3gyftpdn1jj45c_b7cpcjr200000gn/T/ipykernel_2765/2828207961.py:16: RuntimeWarning: divide by zero encountered in log\n",
      "  return -np.log(np.prod(l))\n",
      "/Users/alejandro/src/github.com/alexrs/dtu-cognitive-modelling/bayes-homework/lib/python3.9/site-packages/scipy/optimize/_numdiff.py:557: RuntimeWarning: invalid value encountered in subtract\n",
      "  df = fun(x) - f0\n",
      "/var/folders/bq/3gyftpdn1jj45c_b7cpcjr200000gn/T/ipykernel_2765/2828207961.py:16: RuntimeWarning: divide by zero encountered in log\n",
      "  return -np.log(np.prod(l))\n"
     ]
    },
    {
     "name": "stdout",
     "output_type": "stream",
     "text": [
      "TRAINING ERR DATA 2 [68.95700495829759, 66.065951719728, 63.86425264641692, 66.22648032218606, 69.15247866891632, 65.79609288084983, 66.29982495387235, 67.75991050677342, 68.29794445481726, 66.9550916436508, 67.93207638594573, 67.06119285451597, 65.38120436690876, 67.60739714932114, 67.56494787528939, 66.75677173016909, 67.61462979056853, 64.82519090999965, 67.68804183875815, 68.43927046128638, 65.31011293623236, 67.5821954026311, 67.69788435489892, 68.23961247547003, 69.16757603685015, 64.71041180545937, 66.17599555037513, 67.98354342266487, 68.87201219454175, 69.36527060848766, 66.63691746777462, 67.77738844148624, 66.49468858841911, 69.28982351823048, 69.40643384028179]\n",
      "TEST ERR DATA 2 80.73466451407046\n"
     ]
    },
    {
     "name": "stderr",
     "output_type": "stream",
     "text": [
      "/var/folders/bq/3gyftpdn1jj45c_b7cpcjr200000gn/T/ipykernel_2765/2828207961.py:16: RuntimeWarning: divide by zero encountered in log\n",
      "  return -np.log(np.prod(l))\n",
      "/Users/alejandro/src/github.com/alexrs/dtu-cognitive-modelling/bayes-homework/lib/python3.9/site-packages/scipy/optimize/_numdiff.py:557: RuntimeWarning: invalid value encountered in subtract\n",
      "  df = fun(x) - f0\n",
      "/var/folders/bq/3gyftpdn1jj45c_b7cpcjr200000gn/T/ipykernel_2765/2828207961.py:16: RuntimeWarning: divide by zero encountered in log\n",
      "  return -np.log(np.prod(l))\n",
      "/var/folders/bq/3gyftpdn1jj45c_b7cpcjr200000gn/T/ipykernel_2765/2828207961.py:16: RuntimeWarning: divide by zero encountered in log\n",
      "  return -np.log(np.prod(l))\n",
      "/Users/alejandro/src/github.com/alexrs/dtu-cognitive-modelling/bayes-homework/lib/python3.9/site-packages/scipy/optimize/_numdiff.py:557: RuntimeWarning: invalid value encountered in subtract\n",
      "  df = fun(x) - f0\n",
      "/var/folders/bq/3gyftpdn1jj45c_b7cpcjr200000gn/T/ipykernel_2765/2828207961.py:16: RuntimeWarning: divide by zero encountered in log\n",
      "  return -np.log(np.prod(l))\n",
      "/var/folders/bq/3gyftpdn1jj45c_b7cpcjr200000gn/T/ipykernel_2765/2828207961.py:16: RuntimeWarning: divide by zero encountered in log\n",
      "  return -np.log(np.prod(l))\n",
      "/Users/alejandro/src/github.com/alexrs/dtu-cognitive-modelling/bayes-homework/lib/python3.9/site-packages/scipy/optimize/_numdiff.py:557: RuntimeWarning: invalid value encountered in subtract\n",
      "  df = fun(x) - f0\n",
      "/var/folders/bq/3gyftpdn1jj45c_b7cpcjr200000gn/T/ipykernel_2765/2828207961.py:16: RuntimeWarning: divide by zero encountered in log\n",
      "  return -np.log(np.prod(l))\n",
      "/Users/alejandro/src/github.com/alexrs/dtu-cognitive-modelling/bayes-homework/lib/python3.9/site-packages/scipy/optimize/_numdiff.py:557: RuntimeWarning: invalid value encountered in subtract\n",
      "  df = fun(x) - f0\n",
      "/var/folders/bq/3gyftpdn1jj45c_b7cpcjr200000gn/T/ipykernel_2765/2828207961.py:16: RuntimeWarning: divide by zero encountered in log\n",
      "  return -np.log(np.prod(l))\n",
      "/var/folders/bq/3gyftpdn1jj45c_b7cpcjr200000gn/T/ipykernel_2765/2828207961.py:16: RuntimeWarning: divide by zero encountered in log\n",
      "  return -np.log(np.prod(l))\n",
      "/Users/alejandro/src/github.com/alexrs/dtu-cognitive-modelling/bayes-homework/lib/python3.9/site-packages/scipy/optimize/_numdiff.py:557: RuntimeWarning: invalid value encountered in subtract\n",
      "  df = fun(x) - f0\n",
      "/var/folders/bq/3gyftpdn1jj45c_b7cpcjr200000gn/T/ipykernel_2765/2828207961.py:16: RuntimeWarning: divide by zero encountered in log\n",
      "  return -np.log(np.prod(l))\n",
      "/var/folders/bq/3gyftpdn1jj45c_b7cpcjr200000gn/T/ipykernel_2765/2828207961.py:16: RuntimeWarning: divide by zero encountered in log\n",
      "  return -np.log(np.prod(l))\n",
      "/Users/alejandro/src/github.com/alexrs/dtu-cognitive-modelling/bayes-homework/lib/python3.9/site-packages/scipy/optimize/_numdiff.py:557: RuntimeWarning: invalid value encountered in subtract\n",
      "  df = fun(x) - f0\n",
      "/var/folders/bq/3gyftpdn1jj45c_b7cpcjr200000gn/T/ipykernel_2765/2828207961.py:16: RuntimeWarning: divide by zero encountered in log\n",
      "  return -np.log(np.prod(l))\n",
      "/var/folders/bq/3gyftpdn1jj45c_b7cpcjr200000gn/T/ipykernel_2765/2828207961.py:16: RuntimeWarning: divide by zero encountered in log\n",
      "  return -np.log(np.prod(l))\n",
      "/Users/alejandro/src/github.com/alexrs/dtu-cognitive-modelling/bayes-homework/lib/python3.9/site-packages/scipy/optimize/_numdiff.py:557: RuntimeWarning: invalid value encountered in subtract\n",
      "  df = fun(x) - f0\n",
      "/var/folders/bq/3gyftpdn1jj45c_b7cpcjr200000gn/T/ipykernel_2765/2828207961.py:16: RuntimeWarning: divide by zero encountered in log\n",
      "  return -np.log(np.prod(l))\n",
      "/var/folders/bq/3gyftpdn1jj45c_b7cpcjr200000gn/T/ipykernel_2765/2828207961.py:16: RuntimeWarning: divide by zero encountered in log\n",
      "  return -np.log(np.prod(l))\n",
      "/Users/alejandro/src/github.com/alexrs/dtu-cognitive-modelling/bayes-homework/lib/python3.9/site-packages/scipy/optimize/_numdiff.py:557: RuntimeWarning: invalid value encountered in subtract\n",
      "  df = fun(x) - f0\n",
      "/var/folders/bq/3gyftpdn1jj45c_b7cpcjr200000gn/T/ipykernel_2765/2828207961.py:16: RuntimeWarning: divide by zero encountered in log\n",
      "  return -np.log(np.prod(l))\n",
      "/var/folders/bq/3gyftpdn1jj45c_b7cpcjr200000gn/T/ipykernel_2765/2828207961.py:16: RuntimeWarning: divide by zero encountered in log\n",
      "  return -np.log(np.prod(l))\n",
      "/Users/alejandro/src/github.com/alexrs/dtu-cognitive-modelling/bayes-homework/lib/python3.9/site-packages/scipy/optimize/_numdiff.py:557: RuntimeWarning: invalid value encountered in subtract\n",
      "  df = fun(x) - f0\n",
      "/var/folders/bq/3gyftpdn1jj45c_b7cpcjr200000gn/T/ipykernel_2765/2828207961.py:16: RuntimeWarning: divide by zero encountered in log\n",
      "  return -np.log(np.prod(l))\n",
      "/var/folders/bq/3gyftpdn1jj45c_b7cpcjr200000gn/T/ipykernel_2765/2828207961.py:16: RuntimeWarning: divide by zero encountered in log\n",
      "  return -np.log(np.prod(l))\n",
      "/Users/alejandro/src/github.com/alexrs/dtu-cognitive-modelling/bayes-homework/lib/python3.9/site-packages/scipy/optimize/_numdiff.py:557: RuntimeWarning: invalid value encountered in subtract\n",
      "  df = fun(x) - f0\n",
      "/var/folders/bq/3gyftpdn1jj45c_b7cpcjr200000gn/T/ipykernel_2765/2828207961.py:16: RuntimeWarning: divide by zero encountered in log\n",
      "  return -np.log(np.prod(l))\n",
      "/var/folders/bq/3gyftpdn1jj45c_b7cpcjr200000gn/T/ipykernel_2765/2828207961.py:16: RuntimeWarning: divide by zero encountered in log\n",
      "  return -np.log(np.prod(l))\n",
      "/Users/alejandro/src/github.com/alexrs/dtu-cognitive-modelling/bayes-homework/lib/python3.9/site-packages/scipy/optimize/_numdiff.py:557: RuntimeWarning: invalid value encountered in subtract\n",
      "  df = fun(x) - f0\n",
      "/var/folders/bq/3gyftpdn1jj45c_b7cpcjr200000gn/T/ipykernel_2765/2828207961.py:16: RuntimeWarning: divide by zero encountered in log\n",
      "  return -np.log(np.prod(l))\n",
      "/var/folders/bq/3gyftpdn1jj45c_b7cpcjr200000gn/T/ipykernel_2765/2828207961.py:16: RuntimeWarning: divide by zero encountered in log\n",
      "  return -np.log(np.prod(l))\n",
      "/Users/alejandro/src/github.com/alexrs/dtu-cognitive-modelling/bayes-homework/lib/python3.9/site-packages/scipy/optimize/_numdiff.py:557: RuntimeWarning: invalid value encountered in subtract\n",
      "  df = fun(x) - f0\n",
      "/var/folders/bq/3gyftpdn1jj45c_b7cpcjr200000gn/T/ipykernel_2765/2828207961.py:16: RuntimeWarning: divide by zero encountered in log\n",
      "  return -np.log(np.prod(l))\n",
      "/var/folders/bq/3gyftpdn1jj45c_b7cpcjr200000gn/T/ipykernel_2765/2828207961.py:16: RuntimeWarning: divide by zero encountered in log\n",
      "  return -np.log(np.prod(l))\n",
      "/Users/alejandro/src/github.com/alexrs/dtu-cognitive-modelling/bayes-homework/lib/python3.9/site-packages/scipy/optimize/_numdiff.py:557: RuntimeWarning: invalid value encountered in subtract\n",
      "  df = fun(x) - f0\n",
      "/var/folders/bq/3gyftpdn1jj45c_b7cpcjr200000gn/T/ipykernel_2765/2828207961.py:16: RuntimeWarning: divide by zero encountered in log\n",
      "  return -np.log(np.prod(l))\n",
      "/var/folders/bq/3gyftpdn1jj45c_b7cpcjr200000gn/T/ipykernel_2765/2828207961.py:16: RuntimeWarning: divide by zero encountered in log\n",
      "  return -np.log(np.prod(l))\n",
      "/Users/alejandro/src/github.com/alexrs/dtu-cognitive-modelling/bayes-homework/lib/python3.9/site-packages/scipy/optimize/_numdiff.py:557: RuntimeWarning: invalid value encountered in subtract\n",
      "  df = fun(x) - f0\n",
      "/var/folders/bq/3gyftpdn1jj45c_b7cpcjr200000gn/T/ipykernel_2765/2828207961.py:16: RuntimeWarning: divide by zero encountered in log\n",
      "  return -np.log(np.prod(l))\n",
      "/Users/alejandro/src/github.com/alexrs/dtu-cognitive-modelling/bayes-homework/lib/python3.9/site-packages/scipy/optimize/_numdiff.py:557: RuntimeWarning: invalid value encountered in subtract\n",
      "  df = fun(x) - f0\n",
      "/var/folders/bq/3gyftpdn1jj45c_b7cpcjr200000gn/T/ipykernel_2765/2828207961.py:16: RuntimeWarning: divide by zero encountered in log\n",
      "  return -np.log(np.prod(l))\n",
      "/var/folders/bq/3gyftpdn1jj45c_b7cpcjr200000gn/T/ipykernel_2765/2828207961.py:16: RuntimeWarning: divide by zero encountered in log\n",
      "  return -np.log(np.prod(l))\n",
      "/Users/alejandro/src/github.com/alexrs/dtu-cognitive-modelling/bayes-homework/lib/python3.9/site-packages/scipy/optimize/_numdiff.py:557: RuntimeWarning: invalid value encountered in subtract\n",
      "  df = fun(x) - f0\n",
      "/var/folders/bq/3gyftpdn1jj45c_b7cpcjr200000gn/T/ipykernel_2765/2828207961.py:16: RuntimeWarning: divide by zero encountered in log\n",
      "  return -np.log(np.prod(l))\n"
     ]
    },
    {
     "name": "stderr",
     "output_type": "stream",
     "text": [
      "/var/folders/bq/3gyftpdn1jj45c_b7cpcjr200000gn/T/ipykernel_2765/2828207961.py:16: RuntimeWarning: divide by zero encountered in log\n",
      "  return -np.log(np.prod(l))\n",
      "/Users/alejandro/src/github.com/alexrs/dtu-cognitive-modelling/bayes-homework/lib/python3.9/site-packages/scipy/optimize/_numdiff.py:557: RuntimeWarning: invalid value encountered in subtract\n",
      "  df = fun(x) - f0\n",
      "/var/folders/bq/3gyftpdn1jj45c_b7cpcjr200000gn/T/ipykernel_2765/2828207961.py:16: RuntimeWarning: divide by zero encountered in log\n",
      "  return -np.log(np.prod(l))\n",
      "/Users/alejandro/src/github.com/alexrs/dtu-cognitive-modelling/bayes-homework/lib/python3.9/site-packages/scipy/optimize/_numdiff.py:557: RuntimeWarning: invalid value encountered in subtract\n",
      "  df = fun(x) - f0\n",
      "/var/folders/bq/3gyftpdn1jj45c_b7cpcjr200000gn/T/ipykernel_2765/2828207961.py:16: RuntimeWarning: divide by zero encountered in log\n",
      "  return -np.log(np.prod(l))\n",
      "/var/folders/bq/3gyftpdn1jj45c_b7cpcjr200000gn/T/ipykernel_2765/2828207961.py:16: RuntimeWarning: divide by zero encountered in log\n",
      "  return -np.log(np.prod(l))\n",
      "/Users/alejandro/src/github.com/alexrs/dtu-cognitive-modelling/bayes-homework/lib/python3.9/site-packages/scipy/optimize/_numdiff.py:557: RuntimeWarning: invalid value encountered in subtract\n",
      "  df = fun(x) - f0\n",
      "/var/folders/bq/3gyftpdn1jj45c_b7cpcjr200000gn/T/ipykernel_2765/2828207961.py:16: RuntimeWarning: divide by zero encountered in log\n",
      "  return -np.log(np.prod(l))\n",
      "/var/folders/bq/3gyftpdn1jj45c_b7cpcjr200000gn/T/ipykernel_2765/2828207961.py:16: RuntimeWarning: divide by zero encountered in log\n",
      "  return -np.log(np.prod(l))\n",
      "/Users/alejandro/src/github.com/alexrs/dtu-cognitive-modelling/bayes-homework/lib/python3.9/site-packages/scipy/optimize/_numdiff.py:557: RuntimeWarning: invalid value encountered in subtract\n",
      "  df = fun(x) - f0\n",
      "/var/folders/bq/3gyftpdn1jj45c_b7cpcjr200000gn/T/ipykernel_2765/2828207961.py:16: RuntimeWarning: divide by zero encountered in log\n",
      "  return -np.log(np.prod(l))\n",
      "/var/folders/bq/3gyftpdn1jj45c_b7cpcjr200000gn/T/ipykernel_2765/2828207961.py:16: RuntimeWarning: divide by zero encountered in log\n",
      "  return -np.log(np.prod(l))\n",
      "/Users/alejandro/src/github.com/alexrs/dtu-cognitive-modelling/bayes-homework/lib/python3.9/site-packages/scipy/optimize/_numdiff.py:557: RuntimeWarning: invalid value encountered in subtract\n",
      "  df = fun(x) - f0\n",
      "/var/folders/bq/3gyftpdn1jj45c_b7cpcjr200000gn/T/ipykernel_2765/2828207961.py:16: RuntimeWarning: divide by zero encountered in log\n",
      "  return -np.log(np.prod(l))\n",
      "/var/folders/bq/3gyftpdn1jj45c_b7cpcjr200000gn/T/ipykernel_2765/2828207961.py:16: RuntimeWarning: divide by zero encountered in log\n",
      "  return -np.log(np.prod(l))\n",
      "/Users/alejandro/src/github.com/alexrs/dtu-cognitive-modelling/bayes-homework/lib/python3.9/site-packages/scipy/optimize/_numdiff.py:557: RuntimeWarning: invalid value encountered in subtract\n",
      "  df = fun(x) - f0\n",
      "/var/folders/bq/3gyftpdn1jj45c_b7cpcjr200000gn/T/ipykernel_2765/2828207961.py:16: RuntimeWarning: divide by zero encountered in log\n",
      "  return -np.log(np.prod(l))\n",
      "/var/folders/bq/3gyftpdn1jj45c_b7cpcjr200000gn/T/ipykernel_2765/2828207961.py:16: RuntimeWarning: divide by zero encountered in log\n",
      "  return -np.log(np.prod(l))\n",
      "/Users/alejandro/src/github.com/alexrs/dtu-cognitive-modelling/bayes-homework/lib/python3.9/site-packages/scipy/optimize/_numdiff.py:557: RuntimeWarning: invalid value encountered in subtract\n",
      "  df = fun(x) - f0\n",
      "/var/folders/bq/3gyftpdn1jj45c_b7cpcjr200000gn/T/ipykernel_2765/2828207961.py:16: RuntimeWarning: divide by zero encountered in log\n",
      "  return -np.log(np.prod(l))\n",
      "/var/folders/bq/3gyftpdn1jj45c_b7cpcjr200000gn/T/ipykernel_2765/2828207961.py:16: RuntimeWarning: divide by zero encountered in log\n",
      "  return -np.log(np.prod(l))\n",
      "/Users/alejandro/src/github.com/alexrs/dtu-cognitive-modelling/bayes-homework/lib/python3.9/site-packages/scipy/optimize/_numdiff.py:557: RuntimeWarning: invalid value encountered in subtract\n",
      "  df = fun(x) - f0\n",
      "/var/folders/bq/3gyftpdn1jj45c_b7cpcjr200000gn/T/ipykernel_2765/2828207961.py:16: RuntimeWarning: divide by zero encountered in log\n",
      "  return -np.log(np.prod(l))\n",
      "/var/folders/bq/3gyftpdn1jj45c_b7cpcjr200000gn/T/ipykernel_2765/2828207961.py:16: RuntimeWarning: divide by zero encountered in log\n",
      "  return -np.log(np.prod(l))\n",
      "/Users/alejandro/src/github.com/alexrs/dtu-cognitive-modelling/bayes-homework/lib/python3.9/site-packages/scipy/optimize/_numdiff.py:557: RuntimeWarning: invalid value encountered in subtract\n",
      "  df = fun(x) - f0\n",
      "/var/folders/bq/3gyftpdn1jj45c_b7cpcjr200000gn/T/ipykernel_2765/2828207961.py:16: RuntimeWarning: divide by zero encountered in log\n",
      "  return -np.log(np.prod(l))\n",
      "/var/folders/bq/3gyftpdn1jj45c_b7cpcjr200000gn/T/ipykernel_2765/2828207961.py:16: RuntimeWarning: divide by zero encountered in log\n",
      "  return -np.log(np.prod(l))\n",
      "/Users/alejandro/src/github.com/alexrs/dtu-cognitive-modelling/bayes-homework/lib/python3.9/site-packages/scipy/optimize/_numdiff.py:557: RuntimeWarning: invalid value encountered in subtract\n",
      "  df = fun(x) - f0\n",
      "/var/folders/bq/3gyftpdn1jj45c_b7cpcjr200000gn/T/ipykernel_2765/2828207961.py:16: RuntimeWarning: divide by zero encountered in log\n",
      "  return -np.log(np.prod(l))\n",
      "/var/folders/bq/3gyftpdn1jj45c_b7cpcjr200000gn/T/ipykernel_2765/2828207961.py:16: RuntimeWarning: divide by zero encountered in log\n",
      "  return -np.log(np.prod(l))\n",
      "/Users/alejandro/src/github.com/alexrs/dtu-cognitive-modelling/bayes-homework/lib/python3.9/site-packages/scipy/optimize/_numdiff.py:557: RuntimeWarning: invalid value encountered in subtract\n",
      "  df = fun(x) - f0\n",
      "/var/folders/bq/3gyftpdn1jj45c_b7cpcjr200000gn/T/ipykernel_2765/2828207961.py:16: RuntimeWarning: divide by zero encountered in log\n",
      "  return -np.log(np.prod(l))\n",
      "/var/folders/bq/3gyftpdn1jj45c_b7cpcjr200000gn/T/ipykernel_2765/2828207961.py:16: RuntimeWarning: divide by zero encountered in log\n",
      "  return -np.log(np.prod(l))\n",
      "/Users/alejandro/src/github.com/alexrs/dtu-cognitive-modelling/bayes-homework/lib/python3.9/site-packages/scipy/optimize/_numdiff.py:557: RuntimeWarning: invalid value encountered in subtract\n",
      "  df = fun(x) - f0\n",
      "/var/folders/bq/3gyftpdn1jj45c_b7cpcjr200000gn/T/ipykernel_2765/2828207961.py:16: RuntimeWarning: divide by zero encountered in log\n",
      "  return -np.log(np.prod(l))\n",
      "/var/folders/bq/3gyftpdn1jj45c_b7cpcjr200000gn/T/ipykernel_2765/2828207961.py:16: RuntimeWarning: divide by zero encountered in log\n",
      "  return -np.log(np.prod(l))\n",
      "/Users/alejandro/src/github.com/alexrs/dtu-cognitive-modelling/bayes-homework/lib/python3.9/site-packages/scipy/optimize/_numdiff.py:557: RuntimeWarning: invalid value encountered in subtract\n",
      "  df = fun(x) - f0\n",
      "/var/folders/bq/3gyftpdn1jj45c_b7cpcjr200000gn/T/ipykernel_2765/2828207961.py:16: RuntimeWarning: divide by zero encountered in log\n",
      "  return -np.log(np.prod(l))\n",
      "/var/folders/bq/3gyftpdn1jj45c_b7cpcjr200000gn/T/ipykernel_2765/2828207961.py:16: RuntimeWarning: divide by zero encountered in log\n",
      "  return -np.log(np.prod(l))\n",
      "/Users/alejandro/src/github.com/alexrs/dtu-cognitive-modelling/bayes-homework/lib/python3.9/site-packages/scipy/optimize/_numdiff.py:557: RuntimeWarning: invalid value encountered in subtract\n",
      "  df = fun(x) - f0\n",
      "/var/folders/bq/3gyftpdn1jj45c_b7cpcjr200000gn/T/ipykernel_2765/2828207961.py:16: RuntimeWarning: divide by zero encountered in log\n",
      "  return -np.log(np.prod(l))\n",
      "/var/folders/bq/3gyftpdn1jj45c_b7cpcjr200000gn/T/ipykernel_2765/2828207961.py:16: RuntimeWarning: divide by zero encountered in log\n",
      "  return -np.log(np.prod(l))\n",
      "/Users/alejandro/src/github.com/alexrs/dtu-cognitive-modelling/bayes-homework/lib/python3.9/site-packages/scipy/optimize/_numdiff.py:557: RuntimeWarning: invalid value encountered in subtract\n",
      "  df = fun(x) - f0\n",
      "/var/folders/bq/3gyftpdn1jj45c_b7cpcjr200000gn/T/ipykernel_2765/2828207961.py:16: RuntimeWarning: divide by zero encountered in log\n",
      "  return -np.log(np.prod(l))\n",
      "/Users/alejandro/src/github.com/alexrs/dtu-cognitive-modelling/bayes-homework/lib/python3.9/site-packages/scipy/optimize/_numdiff.py:557: RuntimeWarning: invalid value encountered in subtract\n",
      "  df = fun(x) - f0\n",
      "/var/folders/bq/3gyftpdn1jj45c_b7cpcjr200000gn/T/ipykernel_2765/2828207961.py:16: RuntimeWarning: divide by zero encountered in log\n",
      "  return -np.log(np.prod(l))\n"
     ]
    },
    {
     "name": "stderr",
     "output_type": "stream",
     "text": [
      "/var/folders/bq/3gyftpdn1jj45c_b7cpcjr200000gn/T/ipykernel_2765/2828207961.py:16: RuntimeWarning: divide by zero encountered in log\n",
      "  return -np.log(np.prod(l))\n",
      "/Users/alejandro/src/github.com/alexrs/dtu-cognitive-modelling/bayes-homework/lib/python3.9/site-packages/scipy/optimize/_numdiff.py:557: RuntimeWarning: invalid value encountered in subtract\n",
      "  df = fun(x) - f0\n",
      "/var/folders/bq/3gyftpdn1jj45c_b7cpcjr200000gn/T/ipykernel_2765/2828207961.py:16: RuntimeWarning: divide by zero encountered in log\n",
      "  return -np.log(np.prod(l))\n",
      "/var/folders/bq/3gyftpdn1jj45c_b7cpcjr200000gn/T/ipykernel_2765/2828207961.py:16: RuntimeWarning: divide by zero encountered in log\n",
      "  return -np.log(np.prod(l))\n",
      "/Users/alejandro/src/github.com/alexrs/dtu-cognitive-modelling/bayes-homework/lib/python3.9/site-packages/scipy/optimize/_numdiff.py:557: RuntimeWarning: invalid value encountered in subtract\n",
      "  df = fun(x) - f0\n",
      "/var/folders/bq/3gyftpdn1jj45c_b7cpcjr200000gn/T/ipykernel_2765/2828207961.py:16: RuntimeWarning: divide by zero encountered in log\n",
      "  return -np.log(np.prod(l))\n",
      "/var/folders/bq/3gyftpdn1jj45c_b7cpcjr200000gn/T/ipykernel_2765/2828207961.py:16: RuntimeWarning: divide by zero encountered in log\n",
      "  return -np.log(np.prod(l))\n",
      "/Users/alejandro/src/github.com/alexrs/dtu-cognitive-modelling/bayes-homework/lib/python3.9/site-packages/scipy/optimize/_numdiff.py:557: RuntimeWarning: invalid value encountered in subtract\n",
      "  df = fun(x) - f0\n",
      "/var/folders/bq/3gyftpdn1jj45c_b7cpcjr200000gn/T/ipykernel_2765/2828207961.py:16: RuntimeWarning: divide by zero encountered in log\n",
      "  return -np.log(np.prod(l))\n",
      "/var/folders/bq/3gyftpdn1jj45c_b7cpcjr200000gn/T/ipykernel_2765/2828207961.py:16: RuntimeWarning: divide by zero encountered in log\n",
      "  return -np.log(np.prod(l))\n",
      "/Users/alejandro/src/github.com/alexrs/dtu-cognitive-modelling/bayes-homework/lib/python3.9/site-packages/scipy/optimize/_numdiff.py:557: RuntimeWarning: invalid value encountered in subtract\n",
      "  df = fun(x) - f0\n",
      "/var/folders/bq/3gyftpdn1jj45c_b7cpcjr200000gn/T/ipykernel_2765/2828207961.py:16: RuntimeWarning: divide by zero encountered in log\n",
      "  return -np.log(np.prod(l))\n",
      "/var/folders/bq/3gyftpdn1jj45c_b7cpcjr200000gn/T/ipykernel_2765/2828207961.py:16: RuntimeWarning: divide by zero encountered in log\n",
      "  return -np.log(np.prod(l))\n",
      "/Users/alejandro/src/github.com/alexrs/dtu-cognitive-modelling/bayes-homework/lib/python3.9/site-packages/scipy/optimize/_numdiff.py:557: RuntimeWarning: invalid value encountered in subtract\n",
      "  df = fun(x) - f0\n",
      "/var/folders/bq/3gyftpdn1jj45c_b7cpcjr200000gn/T/ipykernel_2765/2828207961.py:16: RuntimeWarning: divide by zero encountered in log\n",
      "  return -np.log(np.prod(l))\n",
      "/var/folders/bq/3gyftpdn1jj45c_b7cpcjr200000gn/T/ipykernel_2765/2828207961.py:16: RuntimeWarning: divide by zero encountered in log\n",
      "  return -np.log(np.prod(l))\n",
      "/Users/alejandro/src/github.com/alexrs/dtu-cognitive-modelling/bayes-homework/lib/python3.9/site-packages/scipy/optimize/_numdiff.py:557: RuntimeWarning: invalid value encountered in subtract\n",
      "  df = fun(x) - f0\n",
      "/var/folders/bq/3gyftpdn1jj45c_b7cpcjr200000gn/T/ipykernel_2765/2828207961.py:16: RuntimeWarning: divide by zero encountered in log\n",
      "  return -np.log(np.prod(l))\n",
      "/var/folders/bq/3gyftpdn1jj45c_b7cpcjr200000gn/T/ipykernel_2765/2828207961.py:16: RuntimeWarning: divide by zero encountered in log\n",
      "  return -np.log(np.prod(l))\n",
      "/Users/alejandro/src/github.com/alexrs/dtu-cognitive-modelling/bayes-homework/lib/python3.9/site-packages/scipy/optimize/_numdiff.py:557: RuntimeWarning: invalid value encountered in subtract\n",
      "  df = fun(x) - f0\n",
      "/var/folders/bq/3gyftpdn1jj45c_b7cpcjr200000gn/T/ipykernel_2765/2828207961.py:16: RuntimeWarning: divide by zero encountered in log\n",
      "  return -np.log(np.prod(l))\n",
      "/var/folders/bq/3gyftpdn1jj45c_b7cpcjr200000gn/T/ipykernel_2765/2828207961.py:16: RuntimeWarning: divide by zero encountered in log\n",
      "  return -np.log(np.prod(l))\n",
      "/Users/alejandro/src/github.com/alexrs/dtu-cognitive-modelling/bayes-homework/lib/python3.9/site-packages/scipy/optimize/_numdiff.py:557: RuntimeWarning: invalid value encountered in subtract\n",
      "  df = fun(x) - f0\n",
      "/var/folders/bq/3gyftpdn1jj45c_b7cpcjr200000gn/T/ipykernel_2765/2828207961.py:16: RuntimeWarning: divide by zero encountered in log\n",
      "  return -np.log(np.prod(l))\n",
      "/var/folders/bq/3gyftpdn1jj45c_b7cpcjr200000gn/T/ipykernel_2765/2828207961.py:16: RuntimeWarning: divide by zero encountered in log\n",
      "  return -np.log(np.prod(l))\n",
      "/Users/alejandro/src/github.com/alexrs/dtu-cognitive-modelling/bayes-homework/lib/python3.9/site-packages/scipy/optimize/_numdiff.py:557: RuntimeWarning: invalid value encountered in subtract\n",
      "  df = fun(x) - f0\n",
      "/var/folders/bq/3gyftpdn1jj45c_b7cpcjr200000gn/T/ipykernel_2765/2828207961.py:16: RuntimeWarning: divide by zero encountered in log\n",
      "  return -np.log(np.prod(l))\n"
     ]
    },
    {
     "name": "stdout",
     "output_type": "stream",
     "text": [
      "TRAINING ERR DATA 3 [67.20421655309757, 66.56830165058346, 61.98186085074032, 63.87248421646444, 66.9870300938625, 66.35624511790013, 64.75629225961453, 65.2607459174279, 64.91122921782858, 62.44753305543592, 67.21123683106947, 64.71276023183142, 65.94714553485095, 65.38991645405912, 65.72228756912489, 67.2045068398311, 66.84346392930233, 62.40876475584542, 63.54282997372479, 66.08911706005757, 67.17320749875655, 66.11336905967745, 62.01632846041405, 63.9979397081591, 66.59201182981236, 65.10813055226883, 65.17455043814722, 63.353548786593706, 65.77186286702695, 67.02406025283393, 59.16592262487633, 64.9376339103853, 64.41104301061733, 66.21754103428688, 67.16466684318006]\n",
      "TEST ERR DATA 3 79.6511151747029\n"
     ]
    },
    {
     "name": "stderr",
     "output_type": "stream",
     "text": [
      "/var/folders/bq/3gyftpdn1jj45c_b7cpcjr200000gn/T/ipykernel_2765/2828207961.py:16: RuntimeWarning: divide by zero encountered in log\n",
      "  return -np.log(np.prod(l))\n",
      "/Users/alejandro/src/github.com/alexrs/dtu-cognitive-modelling/bayes-homework/lib/python3.9/site-packages/scipy/optimize/_numdiff.py:557: RuntimeWarning: invalid value encountered in subtract\n",
      "  df = fun(x) - f0\n",
      "/var/folders/bq/3gyftpdn1jj45c_b7cpcjr200000gn/T/ipykernel_2765/2828207961.py:16: RuntimeWarning: divide by zero encountered in log\n",
      "  return -np.log(np.prod(l))\n",
      "/var/folders/bq/3gyftpdn1jj45c_b7cpcjr200000gn/T/ipykernel_2765/2828207961.py:16: RuntimeWarning: divide by zero encountered in log\n",
      "  return -np.log(np.prod(l))\n",
      "/Users/alejandro/src/github.com/alexrs/dtu-cognitive-modelling/bayes-homework/lib/python3.9/site-packages/scipy/optimize/_numdiff.py:557: RuntimeWarning: invalid value encountered in subtract\n",
      "  df = fun(x) - f0\n",
      "/var/folders/bq/3gyftpdn1jj45c_b7cpcjr200000gn/T/ipykernel_2765/2828207961.py:16: RuntimeWarning: divide by zero encountered in log\n",
      "  return -np.log(np.prod(l))\n",
      "/var/folders/bq/3gyftpdn1jj45c_b7cpcjr200000gn/T/ipykernel_2765/2828207961.py:16: RuntimeWarning: divide by zero encountered in log\n",
      "  return -np.log(np.prod(l))\n",
      "/Users/alejandro/src/github.com/alexrs/dtu-cognitive-modelling/bayes-homework/lib/python3.9/site-packages/scipy/optimize/_numdiff.py:557: RuntimeWarning: invalid value encountered in subtract\n",
      "  df = fun(x) - f0\n",
      "/var/folders/bq/3gyftpdn1jj45c_b7cpcjr200000gn/T/ipykernel_2765/2828207961.py:16: RuntimeWarning: divide by zero encountered in log\n",
      "  return -np.log(np.prod(l))\n",
      "/var/folders/bq/3gyftpdn1jj45c_b7cpcjr200000gn/T/ipykernel_2765/2828207961.py:16: RuntimeWarning: divide by zero encountered in log\n",
      "  return -np.log(np.prod(l))\n",
      "/Users/alejandro/src/github.com/alexrs/dtu-cognitive-modelling/bayes-homework/lib/python3.9/site-packages/scipy/optimize/_numdiff.py:557: RuntimeWarning: invalid value encountered in subtract\n",
      "  df = fun(x) - f0\n",
      "/var/folders/bq/3gyftpdn1jj45c_b7cpcjr200000gn/T/ipykernel_2765/2828207961.py:16: RuntimeWarning: divide by zero encountered in log\n",
      "  return -np.log(np.prod(l))\n",
      "/var/folders/bq/3gyftpdn1jj45c_b7cpcjr200000gn/T/ipykernel_2765/2828207961.py:16: RuntimeWarning: divide by zero encountered in log\n",
      "  return -np.log(np.prod(l))\n",
      "/Users/alejandro/src/github.com/alexrs/dtu-cognitive-modelling/bayes-homework/lib/python3.9/site-packages/scipy/optimize/_numdiff.py:557: RuntimeWarning: invalid value encountered in subtract\n",
      "  df = fun(x) - f0\n",
      "/var/folders/bq/3gyftpdn1jj45c_b7cpcjr200000gn/T/ipykernel_2765/2828207961.py:16: RuntimeWarning: divide by zero encountered in log\n",
      "  return -np.log(np.prod(l))\n",
      "/var/folders/bq/3gyftpdn1jj45c_b7cpcjr200000gn/T/ipykernel_2765/2828207961.py:16: RuntimeWarning: divide by zero encountered in log\n",
      "  return -np.log(np.prod(l))\n",
      "/Users/alejandro/src/github.com/alexrs/dtu-cognitive-modelling/bayes-homework/lib/python3.9/site-packages/scipy/optimize/_numdiff.py:557: RuntimeWarning: invalid value encountered in subtract\n",
      "  df = fun(x) - f0\n",
      "/var/folders/bq/3gyftpdn1jj45c_b7cpcjr200000gn/T/ipykernel_2765/2828207961.py:16: RuntimeWarning: divide by zero encountered in log\n",
      "  return -np.log(np.prod(l))\n",
      "/var/folders/bq/3gyftpdn1jj45c_b7cpcjr200000gn/T/ipykernel_2765/2828207961.py:16: RuntimeWarning: divide by zero encountered in log\n",
      "  return -np.log(np.prod(l))\n",
      "/Users/alejandro/src/github.com/alexrs/dtu-cognitive-modelling/bayes-homework/lib/python3.9/site-packages/scipy/optimize/_numdiff.py:557: RuntimeWarning: invalid value encountered in subtract\n",
      "  df = fun(x) - f0\n",
      "/var/folders/bq/3gyftpdn1jj45c_b7cpcjr200000gn/T/ipykernel_2765/2828207961.py:16: RuntimeWarning: divide by zero encountered in log\n",
      "  return -np.log(np.prod(l))\n",
      "/Users/alejandro/src/github.com/alexrs/dtu-cognitive-modelling/bayes-homework/lib/python3.9/site-packages/scipy/optimize/_numdiff.py:557: RuntimeWarning: invalid value encountered in subtract\n",
      "  df = fun(x) - f0\n",
      "/var/folders/bq/3gyftpdn1jj45c_b7cpcjr200000gn/T/ipykernel_2765/2828207961.py:16: RuntimeWarning: divide by zero encountered in log\n",
      "  return -np.log(np.prod(l))\n",
      "/var/folders/bq/3gyftpdn1jj45c_b7cpcjr200000gn/T/ipykernel_2765/2828207961.py:16: RuntimeWarning: divide by zero encountered in log\n",
      "  return -np.log(np.prod(l))\n",
      "/Users/alejandro/src/github.com/alexrs/dtu-cognitive-modelling/bayes-homework/lib/python3.9/site-packages/scipy/optimize/_numdiff.py:557: RuntimeWarning: invalid value encountered in subtract\n",
      "  df = fun(x) - f0\n",
      "/var/folders/bq/3gyftpdn1jj45c_b7cpcjr200000gn/T/ipykernel_2765/2828207961.py:16: RuntimeWarning: divide by zero encountered in log\n",
      "  return -np.log(np.prod(l))\n",
      "/var/folders/bq/3gyftpdn1jj45c_b7cpcjr200000gn/T/ipykernel_2765/2828207961.py:16: RuntimeWarning: divide by zero encountered in log\n",
      "  return -np.log(np.prod(l))\n",
      "/Users/alejandro/src/github.com/alexrs/dtu-cognitive-modelling/bayes-homework/lib/python3.9/site-packages/scipy/optimize/_numdiff.py:557: RuntimeWarning: invalid value encountered in subtract\n",
      "  df = fun(x) - f0\n",
      "/var/folders/bq/3gyftpdn1jj45c_b7cpcjr200000gn/T/ipykernel_2765/2828207961.py:16: RuntimeWarning: divide by zero encountered in log\n",
      "  return -np.log(np.prod(l))\n",
      "/var/folders/bq/3gyftpdn1jj45c_b7cpcjr200000gn/T/ipykernel_2765/2828207961.py:16: RuntimeWarning: divide by zero encountered in log\n",
      "  return -np.log(np.prod(l))\n",
      "/Users/alejandro/src/github.com/alexrs/dtu-cognitive-modelling/bayes-homework/lib/python3.9/site-packages/scipy/optimize/_numdiff.py:557: RuntimeWarning: invalid value encountered in subtract\n",
      "  df = fun(x) - f0\n",
      "/var/folders/bq/3gyftpdn1jj45c_b7cpcjr200000gn/T/ipykernel_2765/2828207961.py:16: RuntimeWarning: divide by zero encountered in log\n",
      "  return -np.log(np.prod(l))\n",
      "/var/folders/bq/3gyftpdn1jj45c_b7cpcjr200000gn/T/ipykernel_2765/2828207961.py:16: RuntimeWarning: divide by zero encountered in log\n",
      "  return -np.log(np.prod(l))\n",
      "/Users/alejandro/src/github.com/alexrs/dtu-cognitive-modelling/bayes-homework/lib/python3.9/site-packages/scipy/optimize/_numdiff.py:557: RuntimeWarning: invalid value encountered in subtract\n",
      "  df = fun(x) - f0\n",
      "/var/folders/bq/3gyftpdn1jj45c_b7cpcjr200000gn/T/ipykernel_2765/2828207961.py:16: RuntimeWarning: divide by zero encountered in log\n",
      "  return -np.log(np.prod(l))\n",
      "/var/folders/bq/3gyftpdn1jj45c_b7cpcjr200000gn/T/ipykernel_2765/2828207961.py:16: RuntimeWarning: divide by zero encountered in log\n",
      "  return -np.log(np.prod(l))\n",
      "/Users/alejandro/src/github.com/alexrs/dtu-cognitive-modelling/bayes-homework/lib/python3.9/site-packages/scipy/optimize/_numdiff.py:557: RuntimeWarning: invalid value encountered in subtract\n",
      "  df = fun(x) - f0\n",
      "/var/folders/bq/3gyftpdn1jj45c_b7cpcjr200000gn/T/ipykernel_2765/2828207961.py:16: RuntimeWarning: divide by zero encountered in log\n",
      "  return -np.log(np.prod(l))\n",
      "/var/folders/bq/3gyftpdn1jj45c_b7cpcjr200000gn/T/ipykernel_2765/2828207961.py:16: RuntimeWarning: divide by zero encountered in log\n",
      "  return -np.log(np.prod(l))\n",
      "/Users/alejandro/src/github.com/alexrs/dtu-cognitive-modelling/bayes-homework/lib/python3.9/site-packages/scipy/optimize/_numdiff.py:557: RuntimeWarning: invalid value encountered in subtract\n",
      "  df = fun(x) - f0\n",
      "/var/folders/bq/3gyftpdn1jj45c_b7cpcjr200000gn/T/ipykernel_2765/2828207961.py:16: RuntimeWarning: divide by zero encountered in log\n",
      "  return -np.log(np.prod(l))\n",
      "/var/folders/bq/3gyftpdn1jj45c_b7cpcjr200000gn/T/ipykernel_2765/2828207961.py:16: RuntimeWarning: divide by zero encountered in log\n",
      "  return -np.log(np.prod(l))\n",
      "/Users/alejandro/src/github.com/alexrs/dtu-cognitive-modelling/bayes-homework/lib/python3.9/site-packages/scipy/optimize/_numdiff.py:557: RuntimeWarning: invalid value encountered in subtract\n",
      "  df = fun(x) - f0\n",
      "/var/folders/bq/3gyftpdn1jj45c_b7cpcjr200000gn/T/ipykernel_2765/2828207961.py:16: RuntimeWarning: divide by zero encountered in log\n",
      "  return -np.log(np.prod(l))\n",
      "/var/folders/bq/3gyftpdn1jj45c_b7cpcjr200000gn/T/ipykernel_2765/2828207961.py:16: RuntimeWarning: divide by zero encountered in log\n",
      "  return -np.log(np.prod(l))\n",
      "/Users/alejandro/src/github.com/alexrs/dtu-cognitive-modelling/bayes-homework/lib/python3.9/site-packages/scipy/optimize/_numdiff.py:557: RuntimeWarning: invalid value encountered in subtract\n",
      "  df = fun(x) - f0\n",
      "/var/folders/bq/3gyftpdn1jj45c_b7cpcjr200000gn/T/ipykernel_2765/2828207961.py:16: RuntimeWarning: divide by zero encountered in log\n",
      "  return -np.log(np.prod(l))\n"
     ]
    },
    {
     "name": "stderr",
     "output_type": "stream",
     "text": [
      "/var/folders/bq/3gyftpdn1jj45c_b7cpcjr200000gn/T/ipykernel_2765/2828207961.py:16: RuntimeWarning: divide by zero encountered in log\n",
      "  return -np.log(np.prod(l))\n",
      "/Users/alejandro/src/github.com/alexrs/dtu-cognitive-modelling/bayes-homework/lib/python3.9/site-packages/scipy/optimize/_numdiff.py:557: RuntimeWarning: invalid value encountered in subtract\n",
      "  df = fun(x) - f0\n",
      "/var/folders/bq/3gyftpdn1jj45c_b7cpcjr200000gn/T/ipykernel_2765/2828207961.py:16: RuntimeWarning: divide by zero encountered in log\n",
      "  return -np.log(np.prod(l))\n",
      "/var/folders/bq/3gyftpdn1jj45c_b7cpcjr200000gn/T/ipykernel_2765/2828207961.py:16: RuntimeWarning: divide by zero encountered in log\n",
      "  return -np.log(np.prod(l))\n",
      "/Users/alejandro/src/github.com/alexrs/dtu-cognitive-modelling/bayes-homework/lib/python3.9/site-packages/scipy/optimize/_numdiff.py:557: RuntimeWarning: invalid value encountered in subtract\n",
      "  df = fun(x) - f0\n",
      "/var/folders/bq/3gyftpdn1jj45c_b7cpcjr200000gn/T/ipykernel_2765/2828207961.py:16: RuntimeWarning: divide by zero encountered in log\n",
      "  return -np.log(np.prod(l))\n",
      "/var/folders/bq/3gyftpdn1jj45c_b7cpcjr200000gn/T/ipykernel_2765/2828207961.py:16: RuntimeWarning: divide by zero encountered in log\n",
      "  return -np.log(np.prod(l))\n",
      "/Users/alejandro/src/github.com/alexrs/dtu-cognitive-modelling/bayes-homework/lib/python3.9/site-packages/scipy/optimize/_numdiff.py:557: RuntimeWarning: invalid value encountered in subtract\n",
      "  df = fun(x) - f0\n",
      "/var/folders/bq/3gyftpdn1jj45c_b7cpcjr200000gn/T/ipykernel_2765/2828207961.py:16: RuntimeWarning: divide by zero encountered in log\n",
      "  return -np.log(np.prod(l))\n",
      "/var/folders/bq/3gyftpdn1jj45c_b7cpcjr200000gn/T/ipykernel_2765/2828207961.py:16: RuntimeWarning: divide by zero encountered in log\n",
      "  return -np.log(np.prod(l))\n",
      "/Users/alejandro/src/github.com/alexrs/dtu-cognitive-modelling/bayes-homework/lib/python3.9/site-packages/scipy/optimize/_numdiff.py:557: RuntimeWarning: invalid value encountered in subtract\n",
      "  df = fun(x) - f0\n",
      "/var/folders/bq/3gyftpdn1jj45c_b7cpcjr200000gn/T/ipykernel_2765/2828207961.py:16: RuntimeWarning: divide by zero encountered in log\n",
      "  return -np.log(np.prod(l))\n",
      "/var/folders/bq/3gyftpdn1jj45c_b7cpcjr200000gn/T/ipykernel_2765/2828207961.py:16: RuntimeWarning: divide by zero encountered in log\n",
      "  return -np.log(np.prod(l))\n",
      "/Users/alejandro/src/github.com/alexrs/dtu-cognitive-modelling/bayes-homework/lib/python3.9/site-packages/scipy/optimize/_numdiff.py:557: RuntimeWarning: invalid value encountered in subtract\n",
      "  df = fun(x) - f0\n",
      "/var/folders/bq/3gyftpdn1jj45c_b7cpcjr200000gn/T/ipykernel_2765/2828207961.py:16: RuntimeWarning: divide by zero encountered in log\n",
      "  return -np.log(np.prod(l))\n",
      "/var/folders/bq/3gyftpdn1jj45c_b7cpcjr200000gn/T/ipykernel_2765/2828207961.py:16: RuntimeWarning: divide by zero encountered in log\n",
      "  return -np.log(np.prod(l))\n",
      "/Users/alejandro/src/github.com/alexrs/dtu-cognitive-modelling/bayes-homework/lib/python3.9/site-packages/scipy/optimize/_numdiff.py:557: RuntimeWarning: invalid value encountered in subtract\n",
      "  df = fun(x) - f0\n",
      "/var/folders/bq/3gyftpdn1jj45c_b7cpcjr200000gn/T/ipykernel_2765/2828207961.py:16: RuntimeWarning: divide by zero encountered in log\n",
      "  return -np.log(np.prod(l))\n",
      "/var/folders/bq/3gyftpdn1jj45c_b7cpcjr200000gn/T/ipykernel_2765/2828207961.py:16: RuntimeWarning: divide by zero encountered in log\n",
      "  return -np.log(np.prod(l))\n",
      "/Users/alejandro/src/github.com/alexrs/dtu-cognitive-modelling/bayes-homework/lib/python3.9/site-packages/scipy/optimize/_numdiff.py:557: RuntimeWarning: invalid value encountered in subtract\n",
      "  df = fun(x) - f0\n",
      "/var/folders/bq/3gyftpdn1jj45c_b7cpcjr200000gn/T/ipykernel_2765/2828207961.py:16: RuntimeWarning: divide by zero encountered in log\n",
      "  return -np.log(np.prod(l))\n",
      "/var/folders/bq/3gyftpdn1jj45c_b7cpcjr200000gn/T/ipykernel_2765/2828207961.py:16: RuntimeWarning: divide by zero encountered in log\n",
      "  return -np.log(np.prod(l))\n",
      "/Users/alejandro/src/github.com/alexrs/dtu-cognitive-modelling/bayes-homework/lib/python3.9/site-packages/scipy/optimize/_numdiff.py:557: RuntimeWarning: invalid value encountered in subtract\n",
      "  df = fun(x) - f0\n",
      "/var/folders/bq/3gyftpdn1jj45c_b7cpcjr200000gn/T/ipykernel_2765/2828207961.py:16: RuntimeWarning: divide by zero encountered in log\n",
      "  return -np.log(np.prod(l))\n",
      "/var/folders/bq/3gyftpdn1jj45c_b7cpcjr200000gn/T/ipykernel_2765/2828207961.py:16: RuntimeWarning: divide by zero encountered in log\n",
      "  return -np.log(np.prod(l))\n",
      "/Users/alejandro/src/github.com/alexrs/dtu-cognitive-modelling/bayes-homework/lib/python3.9/site-packages/scipy/optimize/_numdiff.py:557: RuntimeWarning: invalid value encountered in subtract\n",
      "  df = fun(x) - f0\n",
      "/var/folders/bq/3gyftpdn1jj45c_b7cpcjr200000gn/T/ipykernel_2765/2828207961.py:16: RuntimeWarning: divide by zero encountered in log\n",
      "  return -np.log(np.prod(l))\n",
      "/var/folders/bq/3gyftpdn1jj45c_b7cpcjr200000gn/T/ipykernel_2765/2828207961.py:16: RuntimeWarning: divide by zero encountered in log\n",
      "  return -np.log(np.prod(l))\n",
      "/Users/alejandro/src/github.com/alexrs/dtu-cognitive-modelling/bayes-homework/lib/python3.9/site-packages/scipy/optimize/_numdiff.py:557: RuntimeWarning: invalid value encountered in subtract\n",
      "  df = fun(x) - f0\n",
      "/var/folders/bq/3gyftpdn1jj45c_b7cpcjr200000gn/T/ipykernel_2765/2828207961.py:16: RuntimeWarning: divide by zero encountered in log\n",
      "  return -np.log(np.prod(l))\n",
      "/var/folders/bq/3gyftpdn1jj45c_b7cpcjr200000gn/T/ipykernel_2765/2828207961.py:16: RuntimeWarning: divide by zero encountered in log\n",
      "  return -np.log(np.prod(l))\n",
      "/Users/alejandro/src/github.com/alexrs/dtu-cognitive-modelling/bayes-homework/lib/python3.9/site-packages/scipy/optimize/_numdiff.py:557: RuntimeWarning: invalid value encountered in subtract\n",
      "  df = fun(x) - f0\n",
      "/var/folders/bq/3gyftpdn1jj45c_b7cpcjr200000gn/T/ipykernel_2765/2828207961.py:16: RuntimeWarning: divide by zero encountered in log\n",
      "  return -np.log(np.prod(l))\n",
      "/var/folders/bq/3gyftpdn1jj45c_b7cpcjr200000gn/T/ipykernel_2765/2828207961.py:16: RuntimeWarning: divide by zero encountered in log\n",
      "  return -np.log(np.prod(l))\n",
      "/Users/alejandro/src/github.com/alexrs/dtu-cognitive-modelling/bayes-homework/lib/python3.9/site-packages/scipy/optimize/_numdiff.py:557: RuntimeWarning: invalid value encountered in subtract\n",
      "  df = fun(x) - f0\n",
      "/var/folders/bq/3gyftpdn1jj45c_b7cpcjr200000gn/T/ipykernel_2765/2828207961.py:16: RuntimeWarning: divide by zero encountered in log\n",
      "  return -np.log(np.prod(l))\n",
      "/var/folders/bq/3gyftpdn1jj45c_b7cpcjr200000gn/T/ipykernel_2765/2828207961.py:16: RuntimeWarning: divide by zero encountered in log\n",
      "  return -np.log(np.prod(l))\n",
      "/Users/alejandro/src/github.com/alexrs/dtu-cognitive-modelling/bayes-homework/lib/python3.9/site-packages/scipy/optimize/_numdiff.py:557: RuntimeWarning: invalid value encountered in subtract\n",
      "  df = fun(x) - f0\n",
      "/var/folders/bq/3gyftpdn1jj45c_b7cpcjr200000gn/T/ipykernel_2765/2828207961.py:16: RuntimeWarning: divide by zero encountered in log\n",
      "  return -np.log(np.prod(l))\n",
      "/var/folders/bq/3gyftpdn1jj45c_b7cpcjr200000gn/T/ipykernel_2765/2828207961.py:16: RuntimeWarning: divide by zero encountered in log\n",
      "  return -np.log(np.prod(l))\n",
      "/Users/alejandro/src/github.com/alexrs/dtu-cognitive-modelling/bayes-homework/lib/python3.9/site-packages/scipy/optimize/_numdiff.py:557: RuntimeWarning: invalid value encountered in subtract\n",
      "  df = fun(x) - f0\n",
      "/var/folders/bq/3gyftpdn1jj45c_b7cpcjr200000gn/T/ipykernel_2765/2828207961.py:16: RuntimeWarning: divide by zero encountered in log\n",
      "  return -np.log(np.prod(l))\n",
      "/var/folders/bq/3gyftpdn1jj45c_b7cpcjr200000gn/T/ipykernel_2765/2828207961.py:16: RuntimeWarning: divide by zero encountered in log\n",
      "  return -np.log(np.prod(l))\n",
      "/Users/alejandro/src/github.com/alexrs/dtu-cognitive-modelling/bayes-homework/lib/python3.9/site-packages/scipy/optimize/_numdiff.py:557: RuntimeWarning: invalid value encountered in subtract\n",
      "  df = fun(x) - f0\n",
      "/var/folders/bq/3gyftpdn1jj45c_b7cpcjr200000gn/T/ipykernel_2765/2828207961.py:16: RuntimeWarning: divide by zero encountered in log\n",
      "  return -np.log(np.prod(l))\n",
      "/var/folders/bq/3gyftpdn1jj45c_b7cpcjr200000gn/T/ipykernel_2765/2828207961.py:16: RuntimeWarning: divide by zero encountered in log\n",
      "  return -np.log(np.prod(l))\n",
      "/Users/alejandro/src/github.com/alexrs/dtu-cognitive-modelling/bayes-homework/lib/python3.9/site-packages/scipy/optimize/_numdiff.py:557: RuntimeWarning: invalid value encountered in subtract\n",
      "  df = fun(x) - f0\n",
      "/var/folders/bq/3gyftpdn1jj45c_b7cpcjr200000gn/T/ipykernel_2765/2828207961.py:16: RuntimeWarning: divide by zero encountered in log\n",
      "  return -np.log(np.prod(l))\n"
     ]
    },
    {
     "name": "stderr",
     "output_type": "stream",
     "text": [
      "/var/folders/bq/3gyftpdn1jj45c_b7cpcjr200000gn/T/ipykernel_2765/2828207961.py:16: RuntimeWarning: divide by zero encountered in log\n",
      "  return -np.log(np.prod(l))\n",
      "/Users/alejandro/src/github.com/alexrs/dtu-cognitive-modelling/bayes-homework/lib/python3.9/site-packages/scipy/optimize/_numdiff.py:557: RuntimeWarning: invalid value encountered in subtract\n",
      "  df = fun(x) - f0\n",
      "/var/folders/bq/3gyftpdn1jj45c_b7cpcjr200000gn/T/ipykernel_2765/2828207961.py:16: RuntimeWarning: divide by zero encountered in log\n",
      "  return -np.log(np.prod(l))\n",
      "/var/folders/bq/3gyftpdn1jj45c_b7cpcjr200000gn/T/ipykernel_2765/2828207961.py:16: RuntimeWarning: divide by zero encountered in log\n",
      "  return -np.log(np.prod(l))\n",
      "/Users/alejandro/src/github.com/alexrs/dtu-cognitive-modelling/bayes-homework/lib/python3.9/site-packages/scipy/optimize/_numdiff.py:557: RuntimeWarning: invalid value encountered in subtract\n",
      "  df = fun(x) - f0\n",
      "/var/folders/bq/3gyftpdn1jj45c_b7cpcjr200000gn/T/ipykernel_2765/2828207961.py:16: RuntimeWarning: divide by zero encountered in log\n",
      "  return -np.log(np.prod(l))\n",
      "/var/folders/bq/3gyftpdn1jj45c_b7cpcjr200000gn/T/ipykernel_2765/2828207961.py:16: RuntimeWarning: divide by zero encountered in log\n",
      "  return -np.log(np.prod(l))\n",
      "/Users/alejandro/src/github.com/alexrs/dtu-cognitive-modelling/bayes-homework/lib/python3.9/site-packages/scipy/optimize/_numdiff.py:557: RuntimeWarning: invalid value encountered in subtract\n",
      "  df = fun(x) - f0\n",
      "/var/folders/bq/3gyftpdn1jj45c_b7cpcjr200000gn/T/ipykernel_2765/2828207961.py:16: RuntimeWarning: divide by zero encountered in log\n",
      "  return -np.log(np.prod(l))\n",
      "/var/folders/bq/3gyftpdn1jj45c_b7cpcjr200000gn/T/ipykernel_2765/2828207961.py:16: RuntimeWarning: divide by zero encountered in log\n",
      "  return -np.log(np.prod(l))\n",
      "/Users/alejandro/src/github.com/alexrs/dtu-cognitive-modelling/bayes-homework/lib/python3.9/site-packages/scipy/optimize/_numdiff.py:557: RuntimeWarning: invalid value encountered in subtract\n",
      "  df = fun(x) - f0\n",
      "/var/folders/bq/3gyftpdn1jj45c_b7cpcjr200000gn/T/ipykernel_2765/2828207961.py:16: RuntimeWarning: divide by zero encountered in log\n",
      "  return -np.log(np.prod(l))\n",
      "/var/folders/bq/3gyftpdn1jj45c_b7cpcjr200000gn/T/ipykernel_2765/2828207961.py:16: RuntimeWarning: divide by zero encountered in log\n",
      "  return -np.log(np.prod(l))\n",
      "/Users/alejandro/src/github.com/alexrs/dtu-cognitive-modelling/bayes-homework/lib/python3.9/site-packages/scipy/optimize/_numdiff.py:557: RuntimeWarning: invalid value encountered in subtract\n",
      "  df = fun(x) - f0\n",
      "/var/folders/bq/3gyftpdn1jj45c_b7cpcjr200000gn/T/ipykernel_2765/2828207961.py:16: RuntimeWarning: divide by zero encountered in log\n",
      "  return -np.log(np.prod(l))\n",
      "/var/folders/bq/3gyftpdn1jj45c_b7cpcjr200000gn/T/ipykernel_2765/2828207961.py:16: RuntimeWarning: divide by zero encountered in log\n",
      "  return -np.log(np.prod(l))\n",
      "/Users/alejandro/src/github.com/alexrs/dtu-cognitive-modelling/bayes-homework/lib/python3.9/site-packages/scipy/optimize/_numdiff.py:557: RuntimeWarning: invalid value encountered in subtract\n",
      "  df = fun(x) - f0\n",
      "/var/folders/bq/3gyftpdn1jj45c_b7cpcjr200000gn/T/ipykernel_2765/2828207961.py:16: RuntimeWarning: divide by zero encountered in log\n",
      "  return -np.log(np.prod(l))\n"
     ]
    },
    {
     "name": "stdout",
     "output_type": "stream",
     "text": [
      "TRAINING ERR DATA 4 [53.54556386645142, 51.96147003403742, 51.643361741926796, 49.95322636387471, 53.49408733047097, 49.55339581223855, 49.87675069915557, 48.62959625106602, 52.26360116803368, 53.527482572776066, 53.545579874196626, 53.404595911996765, 51.12049218550219, 50.43671114105635, 52.557616034246074, 48.41548073249293, 52.4554451456176, 51.27809317337895, 50.30591356426392, 53.32620918496671, 53.4860920024153, 52.282073266848506, 51.6807754607618, 52.42732590610528, 53.50773038936421, 49.822025269876065, 51.80447813744295, 51.7367144677631, 52.278002741469905, 53.54138742980458, 52.549395516985776, 50.73179753221811, 51.5676903880382, 53.452214406514365, 53.545973988285304]\n",
      "TEST ERR DATA 4 64.84448342311892\n"
     ]
    }
   ],
   "source": [
    "p_4_mle = []\n",
    "\n",
    "for s in range(5):\n",
    "    test_err = []\n",
    "    training_err = []\n",
    "    p_4_mle_s = []\n",
    "    for i in range(35):\n",
    "        m = minimize(log_likelihood_gaussian_2, [1,1,1,1], args=(data[s], i))\n",
    "        training_err.append(m.fun)\n",
    "        test_err.append(compute_binom_mle(m.x, data[s], i))\n",
    "        p_4_mle_s.append(calculate_p_mle([m])[0][i])\n",
    "\n",
    "    p_4_mle.append(p_4_mle_s)\n",
    "    print(\"TRAINING ERR DATA\", s , training_err)\n",
    "    print(\"TEST ERR DATA\", s, sum(test_err))"
   ]
  },
  {
   "cell_type": "code",
   "execution_count": 60,
   "id": "585231bf",
   "metadata": {},
   "outputs": [
    {
     "data": {
      "text/plain": [
       "<matplotlib.legend.Legend at 0x1285d7f10>"
      ]
     },
     "execution_count": 60,
     "metadata": {},
     "output_type": "execute_result"
    },
    {
     "data": {
      "image/png": "[encoded data removed]",
      "text/plain": [
       "<Figure size 432x288 with 1 Axes>"
      ]
     },
     "metadata": {
      "needs_background": "light"
     },
     "output_type": "display_data"
    }
   ],
   "source": [
    "plt.figure()    \n",
    "plt.scatter(p_4_flme[0], (data[0]/24).reshape((35,1)))\n",
    "plt.scatter(p_4_mle[0], (data[0]/24).reshape((35,1)))\n",
    "plt.title('Subject 1')\n",
    "plt.xlabel('Estimated probability')\n",
    "plt.ylabel('Proportions')\n",
    "plt.legend([\"FLMP\", \"MLE\"])"
   ]
  },
  {
   "cell_type": "code",
   "execution_count": 89,
   "id": "3e774a6b",
   "metadata": {},
   "outputs": [
    {
     "data": {
      "text/plain": [
       "0.8737505742133839"
      ]
     },
     "execution_count": 89,
     "metadata": {},
     "output_type": "execute_result"
    }
   ],
   "source": [
    "(np.corrcoef(p_4_mle[0], (data[0]/24).reshape((35,1)).flatten().tolist())[0,1])**2"
   ]
  },
  {
   "cell_type": "code",
   "execution_count": 90,
   "id": "b5ec9066",
   "metadata": {},
   "outputs": [
    {
     "data": {
      "text/plain": [
       "0.9515162356131063"
      ]
     },
     "execution_count": 90,
     "metadata": {},
     "output_type": "execute_result"
    }
   ],
   "source": [
    "(np.corrcoef(p_4_flme[0], (data[0]/24).reshape((35,1)).flatten().tolist())[0,1])**2"
   ]
  },
  {
   "cell_type": "code",
   "execution_count": 61,
   "id": "fe88451f",
   "metadata": {},
   "outputs": [
    {
     "data": {
      "text/plain": [
       "<matplotlib.legend.Legend at 0x128651610>"
      ]
     },
     "execution_count": 61,
     "metadata": {},
     "output_type": "execute_result"
    },
    {
     "data": {
      "image/png": "[encoded data removed]",
      "text/plain": [
       "<Figure size 432x288 with 1 Axes>"
      ]
     },
     "metadata": {
      "needs_background": "light"
     },
     "output_type": "display_data"
    }
   ],
   "source": [
    "plt.figure()    \n",
    "plt.scatter(p_4_flme[1], (data[1]/24).reshape((35,1)))\n",
    "plt.scatter(p_4_mle[1], (data[1]/24).reshape((35,1)))\n",
    "plt.title('Subject 2')\n",
    "plt.xlabel('Estimated probability')\n",
    "plt.ylabel('Proportions')\n",
    "plt.legend([\"FLMP\", \"MLE\"])"
   ]
  },
  {
   "cell_type": "code",
   "execution_count": 91,
   "id": "f2ee13c7",
   "metadata": {},
   "outputs": [
    {
     "data": {
      "text/plain": [
       "0.9151558607982938"
      ]
     },
     "execution_count": 91,
     "metadata": {},
     "output_type": "execute_result"
    }
   ],
   "source": [
    "(np.corrcoef(p_4_mle[1], (data[1]/24).reshape((35,1)).flatten().tolist())[0,1])**2"
   ]
  },
  {
   "cell_type": "code",
   "execution_count": 93,
   "id": "ec03cb22",
   "metadata": {},
   "outputs": [
    {
     "data": {
      "text/plain": [
       "0.8937650181366554"
      ]
     },
     "execution_count": 93,
     "metadata": {},
     "output_type": "execute_result"
    }
   ],
   "source": [
    "(np.corrcoef(p_4_flme[1], (data[1]/24).reshape((35,1)).flatten().tolist())[0,1])**2"
   ]
  },
  {
   "cell_type": "code",
   "execution_count": 62,
   "id": "1b3835ff",
   "metadata": {
    "scrolled": true
   },
   "outputs": [
    {
     "data": {
      "text/plain": [
       "<matplotlib.legend.Legend at 0x1286c0580>"
      ]
     },
     "execution_count": 62,
     "metadata": {},
     "output_type": "execute_result"
    },
    {
     "data": {
      "image/png": "[encoded data removed]",
      "text/plain": [
       "<Figure size 432x288 with 1 Axes>"
      ]
     },
     "metadata": {
      "needs_background": "light"
     },
     "output_type": "display_data"
    }
   ],
   "source": [
    "plt.figure()    \n",
    "plt.scatter(p_4_flme[2], (data[2]/24).reshape((35,1)))\n",
    "plt.scatter(p_4_mle[2], (data[2]/24).reshape((35,1)))\n",
    "plt.title('Subject 3')\n",
    "plt.xlabel('Estimated probability')\n",
    "plt.ylabel('Proportions')\n",
    "plt.legend([\"FLMP\", \"MLE\"])"
   ]
  },
  {
   "cell_type": "code",
   "execution_count": 94,
   "id": "81ba4837",
   "metadata": {},
   "outputs": [
    {
     "data": {
      "text/plain": [
       "0.8850872700131527"
      ]
     },
     "execution_count": 94,
     "metadata": {},
     "output_type": "execute_result"
    }
   ],
   "source": [
    "(np.corrcoef(p_4_mle[2], (data[2]/24).reshape((35,1)).flatten().tolist())[0,1])**2"
   ]
  },
  {
   "cell_type": "code",
   "execution_count": 95,
   "id": "d0dc63d2",
   "metadata": {},
   "outputs": [
    {
     "data": {
      "text/plain": [
       "0.9048029945907663"
      ]
     },
     "execution_count": 95,
     "metadata": {},
     "output_type": "execute_result"
    }
   ],
   "source": [
    "(np.corrcoef(p_4_flme[2], (data[2]/24).reshape((35,1)).flatten().tolist())[0,1])**2"
   ]
  },
  {
   "cell_type": "code",
   "execution_count": 63,
   "id": "385173f7",
   "metadata": {},
   "outputs": [
    {
     "data": {
      "text/plain": [
       "<matplotlib.legend.Legend at 0x12872c700>"
      ]
     },
     "execution_count": 63,
     "metadata": {},
     "output_type": "execute_result"
    },
    {
     "data": {
      "image/png": "[encoded data removed]",
      "text/plain": [
       "<Figure size 432x288 with 1 Axes>"
      ]
     },
     "metadata": {
      "needs_background": "light"
     },
     "output_type": "display_data"
    }
   ],
   "source": [
    "plt.figure()    \n",
    "plt.scatter(p_4_flme[3], (data[3]/24).reshape((35,1)))\n",
    "plt.scatter(p_4_mle[3], (data[3]/24).reshape((35,1)))\n",
    "plt.title('Subject 4')\n",
    "plt.xlabel('Estimated probability')\n",
    "plt.ylabel('Proportions')\n",
    "plt.legend([\"FLMP\", \"MLE\"])"
   ]
  },
  {
   "cell_type": "code",
   "execution_count": 96,
   "id": "80f4357d",
   "metadata": {},
   "outputs": [
    {
     "data": {
      "text/plain": [
       "0.9251848911253155"
      ]
     },
     "execution_count": 96,
     "metadata": {},
     "output_type": "execute_result"
    }
   ],
   "source": [
    "(np.corrcoef(p_4_mle[3], (data[3]/24).reshape((35,1)).flatten().tolist())[0,1])**2"
   ]
  },
  {
   "cell_type": "code",
   "execution_count": 97,
   "id": "ca3a77b8",
   "metadata": {},
   "outputs": [
    {
     "data": {
      "text/plain": [
       "0.9763791576785812"
      ]
     },
     "execution_count": 97,
     "metadata": {},
     "output_type": "execute_result"
    }
   ],
   "source": [
    "(np.corrcoef(p_4_flme[3], (data[3]/24).reshape((35,1)).flatten().tolist())[0,1])**2"
   ]
  },
  {
   "cell_type": "code",
   "execution_count": 64,
   "id": "e02748c6",
   "metadata": {},
   "outputs": [
    {
     "data": {
      "text/plain": [
       "<matplotlib.legend.Legend at 0x1287a30d0>"
      ]
     },
     "execution_count": 64,
     "metadata": {},
     "output_type": "execute_result"
    },
    {
     "data": {
      "image/png": "[encoded data removed]",
      "text/plain": [
       "<Figure size 432x288 with 1 Axes>"
      ]
     },
     "metadata": {
      "needs_background": "light"
     },
     "output_type": "display_data"
    }
   ],
   "source": [
    "plt.figure()    \n",
    "plt.scatter(p_4_flme[4], (data[4]/24).reshape((35,1)))\n",
    "plt.scatter(p_4_mle[4], (data[4]/24).reshape((35,1)))\n",
    "plt.title('Subject 5')\n",
    "plt.xlabel('Estimated probability')\n",
    "plt.ylabel('Proportions')\n",
    "plt.legend([\"FLMP\", \"MLE\"])"
   ]
  },
  {
   "cell_type": "code",
   "execution_count": 98,
   "id": "c82beff1",
   "metadata": {},
   "outputs": [
    {
     "data": {
      "text/plain": [
       "0.9517495334078667"
      ]
     },
     "execution_count": 98,
     "metadata": {},
     "output_type": "execute_result"
    }
   ],
   "source": [
    "(np.corrcoef(p_4_mle[4], (data[4]/24).reshape((35,1)).flatten().tolist())[0,1])**2"
   ]
  },
  {
   "cell_type": "code",
   "execution_count": 99,
   "id": "a4dff044",
   "metadata": {},
   "outputs": [
    {
     "data": {
      "text/plain": [
       "0.9615313329251682"
      ]
     },
     "execution_count": 99,
     "metadata": {},
     "output_type": "execute_result"
    }
   ],
   "source": [
    "(np.corrcoef(p_4_flme[4], (data[4]/24).reshape((35,1)).flatten().tolist())[0,1])**2"
   ]
  }
 ],
 "metadata": {
  "kernelspec": {
   "display_name": "Python 3.10.6 64-bit",
   "language": "python",
   "name": "python3"
  },
  "language_info": {
   "codemirror_mode": {
    "name": "ipython",
    "version": 3
   },
   "file_extension": ".py",
   "mimetype": "text/x-python",
   "name": "python",
   "nbconvert_exporter": "python",
   "pygments_lexer": "ipython3",
   "version": "3.10.6"
  },
  "vscode": {
   "interpreter": {
    "hash": "b0fa6594d8f4cbf19f97940f81e996739fb7646882a419484c72d19e05852a7e"
   }
  }
 },
 "nbformat": 4,
 "nbformat_minor": 5
}
