{
 "cells": [
  {
   "cell_type": "code",
   "execution_count": null,
   "metadata": {},
   "outputs": [],
   "source": [
    "\n",
    "# • Calculate the mean and standard deviation of the responses for each type of\n",
    "# stimulus. Plot the corresponding Gaussian probability density function.\n",
    "# • Based on the above, estimate whether the observer experiences the enhancement\n",
    "# effects and the ventriloquist illusion.\n",
    "# • Check by visual inspection if the responses for each stimulus type follows a Gaussian\n",
    "# distribution.\n",
    "# • You figure could look something like this"
   ]
  },
  {
   "cell_type": "code",
   "execution_count": 11,
   "metadata": {},
   "outputs": [],
   "source": [
    "# Visualising the data\n",
    "# • Plot a probability density histogram for each type of stimulus. This height of each bar\n",
    "# should be the proportion of responses divided by the width of the column.\n",
    "\n",
    "import seaborn as sns\n",
    "import matplotlib.pyplot as plt\n",
    "import numpy as np\n",
    "import pandas as pd\n",
    "\n",
    "# Load the data\n",
    "df = pd.read_csv('Data/Homework3pt1DataCSV.txt').transpose()"
   ]
  },
  {
   "cell_type": "code",
   "execution_count": 12,
   "metadata": {},
   "outputs": [
    {
     "data": {
      "text/html": [
       "<div>\n",
       "<style scoped>\n",
       "    .dataframe tbody tr th:only-of-type {\n",
       "        vertical-align: middle;\n",
       "    }\n",
       "\n",
       "    .dataframe tbody tr th {\n",
       "        vertical-align: top;\n",
       "    }\n",
       "\n",
       "    .dataframe thead th {\n",
       "        text-align: right;\n",
       "    }\n",
       "</style>\n",
       "<table border=\"1\" class=\"dataframe\">\n",
       "  <thead>\n",
       "    <tr style=\"text-align: right;\">\n",
       "      <th></th>\n",
       "      <th>0</th>\n",
       "      <th>1</th>\n",
       "      <th>2</th>\n",
       "      <th>3</th>\n",
       "      <th>4</th>\n",
       "      <th>5</th>\n",
       "      <th>6</th>\n",
       "    </tr>\n",
       "  </thead>\n",
       "  <tbody>\n",
       "    <tr>\n",
       "      <th>9.0000000e+00  -1.1000000e+01   9.0000000e+00   4.0000000e+00   2.2000000e+01  -1.1000000e+01   1.0000000e+00   5.0000000e+00   4.0000000e+00  -1.0000000e+01   3.0000000e+00   0.0000000e+00   7.0000000e+00   5.0000000e+00   2.0000000e+01  -6.0000000e+00  -1.1000000e+01   2.8000000e+01  -2.2000000e+01   1.0000000e+01</th>\n",
       "      <td>2.4000000e+01   3.5000000e+01   2.1000000e+...</td>\n",
       "      <td>-2.0000000e+00   2.0000000e+00  -2.0000000e+...</td>\n",
       "      <td>2.8000000e+01   2.6000000e+01   3.3000000e+...</td>\n",
       "      <td>-7.0000000e+00   4.0000000e+00   4.0000000e+...</td>\n",
       "      <td>2.5000000e+01   2.4000000e+01   2.7000000e+...</td>\n",
       "      <td>2.0000000e+00  -2.0000000e+00   6.0000000e+...</td>\n",
       "      <td>3.1000000e+01   2.8000000e+01   3.2000000e+...</td>\n",
       "    </tr>\n",
       "  </tbody>\n",
       "</table>\n",
       "</div>"
      ],
      "text/plain": [
       "                                                                                                    0  \\\n",
       "   9.0000000e+00  -1.1000000e+01   9.0000000e+0...     2.4000000e+01   3.5000000e+01   2.1000000e+...   \n",
       "\n",
       "                                                                                                    1  \\\n",
       "   9.0000000e+00  -1.1000000e+01   9.0000000e+0...    -2.0000000e+00   2.0000000e+00  -2.0000000e+...   \n",
       "\n",
       "                                                                                                    2  \\\n",
       "   9.0000000e+00  -1.1000000e+01   9.0000000e+0...     2.8000000e+01   2.6000000e+01   3.3000000e+...   \n",
       "\n",
       "                                                                                                    3  \\\n",
       "   9.0000000e+00  -1.1000000e+01   9.0000000e+0...    -7.0000000e+00   4.0000000e+00   4.0000000e+...   \n",
       "\n",
       "                                                                                                    4  \\\n",
       "   9.0000000e+00  -1.1000000e+01   9.0000000e+0...     2.5000000e+01   2.4000000e+01   2.7000000e+...   \n",
       "\n",
       "                                                                                                    5  \\\n",
       "   9.0000000e+00  -1.1000000e+01   9.0000000e+0...     2.0000000e+00  -2.0000000e+00   6.0000000e+...   \n",
       "\n",
       "                                                                                                    6  \n",
       "   9.0000000e+00  -1.1000000e+01   9.0000000e+0...     3.1000000e+01   2.8000000e+01   3.2000000e+...  "
      ]
     },
     "execution_count": 12,
     "metadata": {},
     "output_type": "execute_result"
    }
   ],
   "source": [
    "df"
   ]
  },
  {
   "cell_type": "code",
   "execution_count": null,
   "metadata": {},
   "outputs": [],
   "source": [
    "import numpy as np\n",
    "import matplotlib.pyplot as plt\n",
    "from scipy.stats import norm\n",
    "\n",
    "data = np.random.normal(size=500) * 0.1\n",
    "mu, std = norm.fit(data)\n",
    "\n",
    "# Plot the histogram.\n",
    "plt.hist(data, bins=25, density=True, alpha=0.6, color='g')\n",
    "\n",
    "# Plot the PDF.\n",
    "xmin, xmax = plt.xlim()\n",
    "x = np.linspace(xmin, xmax, 100)\n",
    "p = norm.pdf(x, mu, std)\n",
    "plt.plot(x, p, 'k', linewidth=2)\n",
    "plt.show()"
   ]
  }
 ],
 "metadata": {
  "kernelspec": {
   "display_name": "Python 3.9.4 64-bit",
   "language": "python",
   "name": "python3"
  },
  "language_info": {
   "codemirror_mode": {
    "name": "ipython",
    "version": 3
   },
   "file_extension": ".py",
   "mimetype": "text/x-python",
   "name": "python",
   "nbconvert_exporter": "python",
   "pygments_lexer": "ipython3",
   "version": "3.9.4"
  },
  "orig_nbformat": 4,
  "vscode": {
   "interpreter": {
    "hash": "a84faab740edc2ffcdbf4168f32bd03a4e5724d7f9fad76844773b2af875e96a"
   }
  }
 },
 "nbformat": 4,
 "nbformat_minor": 2
}
