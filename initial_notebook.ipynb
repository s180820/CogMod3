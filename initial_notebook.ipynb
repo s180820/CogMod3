{
 "cells": [
  {
   "cell_type": "code",
   "execution_count": 2,
   "metadata": {},
   "outputs": [],
   "source": [
    "\n",
    "# • Calculate the mean and standard deviation of the responses for each type of\n",
    "# stimulus. Plot the corresponding Gaussian probability density function.\n",
    "# • Based on the above, estimate whether the observer experiences the enhancement\n",
    "# effects and the ventriloquist illusion.\n",
    "# • Check by visual inspection if the responses for each stimulus type follows a Gaussian\n",
    "# distribution.\n",
    "# • You figure could look something like this"
   ]
  },
  {
   "cell_type": "code",
   "execution_count": 3,
   "metadata": {},
   "outputs": [],
   "source": [
    "# Visualising the data\n",
    "# • Plot a probability density histogram for each type of stimulus. This height of each bar\n",
    "# should be the proportion of responses divided by the width of the column.\n",
    "\n",
    "import seaborn as sns\n",
    "import matplotlib.pyplot as plt\n",
    "import numpy as np\n",
    "import pandas as pd\n",
    "\n",
    "# Load the data\n",
    "# df = pd.('Data/Homework3pt1DataCSV.txt').transpose()\n",
    "# df = pd.read_csv('Data/Homework3pt1DataCSV.txt', delimiter=' ')\n",
    "data_path= \"Data/Homework3pt1DataCSV.txt\"\n",
    "\n",
    "df = np.loadtxt(data_path)\n",
    "df = pd.DataFrame(df)\n",
    "data = df.transpose()\n"
   ]
  },
  {
   "cell_type": "code",
   "execution_count": 4,
   "metadata": {},
   "outputs": [
    {
     "data": {
      "text/html": [
       "<div>\n",
       "<style scoped>\n",
       "    .dataframe tbody tr th:only-of-type {\n",
       "        vertical-align: middle;\n",
       "    }\n",
       "\n",
       "    .dataframe tbody tr th {\n",
       "        vertical-align: top;\n",
       "    }\n",
       "\n",
       "    .dataframe thead th {\n",
       "        text-align: right;\n",
       "    }\n",
       "</style>\n",
       "<table border=\"1\" class=\"dataframe\">\n",
       "  <thead>\n",
       "    <tr style=\"text-align: right;\">\n",
       "      <th></th>\n",
       "      <th>0</th>\n",
       "      <th>1</th>\n",
       "      <th>2</th>\n",
       "      <th>3</th>\n",
       "      <th>4</th>\n",
       "      <th>5</th>\n",
       "      <th>6</th>\n",
       "      <th>7</th>\n",
       "    </tr>\n",
       "  </thead>\n",
       "  <tbody>\n",
       "    <tr>\n",
       "      <th>count</th>\n",
       "      <td>20.00000</td>\n",
       "      <td>20.000000</td>\n",
       "      <td>20.00000</td>\n",
       "      <td>20.000000</td>\n",
       "      <td>20.000000</td>\n",
       "      <td>20.00000</td>\n",
       "      <td>20.000000</td>\n",
       "      <td>20.000000</td>\n",
       "    </tr>\n",
       "    <tr>\n",
       "      <th>mean</th>\n",
       "      <td>2.80000</td>\n",
       "      <td>27.600000</td>\n",
       "      <td>0.00000</td>\n",
       "      <td>29.250000</td>\n",
       "      <td>0.100000</td>\n",
       "      <td>26.65000</td>\n",
       "      <td>5.950000</td>\n",
       "      <td>29.500000</td>\n",
       "    </tr>\n",
       "    <tr>\n",
       "      <th>std</th>\n",
       "      <td>12.34845</td>\n",
       "      <td>8.623102</td>\n",
       "      <td>3.43358</td>\n",
       "      <td>3.809614</td>\n",
       "      <td>5.139117</td>\n",
       "      <td>2.99605</td>\n",
       "      <td>8.369588</td>\n",
       "      <td>4.936438</td>\n",
       "    </tr>\n",
       "    <tr>\n",
       "      <th>min</th>\n",
       "      <td>-22.00000</td>\n",
       "      <td>15.000000</td>\n",
       "      <td>-5.00000</td>\n",
       "      <td>22.000000</td>\n",
       "      <td>-7.000000</td>\n",
       "      <td>22.00000</td>\n",
       "      <td>-4.000000</td>\n",
       "      <td>12.000000</td>\n",
       "    </tr>\n",
       "    <tr>\n",
       "      <th>25%</th>\n",
       "      <td>-7.00000</td>\n",
       "      <td>20.750000</td>\n",
       "      <td>-3.00000</td>\n",
       "      <td>26.000000</td>\n",
       "      <td>-4.500000</td>\n",
       "      <td>24.75000</td>\n",
       "      <td>3.750000</td>\n",
       "      <td>27.750000</td>\n",
       "    </tr>\n",
       "    <tr>\n",
       "      <th>50%</th>\n",
       "      <td>4.00000</td>\n",
       "      <td>28.500000</td>\n",
       "      <td>-1.50000</td>\n",
       "      <td>29.000000</td>\n",
       "      <td>0.000000</td>\n",
       "      <td>27.00000</td>\n",
       "      <td>5.000000</td>\n",
       "      <td>31.500000</td>\n",
       "    </tr>\n",
       "    <tr>\n",
       "      <th>75%</th>\n",
       "      <td>9.00000</td>\n",
       "      <td>31.750000</td>\n",
       "      <td>2.25000</td>\n",
       "      <td>32.000000</td>\n",
       "      <td>4.000000</td>\n",
       "      <td>28.25000</td>\n",
       "      <td>6.000000</td>\n",
       "      <td>32.000000</td>\n",
       "    </tr>\n",
       "    <tr>\n",
       "      <th>max</th>\n",
       "      <td>28.00000</td>\n",
       "      <td>45.000000</td>\n",
       "      <td>6.00000</td>\n",
       "      <td>38.000000</td>\n",
       "      <td>9.000000</td>\n",
       "      <td>33.00000</td>\n",
       "      <td>39.000000</td>\n",
       "      <td>34.000000</td>\n",
       "    </tr>\n",
       "  </tbody>\n",
       "</table>\n",
       "</div>"
      ],
      "text/plain": [
       "              0          1         2          3          4         5  \\\n",
       "count  20.00000  20.000000  20.00000  20.000000  20.000000  20.00000   \n",
       "mean    2.80000  27.600000   0.00000  29.250000   0.100000  26.65000   \n",
       "std    12.34845   8.623102   3.43358   3.809614   5.139117   2.99605   \n",
       "min   -22.00000  15.000000  -5.00000  22.000000  -7.000000  22.00000   \n",
       "25%    -7.00000  20.750000  -3.00000  26.000000  -4.500000  24.75000   \n",
       "50%     4.00000  28.500000  -1.50000  29.000000   0.000000  27.00000   \n",
       "75%     9.00000  31.750000   2.25000  32.000000   4.000000  28.25000   \n",
       "max    28.00000  45.000000   6.00000  38.000000   9.000000  33.00000   \n",
       "\n",
       "               6          7  \n",
       "count  20.000000  20.000000  \n",
       "mean    5.950000  29.500000  \n",
       "std     8.369588   4.936438  \n",
       "min    -4.000000  12.000000  \n",
       "25%     3.750000  27.750000  \n",
       "50%     5.000000  31.500000  \n",
       "75%     6.000000  32.000000  \n",
       "max    39.000000  34.000000  "
      ]
     },
     "execution_count": 4,
     "metadata": {},
     "output_type": "execute_result"
    }
   ],
   "source": [
    "data.describe()"
   ]
  },
  {
   "cell_type": "code",
   "execution_count": 5,
   "metadata": {},
   "outputs": [],
   "source": [
    "# change column names to stimulus type\n",
    "# stimuli_type = ['0,-',' 30,-', '-,0' ,'-,30',' 0,0', '0,30', '30,0' ,'30,30']\n",
    "# data.columns = stimuli_type"
   ]
  },
  {
   "cell_type": "code",
   "execution_count": 6,
   "metadata": {},
   "outputs": [
    {
     "data": {
      "text/html": [
       "<div>\n",
       "<style scoped>\n",
       "    .dataframe tbody tr th:only-of-type {\n",
       "        vertical-align: middle;\n",
       "    }\n",
       "\n",
       "    .dataframe tbody tr th {\n",
       "        vertical-align: top;\n",
       "    }\n",
       "\n",
       "    .dataframe thead th {\n",
       "        text-align: right;\n",
       "    }\n",
       "</style>\n",
       "<table border=\"1\" class=\"dataframe\">\n",
       "  <thead>\n",
       "    <tr style=\"text-align: right;\">\n",
       "      <th></th>\n",
       "      <th>0</th>\n",
       "      <th>1</th>\n",
       "      <th>2</th>\n",
       "      <th>3</th>\n",
       "      <th>4</th>\n",
       "      <th>5</th>\n",
       "      <th>6</th>\n",
       "      <th>7</th>\n",
       "    </tr>\n",
       "  </thead>\n",
       "  <tbody>\n",
       "    <tr>\n",
       "      <th>0</th>\n",
       "      <td>9.0</td>\n",
       "      <td>24.0</td>\n",
       "      <td>-2.0</td>\n",
       "      <td>28.0</td>\n",
       "      <td>-7.0</td>\n",
       "      <td>25.0</td>\n",
       "      <td>2.0</td>\n",
       "      <td>31.0</td>\n",
       "    </tr>\n",
       "    <tr>\n",
       "      <th>1</th>\n",
       "      <td>-11.0</td>\n",
       "      <td>35.0</td>\n",
       "      <td>2.0</td>\n",
       "      <td>26.0</td>\n",
       "      <td>4.0</td>\n",
       "      <td>24.0</td>\n",
       "      <td>-2.0</td>\n",
       "      <td>28.0</td>\n",
       "    </tr>\n",
       "    <tr>\n",
       "      <th>2</th>\n",
       "      <td>9.0</td>\n",
       "      <td>21.0</td>\n",
       "      <td>-2.0</td>\n",
       "      <td>33.0</td>\n",
       "      <td>4.0</td>\n",
       "      <td>27.0</td>\n",
       "      <td>6.0</td>\n",
       "      <td>32.0</td>\n",
       "    </tr>\n",
       "    <tr>\n",
       "      <th>3</th>\n",
       "      <td>4.0</td>\n",
       "      <td>15.0</td>\n",
       "      <td>-3.0</td>\n",
       "      <td>33.0</td>\n",
       "      <td>-2.0</td>\n",
       "      <td>33.0</td>\n",
       "      <td>6.0</td>\n",
       "      <td>33.0</td>\n",
       "    </tr>\n",
       "    <tr>\n",
       "      <th>4</th>\n",
       "      <td>22.0</td>\n",
       "      <td>34.0</td>\n",
       "      <td>6.0</td>\n",
       "      <td>28.0</td>\n",
       "      <td>-1.0</td>\n",
       "      <td>29.0</td>\n",
       "      <td>8.0</td>\n",
       "      <td>32.0</td>\n",
       "    </tr>\n",
       "    <tr>\n",
       "      <th>5</th>\n",
       "      <td>-11.0</td>\n",
       "      <td>43.0</td>\n",
       "      <td>2.0</td>\n",
       "      <td>32.0</td>\n",
       "      <td>-6.0</td>\n",
       "      <td>24.0</td>\n",
       "      <td>2.0</td>\n",
       "      <td>28.0</td>\n",
       "    </tr>\n",
       "    <tr>\n",
       "      <th>6</th>\n",
       "      <td>1.0</td>\n",
       "      <td>17.0</td>\n",
       "      <td>-3.0</td>\n",
       "      <td>26.0</td>\n",
       "      <td>-6.0</td>\n",
       "      <td>27.0</td>\n",
       "      <td>5.0</td>\n",
       "      <td>32.0</td>\n",
       "    </tr>\n",
       "    <tr>\n",
       "      <th>7</th>\n",
       "      <td>5.0</td>\n",
       "      <td>24.0</td>\n",
       "      <td>1.0</td>\n",
       "      <td>30.0</td>\n",
       "      <td>1.0</td>\n",
       "      <td>27.0</td>\n",
       "      <td>5.0</td>\n",
       "      <td>29.0</td>\n",
       "    </tr>\n",
       "    <tr>\n",
       "      <th>8</th>\n",
       "      <td>4.0</td>\n",
       "      <td>27.0</td>\n",
       "      <td>4.0</td>\n",
       "      <td>32.0</td>\n",
       "      <td>-6.0</td>\n",
       "      <td>31.0</td>\n",
       "      <td>5.0</td>\n",
       "      <td>27.0</td>\n",
       "    </tr>\n",
       "    <tr>\n",
       "      <th>9</th>\n",
       "      <td>-10.0</td>\n",
       "      <td>45.0</td>\n",
       "      <td>5.0</td>\n",
       "      <td>26.0</td>\n",
       "      <td>1.0</td>\n",
       "      <td>22.0</td>\n",
       "      <td>4.0</td>\n",
       "      <td>32.0</td>\n",
       "    </tr>\n",
       "    <tr>\n",
       "      <th>10</th>\n",
       "      <td>3.0</td>\n",
       "      <td>38.0</td>\n",
       "      <td>6.0</td>\n",
       "      <td>26.0</td>\n",
       "      <td>3.0</td>\n",
       "      <td>30.0</td>\n",
       "      <td>10.0</td>\n",
       "      <td>34.0</td>\n",
       "    </tr>\n",
       "    <tr>\n",
       "      <th>11</th>\n",
       "      <td>0.0</td>\n",
       "      <td>29.0</td>\n",
       "      <td>-5.0</td>\n",
       "      <td>38.0</td>\n",
       "      <td>8.0</td>\n",
       "      <td>26.0</td>\n",
       "      <td>6.0</td>\n",
       "      <td>34.0</td>\n",
       "    </tr>\n",
       "    <tr>\n",
       "      <th>12</th>\n",
       "      <td>7.0</td>\n",
       "      <td>29.0</td>\n",
       "      <td>-3.0</td>\n",
       "      <td>34.0</td>\n",
       "      <td>-1.0</td>\n",
       "      <td>28.0</td>\n",
       "      <td>39.0</td>\n",
       "      <td>27.0</td>\n",
       "    </tr>\n",
       "    <tr>\n",
       "      <th>13</th>\n",
       "      <td>5.0</td>\n",
       "      <td>30.0</td>\n",
       "      <td>1.0</td>\n",
       "      <td>27.0</td>\n",
       "      <td>1.0</td>\n",
       "      <td>22.0</td>\n",
       "      <td>4.0</td>\n",
       "      <td>32.0</td>\n",
       "    </tr>\n",
       "    <tr>\n",
       "      <th>14</th>\n",
       "      <td>20.0</td>\n",
       "      <td>17.0</td>\n",
       "      <td>-2.0</td>\n",
       "      <td>30.0</td>\n",
       "      <td>9.0</td>\n",
       "      <td>28.0</td>\n",
       "      <td>4.0</td>\n",
       "      <td>34.0</td>\n",
       "    </tr>\n",
       "    <tr>\n",
       "      <th>15</th>\n",
       "      <td>-6.0</td>\n",
       "      <td>29.0</td>\n",
       "      <td>-3.0</td>\n",
       "      <td>30.0</td>\n",
       "      <td>-4.0</td>\n",
       "      <td>25.0</td>\n",
       "      <td>5.0</td>\n",
       "      <td>25.0</td>\n",
       "    </tr>\n",
       "    <tr>\n",
       "      <th>16</th>\n",
       "      <td>-11.0</td>\n",
       "      <td>16.0</td>\n",
       "      <td>3.0</td>\n",
       "      <td>32.0</td>\n",
       "      <td>8.0</td>\n",
       "      <td>25.0</td>\n",
       "      <td>6.0</td>\n",
       "      <td>29.0</td>\n",
       "    </tr>\n",
       "    <tr>\n",
       "      <th>17</th>\n",
       "      <td>28.0</td>\n",
       "      <td>31.0</td>\n",
       "      <td>-1.0</td>\n",
       "      <td>26.0</td>\n",
       "      <td>-3.0</td>\n",
       "      <td>27.0</td>\n",
       "      <td>5.0</td>\n",
       "      <td>12.0</td>\n",
       "    </tr>\n",
       "    <tr>\n",
       "      <th>18</th>\n",
       "      <td>-22.0</td>\n",
       "      <td>28.0</td>\n",
       "      <td>-3.0</td>\n",
       "      <td>26.0</td>\n",
       "      <td>-6.0</td>\n",
       "      <td>23.0</td>\n",
       "      <td>3.0</td>\n",
       "      <td>32.0</td>\n",
       "    </tr>\n",
       "    <tr>\n",
       "      <th>19</th>\n",
       "      <td>10.0</td>\n",
       "      <td>20.0</td>\n",
       "      <td>-3.0</td>\n",
       "      <td>22.0</td>\n",
       "      <td>5.0</td>\n",
       "      <td>30.0</td>\n",
       "      <td>-4.0</td>\n",
       "      <td>27.0</td>\n",
       "    </tr>\n",
       "  </tbody>\n",
       "</table>\n",
       "</div>"
      ],
      "text/plain": [
       "       0     1    2     3    4     5     6     7\n",
       "0    9.0  24.0 -2.0  28.0 -7.0  25.0   2.0  31.0\n",
       "1  -11.0  35.0  2.0  26.0  4.0  24.0  -2.0  28.0\n",
       "2    9.0  21.0 -2.0  33.0  4.0  27.0   6.0  32.0\n",
       "3    4.0  15.0 -3.0  33.0 -2.0  33.0   6.0  33.0\n",
       "4   22.0  34.0  6.0  28.0 -1.0  29.0   8.0  32.0\n",
       "5  -11.0  43.0  2.0  32.0 -6.0  24.0   2.0  28.0\n",
       "6    1.0  17.0 -3.0  26.0 -6.0  27.0   5.0  32.0\n",
       "7    5.0  24.0  1.0  30.0  1.0  27.0   5.0  29.0\n",
       "8    4.0  27.0  4.0  32.0 -6.0  31.0   5.0  27.0\n",
       "9  -10.0  45.0  5.0  26.0  1.0  22.0   4.0  32.0\n",
       "10   3.0  38.0  6.0  26.0  3.0  30.0  10.0  34.0\n",
       "11   0.0  29.0 -5.0  38.0  8.0  26.0   6.0  34.0\n",
       "12   7.0  29.0 -3.0  34.0 -1.0  28.0  39.0  27.0\n",
       "13   5.0  30.0  1.0  27.0  1.0  22.0   4.0  32.0\n",
       "14  20.0  17.0 -2.0  30.0  9.0  28.0   4.0  34.0\n",
       "15  -6.0  29.0 -3.0  30.0 -4.0  25.0   5.0  25.0\n",
       "16 -11.0  16.0  3.0  32.0  8.0  25.0   6.0  29.0\n",
       "17  28.0  31.0 -1.0  26.0 -3.0  27.0   5.0  12.0\n",
       "18 -22.0  28.0 -3.0  26.0 -6.0  23.0   3.0  32.0\n",
       "19  10.0  20.0 -3.0  22.0  5.0  30.0  -4.0  27.0"
      ]
     },
     "execution_count": 6,
     "metadata": {},
     "output_type": "execute_result"
    }
   ],
   "source": [
    "data"
   ]
  },
  {
   "cell_type": "code",
   "execution_count": 7,
   "metadata": {},
   "outputs": [],
   "source": [
    "# Row number                  1 2 3 4 5 6 7 8\n",
    "# Auditory stimulus location  0 30 - - 0 0 30 30\n",
    "# Visual stimulus location    - - 0 30 0 30 0 30\n"
   ]
  },
  {
   "cell_type": "code",
   "execution_count": 8,
   "metadata": {},
   "outputs": [
    {
     "data": {
      "image/png": "[encoded data removed]",
      "text/plain": [
       "<Figure size 432x288 with 1 Axes>"
      ]
     },
     "metadata": {
      "needs_background": "light"
     },
     "output_type": "display_data"
    }
   ],
   "source": [
    "# change x-labels to the correct stimulus type\n",
    "data.plot.box()\n",
    "plt.xticks([ 1, 2, 3,4,5,6,7,8], ['0,-',' 30,-', '-,0' ,'-,30',' 0,0', '0,30', '30,0' ,'30,30'])\n",
    "plt.show()"
   ]
  },
  {
   "cell_type": "code",
   "execution_count": 9,
   "metadata": {},
   "outputs": [
    {
     "data": {
      "image/png": "[encoded data removed]",
      "text/plain": [
       "<Figure size 432x288 with 1 Axes>"
      ]
     },
     "metadata": {
      "needs_background": "light"
     },
     "output_type": "display_data"
    },
    {
     "data": {
      "image/png": "[encoded data removed]",
      "text/plain": [
       "<Figure size 432x288 with 1 Axes>"
      ]
     },
     "metadata": {
      "needs_background": "light"
     },
     "output_type": "display_data"
    },
    {
     "data": {
      "image/png": "[encoded data removed]",
      "text/plain": [
       "<Figure size 432x288 with 1 Axes>"
      ]
     },
     "metadata": {
      "needs_background": "light"
     },
     "output_type": "display_data"
    },
    {
     "data": {
      "image/png": "[encoded data removed]",
      "text/plain": [
       "<Figure size 432x288 with 1 Axes>"
      ]
     },
     "metadata": {
      "needs_background": "light"
     },
     "output_type": "display_data"
    },
    {
     "data": {
      "image/png": "[encoded data removed]",
      "text/plain": [
       "<Figure size 432x288 with 1 Axes>"
      ]
     },
     "metadata": {
      "needs_background": "light"
     },
     "output_type": "display_data"
    },
    {
     "data": {
      "image/png": "[encoded data removed]",
      "text/plain": [
       "<Figure size 432x288 with 1 Axes>"
      ]
     },
     "metadata": {
      "needs_background": "light"
     },
     "output_type": "display_data"
    },
    {
     "data": {
      "image/png": "[encoded data removed]",
      "text/plain": [
       "<Figure size 432x288 with 1 Axes>"
      ]
     },
     "metadata": {
      "needs_background": "light"
     },
     "output_type": "display_data"
    },
    {
     "data": {
      "image/png": "[encoded data removed]",
      "text/plain": [
       "<Figure size 432x288 with 1 Axes>"
      ]
     },
     "metadata": {
      "needs_background": "light"
     },
     "output_type": "display_data"
    }
   ],
   "source": [
    "import numpy as np\n",
    "import matplotlib.pyplot as plt\n",
    "from scipy.stats import norm\n",
    "\n",
    "# data = np.random.normal(size=500) * 0.1\n",
    "# data = data[0]\n",
    "# mu, std = norm.fit(data)\n",
    "\n",
    "# Plot the histogram.\n",
    "# for i in range(0, 4):\n",
    "    # plt.hist(data, bins=5, density=True, alpha=0.6, color='g')\n",
    "# plt.hist(data, bins=8, density=True, alpha=0.6, color='b')\n",
    "liste = ['0,-',' 30,-', '-,0' ,'-,30',' 0,0', '0,30', '30,0' ,'30,30']\n",
    "for i in range(len(data.transpose())):\n",
    "    mu, std = norm.fit(data[i])\n",
    "    plt.hist(data[i], bins=8, density=True, alpha=0.6, color='b')\n",
    "    plt.title('Histogram of response for stimulus type {}'.format([i for i in liste][i]))\n",
    "\n",
    "\n",
    "# Plot the PDF.\n",
    "    xmin, xmax = (-30, 50)\n",
    "    # plt.xlim = \n",
    "    x = np.linspace(xmin, xmax, 100)\n",
    "    p = norm.pdf(x, mu, std)\n",
    "    plt.plot(x, p, 'k', linewidth=1)\n",
    "    plt.show()"
   ]
  },
  {
   "cell_type": "code",
   "execution_count": 10,
   "metadata": {},
   "outputs": [],
   "source": [
    "# Use all the data to estimate the free parameters. \n",
    "# Note that for the BCI model, the observer's estimated probability for one common cause, P(c=1), \n",
    "# is a free parameter that must be constrained to [0;1]. \n",
    "# \n",
    "# You can do this by softmaxing an unconstrained free parameter.\n",
    "\n",
    "# the free parameters are maximum likelihood estimate, "
   ]
  },
  {
   "cell_type": "code",
   "execution_count": 11,
   "metadata": {},
   "outputs": [
    {
     "data": {
      "text/html": [
       "<div>\n",
       "<style scoped>\n",
       "    .dataframe tbody tr th:only-of-type {\n",
       "        vertical-align: middle;\n",
       "    }\n",
       "\n",
       "    .dataframe tbody tr th {\n",
       "        vertical-align: top;\n",
       "    }\n",
       "\n",
       "    .dataframe thead th {\n",
       "        text-align: right;\n",
       "    }\n",
       "</style>\n",
       "<table border=\"1\" class=\"dataframe\">\n",
       "  <thead>\n",
       "    <tr style=\"text-align: right;\">\n",
       "      <th></th>\n",
       "      <th>0</th>\n",
       "      <th>1</th>\n",
       "      <th>2</th>\n",
       "      <th>3</th>\n",
       "      <th>4</th>\n",
       "      <th>5</th>\n",
       "      <th>6</th>\n",
       "      <th>7</th>\n",
       "    </tr>\n",
       "  </thead>\n",
       "  <tbody>\n",
       "    <tr>\n",
       "      <th>0</th>\n",
       "      <td>9.0</td>\n",
       "      <td>24.0</td>\n",
       "      <td>-2.0</td>\n",
       "      <td>28.0</td>\n",
       "      <td>-7.0</td>\n",
       "      <td>25.0</td>\n",
       "      <td>2.0</td>\n",
       "      <td>31.0</td>\n",
       "    </tr>\n",
       "    <tr>\n",
       "      <th>1</th>\n",
       "      <td>-11.0</td>\n",
       "      <td>35.0</td>\n",
       "      <td>2.0</td>\n",
       "      <td>26.0</td>\n",
       "      <td>4.0</td>\n",
       "      <td>24.0</td>\n",
       "      <td>-2.0</td>\n",
       "      <td>28.0</td>\n",
       "    </tr>\n",
       "    <tr>\n",
       "      <th>2</th>\n",
       "      <td>9.0</td>\n",
       "      <td>21.0</td>\n",
       "      <td>-2.0</td>\n",
       "      <td>33.0</td>\n",
       "      <td>4.0</td>\n",
       "      <td>27.0</td>\n",
       "      <td>6.0</td>\n",
       "      <td>32.0</td>\n",
       "    </tr>\n",
       "    <tr>\n",
       "      <th>3</th>\n",
       "      <td>4.0</td>\n",
       "      <td>15.0</td>\n",
       "      <td>-3.0</td>\n",
       "      <td>33.0</td>\n",
       "      <td>-2.0</td>\n",
       "      <td>33.0</td>\n",
       "      <td>6.0</td>\n",
       "      <td>33.0</td>\n",
       "    </tr>\n",
       "    <tr>\n",
       "      <th>4</th>\n",
       "      <td>22.0</td>\n",
       "      <td>34.0</td>\n",
       "      <td>6.0</td>\n",
       "      <td>28.0</td>\n",
       "      <td>-1.0</td>\n",
       "      <td>29.0</td>\n",
       "      <td>8.0</td>\n",
       "      <td>32.0</td>\n",
       "    </tr>\n",
       "    <tr>\n",
       "      <th>5</th>\n",
       "      <td>-11.0</td>\n",
       "      <td>43.0</td>\n",
       "      <td>2.0</td>\n",
       "      <td>32.0</td>\n",
       "      <td>-6.0</td>\n",
       "      <td>24.0</td>\n",
       "      <td>2.0</td>\n",
       "      <td>28.0</td>\n",
       "    </tr>\n",
       "    <tr>\n",
       "      <th>6</th>\n",
       "      <td>1.0</td>\n",
       "      <td>17.0</td>\n",
       "      <td>-3.0</td>\n",
       "      <td>26.0</td>\n",
       "      <td>-6.0</td>\n",
       "      <td>27.0</td>\n",
       "      <td>5.0</td>\n",
       "      <td>32.0</td>\n",
       "    </tr>\n",
       "    <tr>\n",
       "      <th>7</th>\n",
       "      <td>5.0</td>\n",
       "      <td>24.0</td>\n",
       "      <td>1.0</td>\n",
       "      <td>30.0</td>\n",
       "      <td>1.0</td>\n",
       "      <td>27.0</td>\n",
       "      <td>5.0</td>\n",
       "      <td>29.0</td>\n",
       "    </tr>\n",
       "    <tr>\n",
       "      <th>8</th>\n",
       "      <td>4.0</td>\n",
       "      <td>27.0</td>\n",
       "      <td>4.0</td>\n",
       "      <td>32.0</td>\n",
       "      <td>-6.0</td>\n",
       "      <td>31.0</td>\n",
       "      <td>5.0</td>\n",
       "      <td>27.0</td>\n",
       "    </tr>\n",
       "    <tr>\n",
       "      <th>9</th>\n",
       "      <td>-10.0</td>\n",
       "      <td>45.0</td>\n",
       "      <td>5.0</td>\n",
       "      <td>26.0</td>\n",
       "      <td>1.0</td>\n",
       "      <td>22.0</td>\n",
       "      <td>4.0</td>\n",
       "      <td>32.0</td>\n",
       "    </tr>\n",
       "    <tr>\n",
       "      <th>10</th>\n",
       "      <td>3.0</td>\n",
       "      <td>38.0</td>\n",
       "      <td>6.0</td>\n",
       "      <td>26.0</td>\n",
       "      <td>3.0</td>\n",
       "      <td>30.0</td>\n",
       "      <td>10.0</td>\n",
       "      <td>34.0</td>\n",
       "    </tr>\n",
       "    <tr>\n",
       "      <th>11</th>\n",
       "      <td>0.0</td>\n",
       "      <td>29.0</td>\n",
       "      <td>-5.0</td>\n",
       "      <td>38.0</td>\n",
       "      <td>8.0</td>\n",
       "      <td>26.0</td>\n",
       "      <td>6.0</td>\n",
       "      <td>34.0</td>\n",
       "    </tr>\n",
       "    <tr>\n",
       "      <th>12</th>\n",
       "      <td>7.0</td>\n",
       "      <td>29.0</td>\n",
       "      <td>-3.0</td>\n",
       "      <td>34.0</td>\n",
       "      <td>-1.0</td>\n",
       "      <td>28.0</td>\n",
       "      <td>39.0</td>\n",
       "      <td>27.0</td>\n",
       "    </tr>\n",
       "    <tr>\n",
       "      <th>13</th>\n",
       "      <td>5.0</td>\n",
       "      <td>30.0</td>\n",
       "      <td>1.0</td>\n",
       "      <td>27.0</td>\n",
       "      <td>1.0</td>\n",
       "      <td>22.0</td>\n",
       "      <td>4.0</td>\n",
       "      <td>32.0</td>\n",
       "    </tr>\n",
       "    <tr>\n",
       "      <th>14</th>\n",
       "      <td>20.0</td>\n",
       "      <td>17.0</td>\n",
       "      <td>-2.0</td>\n",
       "      <td>30.0</td>\n",
       "      <td>9.0</td>\n",
       "      <td>28.0</td>\n",
       "      <td>4.0</td>\n",
       "      <td>34.0</td>\n",
       "    </tr>\n",
       "    <tr>\n",
       "      <th>15</th>\n",
       "      <td>-6.0</td>\n",
       "      <td>29.0</td>\n",
       "      <td>-3.0</td>\n",
       "      <td>30.0</td>\n",
       "      <td>-4.0</td>\n",
       "      <td>25.0</td>\n",
       "      <td>5.0</td>\n",
       "      <td>25.0</td>\n",
       "    </tr>\n",
       "    <tr>\n",
       "      <th>16</th>\n",
       "      <td>-11.0</td>\n",
       "      <td>16.0</td>\n",
       "      <td>3.0</td>\n",
       "      <td>32.0</td>\n",
       "      <td>8.0</td>\n",
       "      <td>25.0</td>\n",
       "      <td>6.0</td>\n",
       "      <td>29.0</td>\n",
       "    </tr>\n",
       "    <tr>\n",
       "      <th>17</th>\n",
       "      <td>28.0</td>\n",
       "      <td>31.0</td>\n",
       "      <td>-1.0</td>\n",
       "      <td>26.0</td>\n",
       "      <td>-3.0</td>\n",
       "      <td>27.0</td>\n",
       "      <td>5.0</td>\n",
       "      <td>12.0</td>\n",
       "    </tr>\n",
       "    <tr>\n",
       "      <th>18</th>\n",
       "      <td>-22.0</td>\n",
       "      <td>28.0</td>\n",
       "      <td>-3.0</td>\n",
       "      <td>26.0</td>\n",
       "      <td>-6.0</td>\n",
       "      <td>23.0</td>\n",
       "      <td>3.0</td>\n",
       "      <td>32.0</td>\n",
       "    </tr>\n",
       "    <tr>\n",
       "      <th>19</th>\n",
       "      <td>10.0</td>\n",
       "      <td>20.0</td>\n",
       "      <td>-3.0</td>\n",
       "      <td>22.0</td>\n",
       "      <td>5.0</td>\n",
       "      <td>30.0</td>\n",
       "      <td>-4.0</td>\n",
       "      <td>27.0</td>\n",
       "    </tr>\n",
       "  </tbody>\n",
       "</table>\n",
       "</div>"
      ],
      "text/plain": [
       "       0     1    2     3    4     5     6     7\n",
       "0    9.0  24.0 -2.0  28.0 -7.0  25.0   2.0  31.0\n",
       "1  -11.0  35.0  2.0  26.0  4.0  24.0  -2.0  28.0\n",
       "2    9.0  21.0 -2.0  33.0  4.0  27.0   6.0  32.0\n",
       "3    4.0  15.0 -3.0  33.0 -2.0  33.0   6.0  33.0\n",
       "4   22.0  34.0  6.0  28.0 -1.0  29.0   8.0  32.0\n",
       "5  -11.0  43.0  2.0  32.0 -6.0  24.0   2.0  28.0\n",
       "6    1.0  17.0 -3.0  26.0 -6.0  27.0   5.0  32.0\n",
       "7    5.0  24.0  1.0  30.0  1.0  27.0   5.0  29.0\n",
       "8    4.0  27.0  4.0  32.0 -6.0  31.0   5.0  27.0\n",
       "9  -10.0  45.0  5.0  26.0  1.0  22.0   4.0  32.0\n",
       "10   3.0  38.0  6.0  26.0  3.0  30.0  10.0  34.0\n",
       "11   0.0  29.0 -5.0  38.0  8.0  26.0   6.0  34.0\n",
       "12   7.0  29.0 -3.0  34.0 -1.0  28.0  39.0  27.0\n",
       "13   5.0  30.0  1.0  27.0  1.0  22.0   4.0  32.0\n",
       "14  20.0  17.0 -2.0  30.0  9.0  28.0   4.0  34.0\n",
       "15  -6.0  29.0 -3.0  30.0 -4.0  25.0   5.0  25.0\n",
       "16 -11.0  16.0  3.0  32.0  8.0  25.0   6.0  29.0\n",
       "17  28.0  31.0 -1.0  26.0 -3.0  27.0   5.0  12.0\n",
       "18 -22.0  28.0 -3.0  26.0 -6.0  23.0   3.0  32.0\n",
       "19  10.0  20.0 -3.0  22.0  5.0  30.0  -4.0  27.0"
      ]
     },
     "execution_count": 11,
     "metadata": {},
     "output_type": "execute_result"
    }
   ],
   "source": [
    "data"
   ]
  },
  {
   "cell_type": "code",
   "execution_count": 12,
   "metadata": {},
   "outputs": [
    {
     "data": {
      "text/plain": [
       "([2.8, 27.6, 0.0, 29.25], 10.48577605313339, 3.6215970892485974)"
      ]
     },
     "execution_count": 12,
     "metadata": {},
     "output_type": "execute_result"
    }
   ],
   "source": [
    "def means_and_sigmas(data):\n",
    "    means = []\n",
    "    sigmas = []\n",
    "    for i in range(len(data.transpose())):\n",
    "        mu, std = norm.fit(data[i])\n",
    "        means.append(mu)\n",
    "        sigmas.append(std)\n",
    "    return means, sigmas\n",
    "\n",
    "res = means_and_sigmas(data)\n",
    "means_ini = res[0][:4]\n",
    "sigma_a_ini = data[[0,1]].std(axis=0).mean()\n",
    "sigma_v_ini = data[[2,3]].std(axis=0).mean()\n",
    "\n",
    "means_ini, sigma_a_ini, sigma_v_ini"
   ]
  },
  {
   "cell_type": "code",
   "execution_count": 13,
   "metadata": {},
   "outputs": [],
   "source": [
    "\n",
    "\n",
    "# calculate the combined distributions\n",
    "def combined_distributions(means_est, sigma_a_est, sigma_v_est, data):\n",
    "    w_a = (sigma_v_est)**2 / ((sigma_v_est)**2 + (sigma_a_est)**2)\n",
    "    means_av = []\n",
    "    for i in range(2):\n",
    "        for j in range(2):\n",
    "            mean_av = w_a * (means_est[i]) + (1 - w_a) * (means_est[j+2])\n",
    "            means_av.append(mean_av)\n",
    "    sigma_av = ((sigma_a_est)**2 * (sigma_v_est)**2) / ((sigma_a_est)**2 + (sigma_v_est)**2)\n",
    "\n",
    "\n",
    "    return [means_av, sigma_av] \n",
    "\n"
   ]
  },
  {
   "cell_type": "code",
   "execution_count": 58,
   "metadata": {},
   "outputs": [
    {
     "name": "stdout",
     "output_type": "stream",
     "text": [
      "[ 2.64691514 28.15815406  0.42998201 29.22514366  9.31299144  2.69345809]\n"
     ]
    }
   ],
   "source": [
    "from scipy import stats\n",
    "import numpy as np\n",
    "from scipy.optimize import minimize\n",
    "import matplotlib.pyplot as plt\n",
    "np.random.seed(1)\n",
    "\n",
    "# optimised means and sigma\n",
    "def gaussian(params):\n",
    "    means = params[:4] \n",
    "    sigma_a = params[4]\n",
    "    sigma_v = params[5]\n",
    "    scale=[sigma_a, sigma_a, sigma_v, sigma_v]\n",
    "    estimates = combined_distributions(means, sigma_a, sigma_v, data)\n",
    "    # Calculate  negative log likelihood\n",
    "    # nll_a_v = -np.sum([stats.norm.logpdf(data[i], loc=means[i], scale=scale[i]) for i in range(4)])\n",
    "\n",
    "    #nll_a_v = 0\n",
    "    err = 0\n",
    "    for i in range(4):\n",
    "        err = err - stats.norm.logpdf(data[i], loc=means[i], scale=scale[i]).sum() \n",
    "       \n",
    "    \n",
    "    #nll_av = 0\n",
    "    for i in range(4):\n",
    "        err = err - stats.norm.logpdf(data[i+4], loc=estimates[0][i], scale=estimates[1]).sum()\n",
    "\n",
    "    # nll_a_v = -np.sum(np.log([stats.norm.pdf(data[i], loc=means[i], scale=scale[i]) for i in range(4)]))\n",
    "    # nll_av = -np.sum(np.log([stats.norm.pdf(data[i+4], loc=estimates[0][i], scale=estimates[1]) for i in range(len(estimates))]))\n",
    "    #result = nll_a_v + nll_av\n",
    "    return err\n",
    "\n",
    "\n",
    "\n",
    "initParams = [means_ini[0], means_ini[1], means_ini[2], means_ini[3], sigma_a_ini, sigma_v_ini]\n",
    "\n",
    "results = minimize(gaussian, initParams)\n",
    "print(results.x)\n",
    "\n",
    "first_4_optimised = results.x[:4]\n",
    "optimised_sigma_a = results.x[4]\n",
    "optimised_sigma_v = results.x[5]"
   ]
  },
  {
   "cell_type": "code",
   "execution_count": 59,
   "metadata": {},
   "outputs": [
    {
     "data": {
      "text/plain": [
       "517.8173794053616"
      ]
     },
     "execution_count": 59,
     "metadata": {},
     "output_type": "execute_result"
    }
   ],
   "source": [
    "gaussian(results.x)"
   ]
  },
  {
   "cell_type": "code",
   "execution_count": 34,
   "metadata": {},
   "outputs": [],
   "source": [
    "last_4_optimised = combined_distributions(first_4_optimised, optimised_sigma_a, optimised_sigma_v, data)[0][:4]\n",
    "optimised_sigma_av = combined_distributions(first_4_optimised, optimised_sigma_a, optimised_sigma_v, data)[1]"
   ]
  },
  {
   "cell_type": "markdown",
   "metadata": {},
   "source": [
    "# Plotting the optimised histograms"
   ]
  },
  {
   "cell_type": "code",
   "execution_count": 35,
   "metadata": {},
   "outputs": [
    {
     "data": {
      "image/png": "[encoded data removed]",
      "text/plain": [
       "<Figure size 432x288 with 1 Axes>"
      ]
     },
     "metadata": {
      "needs_background": "light"
     },
     "output_type": "display_data"
    },
    {
     "data": {
      "image/png": "[encoded data removed]",
      "text/plain": [
       "<Figure size 432x288 with 1 Axes>"
      ]
     },
     "metadata": {
      "needs_background": "light"
     },
     "output_type": "display_data"
    },
    {
     "data": {
      "image/png": "[encoded data removed]",
      "text/plain": [
       "<Figure size 432x288 with 1 Axes>"
      ]
     },
     "metadata": {
      "needs_background": "light"
     },
     "output_type": "display_data"
    },
    {
     "data": {
      "image/png": "[encoded data removed]",
      "text/plain": [
       "<Figure size 432x288 with 1 Axes>"
      ]
     },
     "metadata": {
      "needs_background": "light"
     },
     "output_type": "display_data"
    },
    {
     "data": {
      "image/png": "[encoded data removed]",
      "text/plain": [
       "<Figure size 432x288 with 1 Axes>"
      ]
     },
     "metadata": {
      "needs_background": "light"
     },
     "output_type": "display_data"
    },
    {
     "data": {
      "image/png": "[encoded data removed]",
      "text/plain": [
       "<Figure size 432x288 with 1 Axes>"
      ]
     },
     "metadata": {
      "needs_background": "light"
     },
     "output_type": "display_data"
    },
    {
     "data": {
      "image/png": "[encoded data removed]",
      "text/plain": [
       "<Figure size 432x288 with 1 Axes>"
      ]
     },
     "metadata": {
      "needs_background": "light"
     },
     "output_type": "display_data"
    },
    {
     "data": {
      "image/png": "[encoded data removed]",
      "text/plain": [
       "<Figure size 432x288 with 1 Axes>"
      ]
     },
     "metadata": {
      "needs_background": "light"
     },
     "output_type": "display_data"
    }
   ],
   "source": [
    "def plot_optimised_model(data, first_4_optimised, last_4_optimised, optimised_sigma_a, optimised_sigma_v, optimised_sigma_av):\n",
    "\n",
    "\n",
    "\n",
    "    liste = ['0,-',' 30,-', '-,0' ,'-,30',' 0,0', '0,30', '30,0' ,'30,30']\n",
    "    for i in range(4):\n",
    "        plt.hist(data[i], bins=8, density=True, alpha=0.6, color='b')\n",
    "        plt.title('Optimised histogram of response for stimulus type {}'.format([i for i in liste][i]))\n",
    "\n",
    "    # Plot the PDF.\n",
    "        xmin, xmax = (-30, 50)\n",
    "        x = np.linspace(xmin, xmax, 100)\n",
    "        if i < 2:\n",
    "            p = norm.pdf(x, first_4_optimised[i], optimised_sigma_a)\n",
    "            plt.plot(x, p, 'k', linewidth=1)\n",
    "            plt.savefig('opt_histogram_{}.png'.format([i for i in liste][i]))\n",
    "\n",
    "            plt.show()\n",
    "        else:\n",
    "            p = norm.pdf(x, first_4_optimised[i], optimised_sigma_v)\n",
    "            plt.plot(x, p, 'k', linewidth=1)\n",
    "            plt.savefig('opt_histogram_{}.png'.format([i for i in liste][i]))\n",
    "            plt.show()\n",
    "  \n",
    "\n",
    "    for i in range(4):\n",
    "        plt.hist(data[i+4], bins=8, density=True, alpha=0.6, color='b')\n",
    "        plt.title('Optimised histogram of response for stimulus type {}'.format([i for i in liste][i+4]))\n",
    "\n",
    "    # Plot the PDF.\n",
    "        xmin, xmax = (-30, 50)\n",
    "        x = np.linspace(xmin, xmax, 100)\n",
    "        p = norm.pdf(x, last_4_optimised[i], optimised_sigma_av)\n",
    "        plt.plot(x, p, 'k', linewidth=1)\n",
    "        plt.savefig('opt_histogram_{}.png'.format([i for i in liste][i+4]))\n",
    "        plt.show()\n",
    "\n",
    "plot_optimised_model(data, first_4_optimised, last_4_optimised, optimised_sigma_a, optimised_sigma_v, optimised_sigma_av)\n",
    "\n",
    "\n"
   ]
  },
  {
   "cell_type": "code",
   "execution_count": 36,
   "metadata": {},
   "outputs": [
    {
     "data": {
      "text/plain": [
       "324.57214660728175"
      ]
     },
     "execution_count": 36,
     "metadata": {},
     "output_type": "execute_result"
    }
   ],
   "source": [
    "# evaluate the model by crossvalidating \n",
    "\n",
    "def cross_validation(data, first_4_optimised, last_4_optimised, optimised_sigma_a, optimised_sigma_v, optimised_sigma_av):\n",
    "    # split the data into training and test set\n",
    "    data_train = data[:8]\n",
    "    data_test = data[8:]\n",
    "    # calculate the means and sigmas of the training set\n",
    "    res = means_and_sigmas(data_train)\n",
    "    means_train = res[0][:4]\n",
    "    sigma_a_train = data_train[[0,1]].std(axis=0).mean()\n",
    "    sigma_v_train = data_train[[2,3]].std(axis=0).mean()\n",
    "    # calculate the combined distributions of the training set\n",
    "    combined_train = combined_distributions(means_train, sigma_a_train, sigma_v_train, data_train)\n",
    "    means_av_train = combined_train[0]\n",
    "    sigma_av_train = combined_train[1]\n",
    "    # calculate the log likelihood of the test set\n",
    "    scale=[optimised_sigma_a, optimised_sigma_a, optimised_sigma_v, optimised_sigma_v]\n",
    "    nll_a_v = np.sum([stats.norm.logpdf(data_test[i], loc=first_4_optimised[i], scale=scale[i]) for i in range(4)])\n",
    "    nll_av = np.sum([stats.norm.logpdf(data_test[i+4], loc=last_4_optimised[i], scale=optimised_sigma_av) for i in range(len(last_4_optimised))])\n",
    "    result = nll_a_v + nll_av\n",
    "    return -result\n",
    "\n",
    "cross_validation(data, first_4_optimised, last_4_optimised, optimised_sigma_a, optimised_sigma_v, optimised_sigma_av)"
   ]
  },
  {
   "cell_type": "code",
   "execution_count": null,
   "metadata": {},
   "outputs": [],
   "source": [
    "\n",
    "\n"
   ]
  },
  {
   "cell_type": "markdown",
   "metadata": {},
   "source": [
    "# Bayesian causal inference model (BCI)\n"
   ]
  },
  {
   "cell_type": "code",
   "execution_count": 110,
   "metadata": {},
   "outputs": [
    {
     "name": "stdout",
     "output_type": "stream",
     "text": [
      "[ 2.53387437 28.32207709  0.32894344 29.20269332  9.33091865  2.35475262\n",
      "  3.53352569]\n"
     ]
    }
   ],
   "source": [
    "from scipy import stats\n",
    "import numpy as np\n",
    "from scipy.optimize import minimize\n",
    "import matplotlib.pyplot as plt\n",
    "np.random.seed(1)\n",
    "\n",
    "# optimised means and sigma\n",
    "def gaussian(params):\n",
    "    means = params[:4] \n",
    "    sigma_a = params[4]\n",
    "    sigma_v = params[5]\n",
    "    c_ini = params[6]\n",
    "    c = 1/(1+np.exp(-c_ini))\n",
    "    scale=[sigma_a, sigma_a, sigma_v, sigma_v]\n",
    "    estimates = combined_distributions(means, sigma_a, sigma_v, data)\n",
    "\n",
    "    # Calculate  log likelihood\n",
    "    err = 0\n",
    "    for i in range(4):\n",
    "        # err = err - stats.norm.logpdf(data[i], loc=means[i], scale=scale[i]).sum() \n",
    "        err = err - np.sum(np.log(stats.norm.pdf(data[i], loc=means[i], scale=scale[i])))\n",
    "       \n",
    "    corresponding_means = [means[0], means[0], means[1], means[1]] \n",
    "    \n",
    "    nll_av = 0\n",
    "    for i in range(4):\n",
    "        nll_av = nll_av - np.sum(np.log(stats.norm.pdf(data[i+4], loc=estimates[0][i], scale=estimates[1])*c + stats.norm.pdf(data[i+4], loc=corresponding_means[i], scale=scale[1])*(1-c)))\n",
    "\n",
    "    result = err + nll_av\n",
    "    return result\n",
    "\n",
    "\n",
    "initParams = [means_ini[0], means_ini[1], means_ini[2], means_ini[3], sigma_a_ini, sigma_v_ini, 0]\n",
    "\n",
    "results = minimize(gaussian, initParams)\n",
    "print(results.x)\n",
    "\n",
    "first_4_optimised = results.x[:4]\n",
    "optimised_sigma_a = results.x[4]\n",
    "optimised_sigma_v = results.x[5]"
   ]
  },
  {
   "cell_type": "code",
   "execution_count": 111,
   "metadata": {},
   "outputs": [
    {
     "data": {
      "text/plain": [
       "504.8009271612233"
      ]
     },
     "execution_count": 111,
     "metadata": {},
     "output_type": "execute_result"
    }
   ],
   "source": [
    "gaussian(results.x)"
   ]
  },
  {
   "cell_type": "code",
   "execution_count": 112,
   "metadata": {},
   "outputs": [
    {
     "data": {
      "text/plain": [
       "0.028373229144300984"
      ]
     },
     "execution_count": 112,
     "metadata": {},
     "output_type": "execute_result"
    }
   ],
   "source": [
    "1/(1+np.exp(results.x[6]))"
   ]
  },
  {
   "cell_type": "code",
   "execution_count": null,
   "metadata": {},
   "outputs": [],
   "source": []
  },
  {
   "cell_type": "code",
   "execution_count": null,
   "metadata": {},
   "outputs": [],
   "source": []
  },
  {
   "cell_type": "code",
   "execution_count": null,
   "metadata": {},
   "outputs": [],
   "source": []
  },
  {
   "cell_type": "code",
   "execution_count": null,
   "metadata": {},
   "outputs": [],
   "source": []
  },
  {
   "cell_type": "code",
   "execution_count": 54,
   "metadata": {},
   "outputs": [
    {
     "data": {
      "text/plain": [
       "(array([0.01605875, 0.0463182 , 0.01605875, 0.01641572, 0.07096524,\n",
       "        0.0463182 , 0.01730509, 0.03988976, 0.07316091, 0.07589089,\n",
       "        0.0829294 , 0.01480032, 0.01461533, 0.03988976, 0.00856137,\n",
       "        0.01516459, 0.05783463, 0.01141266, 0.00480191, 0.01229234]),\n",
       " array([0.0773188 , 0.05375081, 0.05567442, 0.05109153, 0.07469394,\n",
       "        0.05884839, 0.05271548, 0.08236371, 0.0687476 , 0.0465401 ,\n",
       "        0.05133369, 0.01815015, 0.0457953 , 0.06805476, 0.07794449,\n",
       "        0.08245707, 0.06308047, 0.05641618, 0.05746109, 0.01964522]))"
      ]
     },
     "execution_count": 54,
     "metadata": {},
     "output_type": "execute_result"
    }
   ],
   "source": [
    "# fit The Gaussian strong fusion (MLE) model to the data\n",
    "\n",
    "def gauss_strong_fusion(data, means, sigma_a, sigma_v):\n",
    "    w_a = np.sqrt(sigma_v) / (np.sqrt(sigma_v) + np.sqrt(sigma_a))\n",
    "    w_v = (1-w_a)\n",
    "    gaus_0_aud = norm.pdf(data[0], means[0], sigma_a)\n",
    "    gaus_30_aud = norm.pdf(data[1], means[1], sigma_a)\n",
    "    gaus_0_vis = norm.pdf(data[2], means[2], sigma_v)\n",
    "    gaus_30_vis = norm.pdf(data[3], means[3], sigma_v)\n",
    "    return w_a*gaus_0_aud + w_v*gaus_0_vis, w_a*gaus_30_aud + w_v*gaus_30_vis\n",
    "\n",
    "gauss_strong_fusion(data, means, sigma_a, sigma_v)"
   ]
  },
  {
   "cell_type": "code",
   "execution_count": null,
   "metadata": {},
   "outputs": [],
   "source": []
  }
 ],
 "metadata": {
  "kernelspec": {
   "display_name": "Python 3.9.4 64-bit",
   "language": "python",
   "name": "python3"
  },
  "language_info": {
   "codemirror_mode": {
    "name": "ipython",
    "version": 3
   },
   "file_extension": ".py",
   "mimetype": "text/x-python",
   "name": "python",
   "nbconvert_exporter": "python",
   "pygments_lexer": "ipython3",
   "version": "3.9.4"
  },
  "orig_nbformat": 4,
  "vscode": {
   "interpreter": {
    "hash": "a84faab740edc2ffcdbf4168f32bd03a4e5724d7f9fad76844773b2af875e96a"
   }
  }
 },
 "nbformat": 4,
 "nbformat_minor": 2
}
