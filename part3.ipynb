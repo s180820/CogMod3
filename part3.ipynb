{
 "cells": [
  {
   "cell_type": "markdown",
   "metadata": {},
   "source": [
    "# FLMP"
   ]
  },
  {
   "cell_type": "code",
   "execution_count": 18,
   "metadata": {},
   "outputs": [],
   "source": [
    "import pandas as pd\n",
    "import numpy as np\n",
    "import scipy.special\n",
    "from scipy.optimize import minimize\n",
    "import math\n",
    "from scipy import stats\n",
    "\n",
    "NUM_RESPONSES = 24\n",
    "\n",
    "data = np.array([pd.read_csv(\"Data/Part_2/Homework3pt2DataCSV{}.txt\".format(i), header = None, sep= \"\\s+\") for i in range(1,6)], dtype=int)\n",
    "\n",
    "def softmax(theta):\n",
    "    return (np.exp(theta) / (np.exp(theta) + 1))\n",
    "\n",
    "def binom_likelihood_a_v(theta, x):\n",
    "    return scipy.special.binom(NUM_RESPONSES, x) * softmax(theta)**x * (1 - softmax(theta))**(NUM_RESPONSES - x)\n",
    "\n",
    "def binom_likelihood_av(thetas, x):\n",
    "    return scipy.special.binom(NUM_RESPONSES, x) * p_av(thetas) ** x * (1 - p_av(thetas)) ** (NUM_RESPONSES - x) \n",
    "\n",
    "def p_av(thetas):\n",
    "    return (softmax(thetas[0]) * softmax(thetas[1])) / (softmax(thetas[0]) * softmax(thetas[1]) + \n",
    "        (1 - softmax(thetas[0])) * (1 - softmax(thetas[1])))\n",
    "\n",
    "def sig(x):\n",
    "    return 1/(1 + np.exp(-x))\n",
    "\n",
    "\n",
    "def log_likelihood(thetas, data):\n",
    "    l_av = []\n",
    "    \n",
    "    l_a = np.prod([binom_likelihood_a_v(thetas[j], data[0][j]) for j in range(0, 5)])\n",
    "    l_v = np.prod([binom_likelihood_a_v(thetas[j+5], data[1][j]) for j in range(0, 5)])\n",
    "\n",
    "    for i in range(0, 5):\n",
    "        for j in range(0, 5):\n",
    "            l_av.append(binom_likelihood_av((thetas[i + 5], thetas[j]), data[i+2][j]))\n",
    "            \n",
    "    return -np.log(np.prod([l_a, l_v, np.prod(l_av)]))"
   ]
  },
  {
   "cell_type": "code",
   "execution_count": 12,
   "metadata": {},
   "outputs": [
    {
     "name": "stdout",
     "output_type": "stream",
     "text": [
      "P_a1: 0.035144853075220805\n",
      "P_a2: 0.09161573382894404\n",
      "P_a3: 0.17965113570245284\n",
      "P_a4: 0.9210527439832996\n",
      "P_a5: 0.9613755541025125\n",
      "P_v1: 0.04861522664070293\n",
      "P_v2: 0.698623166222858\n",
      "P_v3: 0.9482923933523749\n",
      "P_v4: 0.972973810519398\n",
      "P_v5: 0.9786687640150834\n",
      "Negative Loglikelihood Value: 47.34162607977775\n"
     ]
    }
   ],
   "source": [
    "result = minimize(log_likelihood, np.random.uniform(size=10), data[0])\n",
    "print(\"P_a1:\", sig(result.x[0]))\n",
    "print(\"P_a2:\", sig(result.x[1]))\n",
    "print(\"P_a3:\", sig(result.x[2]))\n",
    "print(\"P_a4:\", sig(result.x[3]))\n",
    "print(\"P_a5:\", sig(result.x[4]))\n",
    "print(\"P_v1:\", sig(result.x[5]))\n",
    "print(\"P_v2:\", sig(result.x[6]))\n",
    "print(\"P_v3:\", sig(result.x[7]))\n",
    "print(\"P_v4:\", sig(result.x[8]))\n",
    "print(\"P_v5:\", sig(result.x[9]))\n",
    "\n",
    "print(\"Negative Loglikelihood Value:\", result.fun)"
   ]
  },
  {
   "cell_type": "code",
   "execution_count": 13,
   "metadata": {},
   "outputs": [
    {
     "name": "stdout",
     "output_type": "stream",
     "text": [
      "P_a1: 0.024498104457094105\n",
      "P_a2: 0.1380343906409199\n",
      "P_a3: 0.4194928638217457\n",
      "P_a4: 0.9294644354210145\n",
      "P_a5: 0.9920702114182324\n",
      "P_v1: 0.005011028979598589\n",
      "P_v2: 0.7132625183968155\n",
      "P_v3: 0.960909402052458\n",
      "P_v4: 0.9938516355670535\n",
      "P_v5: 0.9971927047557424\n",
      "Negative Loglikelihood Value: 32.988362294015815\n"
     ]
    }
   ],
   "source": [
    "result = minimize(log_likelihood, np.random.uniform(size=10), data[1])\n",
    "print(\"P_a1:\", sig(result.x[0]))\n",
    "print(\"P_a2:\", sig(result.x[1]))\n",
    "print(\"P_a3:\", sig(result.x[2]))\n",
    "print(\"P_a4:\", sig(result.x[3]))\n",
    "print(\"P_a5:\", sig(result.x[4]))\n",
    "print(\"P_v1:\", sig(result.x[5]))\n",
    "print(\"P_v2:\", sig(result.x[6]))\n",
    "print(\"P_v3:\", sig(result.x[7]))\n",
    "print(\"P_v4:\", sig(result.x[8]))\n",
    "print(\"P_v5:\", sig(result.x[9]))\n",
    "\n",
    "print(\"Negative Loglikelihood Value:\", result.fun)"
   ]
  },
  {
   "cell_type": "code",
   "execution_count": 17,
   "metadata": {},
   "outputs": [
    {
     "name": "stdout",
     "output_type": "stream",
     "text": [
      "P_a1: 0.06628904224126972\n",
      "P_a2: 0.1493773167625238\n",
      "P_a3: 0.3343753907233558\n",
      "P_a4: 0.9318262689337613\n",
      "P_a5: 0.9955353250303041\n",
      "P_v1: 0.11936804694460364\n",
      "P_v2: 0.5628924320796532\n",
      "P_v3: 0.8237014799136573\n",
      "P_v4: 0.9143607717281163\n",
      "P_v5: 0.9320805789907349\n",
      "Negative Loglikelihood Value: 53.381625302877296\n"
     ]
    }
   ],
   "source": [
    "result = minimize(log_likelihood, np.random.uniform(size=10), data[2])\n",
    "print(\"P_a1:\", sig(result.x[0]))\n",
    "print(\"P_a2:\", sig(result.x[1]))\n",
    "print(\"P_a3:\", sig(result.x[2]))\n",
    "print(\"P_a4:\", sig(result.x[3]))\n",
    "print(\"P_a5:\", sig(result.x[4]))\n",
    "print(\"P_v1:\", sig(result.x[5]))\n",
    "print(\"P_v2:\", sig(result.x[6]))\n",
    "print(\"P_v3:\", sig(result.x[7]))\n",
    "print(\"P_v4:\", sig(result.x[8]))\n",
    "print(\"P_v5:\", sig(result.x[9]))\n",
    "\n",
    "print(\"Negative Loglikelihood Value:\", result.fun)"
   ]
  },
  {
   "cell_type": "code",
   "execution_count": 15,
   "metadata": {},
   "outputs": [
    {
     "name": "stdout",
     "output_type": "stream",
     "text": [
      "P_a1: 0.016060513895215376\n",
      "P_a2: 0.04288047867308247\n",
      "P_a3: 0.11485924883188894\n",
      "P_a4: 0.9050644106739016\n",
      "P_a5: 0.9902752378908725\n",
      "P_v1: 0.07473498471858449\n",
      "P_v2: 0.23248780481758988\n",
      "P_v3: 0.42378278087907134\n",
      "P_v4: 0.7784251465111502\n",
      "P_v5: 0.8930425201675148\n",
      "Negative Loglikelihood Value: 46.90895921307921\n"
     ]
    }
   ],
   "source": [
    "result = minimize(log_likelihood, np.random.uniform(size=10), data[3])\n",
    "print(\"P_a1:\", sig(result.x[0]))\n",
    "print(\"P_a2:\", sig(result.x[1]))\n",
    "print(\"P_a3:\", sig(result.x[2]))\n",
    "print(\"P_a4:\", sig(result.x[3]))\n",
    "print(\"P_a5:\", sig(result.x[4]))\n",
    "print(\"P_v1:\", sig(result.x[5]))\n",
    "print(\"P_v2:\", sig(result.x[6]))\n",
    "print(\"P_v3:\", sig(result.x[7]))\n",
    "print(\"P_v4:\", sig(result.x[8]))\n",
    "print(\"P_v5:\", sig(result.x[9]))\n",
    "\n",
    "print(\"Negative Loglikelihood Value:\", result.fun)"
   ]
  },
  {
   "cell_type": "code",
   "execution_count": 16,
   "metadata": {},
   "outputs": [
    {
     "name": "stdout",
     "output_type": "stream",
     "text": [
      "P_a1: 0.004353435235477208\n",
      "P_a2: 0.019329920095805305\n",
      "P_a3: 0.19541702259636448\n",
      "P_a4: 0.9485908037507094\n",
      "P_a5: 0.9980556467013463\n",
      "P_v1: 0.047200644122890906\n",
      "P_v2: 0.6042186732662472\n",
      "P_v3: 0.849394146338128\n",
      "P_v4: 0.9185492714992167\n",
      "P_v5: 0.9547177559214923\n",
      "Negative Loglikelihood Value: 42.81412495454834\n"
     ]
    }
   ],
   "source": [
    "result = minimize(log_likelihood, np.random.uniform(size=10), data[4])\n",
    "print(\"P_a1:\", sig(result.x[0]))\n",
    "print(\"P_a2:\", sig(result.x[1]))\n",
    "print(\"P_a3:\", sig(result.x[2]))\n",
    "print(\"P_a4:\", sig(result.x[3]))\n",
    "print(\"P_a5:\", sig(result.x[4]))\n",
    "print(\"P_v1:\", sig(result.x[5]))\n",
    "print(\"P_v2:\", sig(result.x[6]))\n",
    "print(\"P_v3:\", sig(result.x[7]))\n",
    "print(\"P_v4:\", sig(result.x[8]))\n",
    "print(\"P_v5:\", sig(result.x[9]))\n",
    "\n",
    "print(\"Negative Loglikelihood Value:\", result.fun)"
   ]
  },
  {
   "cell_type": "markdown",
   "metadata": {},
   "source": [
    "# BCI Strong Fusion Probability"
   ]
  },
  {
   "cell_type": "code",
   "execution_count": 33,
   "metadata": {},
   "outputs": [],
   "source": [
    "def Negative_LogLikelihood(parameters, d):\n",
    "    n = 24\n",
    "    P_a1, P_a2, P_a3, P_a4, P_a5, P_v1, P_v2, P_v3, P_v4, P_v5, c = parameters\n",
    "    P_a1, P_a2, P_a3, P_a4, P_a5 = sig(P_a1), sig(P_a2), sig(P_a3), sig(P_a4), sig(P_a5)\n",
    "    P_v1, P_v2, P_v3, P_v4, P_v5 = sig(P_v1), sig(P_v2), sig(P_v3), sig(P_v4), sig(P_v5)\n",
    "    c = sig(c)\n",
    "    d = pd.DataFrame(d)\n",
    "    x_a = d.iloc[0,:]\n",
    "    x_v = d.iloc[1,:]\n",
    "    x_av = d.iloc[2:,:]\n",
    "\n",
    "    # Define P(r_d) i.e. the probability of a 'd' response given an auditory/visual/auditory+visual stimulus\n",
    "    P_a  = [P_a1, P_a2, P_a3, P_a4, P_a5]\n",
    "    P_v  = [P_v1, P_v2, P_v3, P_v4, P_v5]\n",
    "    P_av = np.zeros((5,5)) # 5x5 matrix\n",
    "    for i in range(5): # visual\n",
    "        for j in range(5): # audio\n",
    "            P_av[i,j] = (P_a[j]*P_v[i])/(P_a[j]*P_v[i] + (1-P_a[j])*(1-P_v[i]))\n",
    "    \n",
    "    P_av_BCI = c*P_av + (1-c)*np.array(P_a)\n",
    "    \n",
    "    # Define the Negative Log Likelihood for the Binomial Distribution\n",
    "    nll_combi_list = []\n",
    "    for i in range(5): # visual \n",
    "        for j in range(5): # audio \n",
    "            nll_combi_list.append(np.log(stats.binom.pmf(x_av.iloc[i,j], n, P_av_BCI[i,j])))\n",
    "    nll = -sum(np.log(stats.binom.pmf(x_a, n, P_a))) - \\\n",
    "           sum(np.log(stats.binom.pmf(x_v, n, P_v))) - \\\n",
    "           sum(nll_combi_list)\n",
    "           \n",
    "    return nll"
   ]
  },
  {
   "cell_type": "code",
   "execution_count": 34,
   "metadata": {},
   "outputs": [
    {
     "name": "stdout",
     "output_type": "stream",
     "text": [
      "P_a1: 0.035144857277498956\n",
      "P_a2: 0.09161573391649973\n",
      "P_a3: 0.17965109927640371\n",
      "P_a4: 0.9210526566382098\n",
      "P_a5: 0.9613754710175443\n",
      "P_v1: 0.04861529416478027\n",
      "P_v2: 0.6986231559904882\n",
      "P_v3: 0.9482924048357919\n",
      "P_v4: 0.972973803756389\n",
      "P_v5: 0.9786687595944064\n",
      "c: 0.9999999645798611\n",
      "Negative Loglikelihood Value: 47.34162635779953\n"
     ]
    }
   ],
   "source": [
    "Initial_guess = [0.3] * 10 + [0]\n",
    "result = minimize(Negative_LogLikelihood, Initial_guess, data[0])\n",
    "print(\"P_a1:\", sig(result.x[0]))\n",
    "print(\"P_a2:\", sig(result.x[1]))\n",
    "print(\"P_a3:\", sig(result.x[2]))\n",
    "print(\"P_a4:\", sig(result.x[3]))\n",
    "print(\"P_a5:\", sig(result.x[4]))\n",
    "print(\"P_v1:\", sig(result.x[5]))\n",
    "print(\"P_v2:\", sig(result.x[6]))\n",
    "print(\"P_v3:\", sig(result.x[7]))\n",
    "print(\"P_v4:\", sig(result.x[8]))\n",
    "print(\"P_v5:\", sig(result.x[9]))\n",
    "print(\"c:\", sig(result.x[10]))\n",
    "\n",
    "print(\"Negative Loglikelihood Value:\", result.fun)"
   ]
  },
  {
   "cell_type": "code",
   "execution_count": 35,
   "metadata": {},
   "outputs": [
    {
     "name": "stdout",
     "output_type": "stream",
     "text": [
      "P_a1: 0.024498089706102996\n",
      "P_a2: 0.13803451313430262\n",
      "P_a3: 0.4194930702447928\n",
      "P_a4: 0.9294647554566072\n",
      "P_a5: 0.992070311578413\n",
      "P_v1: 0.005010970374138756\n",
      "P_v2: 0.7132623855437255\n",
      "P_v3: 0.9609094280475385\n",
      "P_v4: 0.9938516528108902\n",
      "P_v5: 0.9971927146292612\n",
      "c: 0.999999856187231\n",
      "Negative Loglikelihood Value: 32.988370197396556\n"
     ]
    }
   ],
   "source": [
    "Initial_guess = [0.3] * 10 + [0]\n",
    "result = minimize(Negative_LogLikelihood, Initial_guess, data[1])\n",
    "print(\"P_a1:\", sig(result.x[0]))\n",
    "print(\"P_a2:\", sig(result.x[1]))\n",
    "print(\"P_a3:\", sig(result.x[2]))\n",
    "print(\"P_a4:\", sig(result.x[3]))\n",
    "print(\"P_a5:\", sig(result.x[4]))\n",
    "print(\"P_v1:\", sig(result.x[5]))\n",
    "print(\"P_v2:\", sig(result.x[6]))\n",
    "print(\"P_v3:\", sig(result.x[7]))\n",
    "print(\"P_v4:\", sig(result.x[8]))\n",
    "print(\"P_v5:\", sig(result.x[9]))\n",
    "print(\"c:\", sig(result.x[10]))\n",
    "\n",
    "print(\"Negative Loglikelihood Value:\", result.fun)"
   ]
  },
  {
   "cell_type": "code",
   "execution_count": 36,
   "metadata": {},
   "outputs": [
    {
     "name": "stdout",
     "output_type": "stream",
     "text": [
      "P_a1: 0.06579341748711354\n",
      "P_a2: 0.1489372238077279\n",
      "P_a3: 0.3343075938451751\n",
      "P_a4: 0.9314663419388202\n",
      "P_a5: 0.9957623616488719\n",
      "P_v1: 0.1195645325949087\n",
      "P_v2: 0.5619630788192286\n",
      "P_v3: 0.824278879328242\n",
      "P_v4: 0.9151078372873757\n",
      "P_v5: 0.9325082935870106\n",
      "c: 0.9632977885468574\n",
      "Negative Loglikelihood Value: 53.180607176890426\n"
     ]
    },
    {
     "name": "stderr",
     "output_type": "stream",
     "text": [
      "/var/folders/p7/1qllz46s60lfswf2l4vv4qtr0000gn/T/ipykernel_33535/480180814.py:26: RuntimeWarning: overflow encountered in exp\n",
      "  return 1/(1 + np.exp(-x))\n",
      "/var/folders/p7/1qllz46s60lfswf2l4vv4qtr0000gn/T/ipykernel_33535/689978128.py:26: RuntimeWarning: divide by zero encountered in log\n",
      "  nll_combi_list.append(np.log(stats.binom.pmf(x_av.iloc[i,j], n, P_av_BCI[i,j])))\n",
      "/opt/homebrew/lib/python3.10/site-packages/scipy/optimize/_numdiff.py:576: RuntimeWarning: invalid value encountered in subtract\n",
      "  df = fun(x) - f0\n",
      "/var/folders/p7/1qllz46s60lfswf2l4vv4qtr0000gn/T/ipykernel_33535/480180814.py:26: RuntimeWarning: overflow encountered in exp\n",
      "  return 1/(1 + np.exp(-x))\n",
      "/var/folders/p7/1qllz46s60lfswf2l4vv4qtr0000gn/T/ipykernel_33535/689978128.py:26: RuntimeWarning: divide by zero encountered in log\n",
      "  nll_combi_list.append(np.log(stats.binom.pmf(x_av.iloc[i,j], n, P_av_BCI[i,j])))\n"
     ]
    }
   ],
   "source": [
    "Initial_guess = [0.3] * 10 + [0]\n",
    "result = minimize(Negative_LogLikelihood, Initial_guess, data[2])\n",
    "print(\"P_a1:\", sig(result.x[0]))\n",
    "print(\"P_a2:\", sig(result.x[1]))\n",
    "print(\"P_a3:\", sig(result.x[2]))\n",
    "print(\"P_a4:\", sig(result.x[3]))\n",
    "print(\"P_a5:\", sig(result.x[4]))\n",
    "print(\"P_v1:\", sig(result.x[5]))\n",
    "print(\"P_v2:\", sig(result.x[6]))\n",
    "print(\"P_v3:\", sig(result.x[7]))\n",
    "print(\"P_v4:\", sig(result.x[8]))\n",
    "print(\"P_v5:\", sig(result.x[9]))\n",
    "print(\"c:\", sig(result.x[10]))\n",
    "\n",
    "print(\"Negative Loglikelihood Value:\", result.fun)"
   ]
  },
  {
   "cell_type": "code",
   "execution_count": 37,
   "metadata": {},
   "outputs": [
    {
     "name": "stdout",
     "output_type": "stream",
     "text": [
      "P_a1: 0.015846726899521348\n",
      "P_a2: 0.04284798170084372\n",
      "P_a3: 0.11391522433904953\n",
      "P_a4: 0.9045147452632702\n",
      "P_a5: 0.9902627930427881\n",
      "P_v1: 0.0767967172055057\n",
      "P_v2: 0.23113640957975357\n",
      "P_v3: 0.42583750047104374\n",
      "P_v4: 0.7784300755673268\n",
      "P_v5: 0.8922083174086034\n",
      "c: 0.8692347770400224\n",
      "Negative Loglikelihood Value: 45.30308995673103\n"
     ]
    },
    {
     "name": "stderr",
     "output_type": "stream",
     "text": [
      "/var/folders/p7/1qllz46s60lfswf2l4vv4qtr0000gn/T/ipykernel_33535/480180814.py:26: RuntimeWarning: overflow encountered in exp\n",
      "  return 1/(1 + np.exp(-x))\n",
      "/var/folders/p7/1qllz46s60lfswf2l4vv4qtr0000gn/T/ipykernel_33535/689978128.py:28: RuntimeWarning: divide by zero encountered in log\n",
      "  sum(np.log(stats.binom.pmf(x_v, n, P_v))) - \\\n",
      "/opt/homebrew/lib/python3.10/site-packages/scipy/optimize/_numdiff.py:576: RuntimeWarning: invalid value encountered in subtract\n",
      "  df = fun(x) - f0\n",
      "/var/folders/p7/1qllz46s60lfswf2l4vv4qtr0000gn/T/ipykernel_33535/480180814.py:26: RuntimeWarning: overflow encountered in exp\n",
      "  return 1/(1 + np.exp(-x))\n",
      "/var/folders/p7/1qllz46s60lfswf2l4vv4qtr0000gn/T/ipykernel_33535/689978128.py:28: RuntimeWarning: divide by zero encountered in log\n",
      "  sum(np.log(stats.binom.pmf(x_v, n, P_v))) - \\\n"
     ]
    }
   ],
   "source": [
    "Initial_guess = [0.3] * 10 + [0]\n",
    "result = minimize(Negative_LogLikelihood, Initial_guess, data[3])\n",
    "print(\"P_a1:\", sig(result.x[0]))\n",
    "print(\"P_a2:\", sig(result.x[1]))\n",
    "print(\"P_a3:\", sig(result.x[2]))\n",
    "print(\"P_a4:\", sig(result.x[3]))\n",
    "print(\"P_a5:\", sig(result.x[4]))\n",
    "print(\"P_v1:\", sig(result.x[5]))\n",
    "print(\"P_v2:\", sig(result.x[6]))\n",
    "print(\"P_v3:\", sig(result.x[7]))\n",
    "print(\"P_v4:\", sig(result.x[8]))\n",
    "print(\"P_v5:\", sig(result.x[9]))\n",
    "print(\"c:\", sig(result.x[10]))\n",
    "\n",
    "print(\"Negative Loglikelihood Value:\", result.fun)"
   ]
  },
  {
   "cell_type": "code",
   "execution_count": 38,
   "metadata": {},
   "outputs": [
    {
     "name": "stdout",
     "output_type": "stream",
     "text": [
      "P_a1: 0.0029293636974378912\n",
      "P_a2: 0.014437465140773454\n",
      "P_a3: 0.22476263304865915\n",
      "P_a4: 0.9617965414223425\n",
      "P_a5: 0.9991681416735191\n",
      "P_v1: 0.014029144519808153\n",
      "P_v2: 0.6074538548732717\n",
      "P_v3: 0.9104308982281055\n",
      "P_v4: 0.9631240648017322\n",
      "P_v5: 0.9793385651944755\n",
      "c: 0.707479000886077\n",
      "Negative Loglikelihood Value: 39.170145464155226\n"
     ]
    }
   ],
   "source": [
    "Initial_guess = [0.3] * 10 + [0]\n",
    "result = minimize(Negative_LogLikelihood, Initial_guess, data[4])\n",
    "print(\"P_a1:\", sig(result.x[0]))\n",
    "print(\"P_a2:\", sig(result.x[1]))\n",
    "print(\"P_a3:\", sig(result.x[2]))\n",
    "print(\"P_a4:\", sig(result.x[3]))\n",
    "print(\"P_a5:\", sig(result.x[4]))\n",
    "print(\"P_v1:\", sig(result.x[5]))\n",
    "print(\"P_v2:\", sig(result.x[6]))\n",
    "print(\"P_v3:\", sig(result.x[7]))\n",
    "print(\"P_v4:\", sig(result.x[8]))\n",
    "print(\"P_v5:\", sig(result.x[9]))\n",
    "print(\"c:\", sig(result.x[10]))\n",
    "\n",
    "print(\"Negative Loglikelihood Value:\", result.fun)"
   ]
  },
  {
   "cell_type": "markdown",
   "metadata": {},
   "source": [
    "# Late Strong Fusion Model (Late MLE)"
   ]
  },
  {
   "cell_type": "code",
   "execution_count": 40,
   "metadata": {},
   "outputs": [],
   "source": [
    "def Negative_LogLikelihood(parameters,d):\n",
    "    n = 24\n",
    "    c_a, c_v, sigma_a, sigma_v = parameters\n",
    "\n",
    "    # Define mu\n",
    "    mu_a = [1,2,3,4,5] # These are arbitrary \n",
    "    mu_v = [1,2,3,4,5] # These are arbitrary \n",
    "\n",
    "    d = pd.DataFrame(d)\n",
    "    x_a = d.iloc[0,:]\n",
    "    x_v = d.iloc[1,:]\n",
    "    x_av = d.iloc[2:,:]\n",
    "\n",
    "    # Define P i.e. the probability of a 'd' response given an auditory/visual/auditory+visual stimulus\n",
    "    P_a  = stats.norm.cdf((mu_a - c_a)/sigma_a)\n",
    "    P_v  = stats.norm.cdf((mu_v - c_v)/sigma_v)\n",
    "    P_av = np.zeros((5,5))\n",
    "    \n",
    "    for i in range(5):\n",
    "        for j in range(5):\n",
    "            P_av[i,j] = (P_a[j]*P_v[i])/(P_a[j]*P_v[i] + (1-P_a[j])*(1-P_v[i]))\n",
    "\n",
    "    # Define the Negative Log Likelihood for the Binomial Distribution\n",
    "    nll_combi_list = []\n",
    "    for i in range(5):\n",
    "        for j in range(5): \n",
    "            nll_combi_list.append(np.log(stats.binom.pmf(x_av.iloc[i,j], n, P_av[i,j])))\n",
    "    nll = -sum(np.log(stats.binom.pmf(x_a, n, P_a))) - \\\n",
    "           sum(np.log(stats.binom.pmf(x_v, n, P_v))) - \\\n",
    "           sum(nll_combi_list)\n",
    "\n",
    "    return nll"
   ]
  },
  {
   "cell_type": "code",
   "execution_count": 41,
   "metadata": {},
   "outputs": [
    {
     "name": "stdout",
     "output_type": "stream",
     "text": [
      "c_a: 3.2269959580645824\n",
      "c_v: 1.9353987000373456\n",
      "sigma_a: 1.3406117782890439\n",
      "sigma_v: 1.3344489206689862\n",
      "Negative Loglikelihood Value: 95.30782910293735\n"
     ]
    }
   ],
   "source": [
    "df = pd.DataFrame(data[0])\n",
    "Initial_guess = [0.5, 0.5, np.std(df.iloc[0,:]), np.std(df.iloc[1,:])]\n",
    "result = minimize(Negative_LogLikelihood,Initial_guess, data[0])\n",
    "\n",
    "print(\"c_a:\", result.x[0])\n",
    "print(\"c_v:\", result.x[1])\n",
    "print(\"sigma_a:\", result.x[2])\n",
    "print(\"sigma_v:\", result.x[3])\n",
    "\n",
    "print(\"Negative Loglikelihood Value:\", result.fun)"
   ]
  },
  {
   "cell_type": "code",
   "execution_count": 43,
   "metadata": {},
   "outputs": [
    {
     "name": "stderr",
     "output_type": "stream",
     "text": [
      "/var/folders/p7/1qllz46s60lfswf2l4vv4qtr0000gn/T/ipykernel_33535/684719428.py:27: RuntimeWarning: divide by zero encountered in log\n",
      "  nll_combi_list.append(np.log(stats.binom.pmf(x_av.iloc[i,j], n, P_av[i,j])))\n",
      "/var/folders/p7/1qllz46s60lfswf2l4vv4qtr0000gn/T/ipykernel_33535/684719428.py:29: RuntimeWarning: divide by zero encountered in log\n",
      "  sum(np.log(stats.binom.pmf(x_v, n, P_v))) - \\\n",
      "/opt/homebrew/lib/python3.10/site-packages/scipy/optimize/_numdiff.py:576: RuntimeWarning: invalid value encountered in subtract\n",
      "  df = fun(x) - f0\n",
      "/var/folders/p7/1qllz46s60lfswf2l4vv4qtr0000gn/T/ipykernel_33535/684719428.py:27: RuntimeWarning: divide by zero encountered in log\n",
      "  nll_combi_list.append(np.log(stats.binom.pmf(x_av.iloc[i,j], n, P_av[i,j])))\n",
      "/var/folders/p7/1qllz46s60lfswf2l4vv4qtr0000gn/T/ipykernel_33535/684719428.py:29: RuntimeWarning: divide by zero encountered in log\n",
      "  sum(np.log(stats.binom.pmf(x_v, n, P_v))) - \\\n",
      "/var/folders/p7/1qllz46s60lfswf2l4vv4qtr0000gn/T/ipykernel_33535/684719428.py:27: RuntimeWarning: divide by zero encountered in log\n",
      "  nll_combi_list.append(np.log(stats.binom.pmf(x_av.iloc[i,j], n, P_av[i,j])))\n",
      "/opt/homebrew/lib/python3.10/site-packages/scipy/optimize/_numdiff.py:576: RuntimeWarning: invalid value encountered in subtract\n",
      "  df = fun(x) - f0\n"
     ]
    },
    {
     "name": "stdout",
     "output_type": "stream",
     "text": [
      "c_a: 2.974807776850289\n",
      "c_v: 2.0838669994860757\n",
      "sigma_a: 1.2257645336651823\n",
      "sigma_v: 0.7786222280156673\n",
      "Negative Loglikelihood Value: 71.0453908413123\n"
     ]
    }
   ],
   "source": [
    "df = pd.DataFrame(data[1])\n",
    "Initial_guess = [0.5, 0.5, np.std(df.iloc[0,:]), np.std(df.iloc[1,:])]\n",
    "result = minimize(Negative_LogLikelihood,Initial_guess, data[1])\n",
    "\n",
    "print(\"c_a:\", result.x[0])\n",
    "print(\"c_v:\", result.x[1])\n",
    "print(\"sigma_a:\", result.x[2])\n",
    "print(\"sigma_v:\", result.x[3])\n",
    "\n",
    "print(\"Negative Loglikelihood Value:\", result.fun)"
   ]
  },
  {
   "cell_type": "code",
   "execution_count": 44,
   "metadata": {},
   "outputs": [
    {
     "name": "stderr",
     "output_type": "stream",
     "text": [
      "/var/folders/p7/1qllz46s60lfswf2l4vv4qtr0000gn/T/ipykernel_33535/684719428.py:27: RuntimeWarning: divide by zero encountered in log\n",
      "  nll_combi_list.append(np.log(stats.binom.pmf(x_av.iloc[i,j], n, P_av[i,j])))\n",
      "/opt/homebrew/lib/python3.10/site-packages/scipy/stats/_discrete_distns.py:78: RuntimeWarning: divide by zero encountered in _binom_pdf\n",
      "  return _boost._binom_pdf(x, n, p)\n",
      "/var/folders/p7/1qllz46s60lfswf2l4vv4qtr0000gn/T/ipykernel_33535/684719428.py:28: RuntimeWarning: divide by zero encountered in log\n",
      "  nll = -sum(np.log(stats.binom.pmf(x_a, n, P_a))) - \\\n",
      "/opt/homebrew/lib/python3.10/site-packages/scipy/optimize/_numdiff.py:576: RuntimeWarning: invalid value encountered in subtract\n",
      "  df = fun(x) - f0\n"
     ]
    },
    {
     "name": "stdout",
     "output_type": "stream",
     "text": [
      "c_a: 2.855278526700683\n",
      "c_v: 2.1597129596084983\n",
      "sigma_a: 1.1188268963592\n",
      "sigma_v: 1.6617203719948492\n",
      "Negative Loglikelihood Value: 78.33170110890714\n"
     ]
    }
   ],
   "source": [
    "df = pd.DataFrame(data[2])\n",
    "Initial_guess = [0.5, 0.5, np.std(df.iloc[0,:]), np.std(df.iloc[1,:])]\n",
    "result = minimize(Negative_LogLikelihood,Initial_guess, data[2])\n",
    "\n",
    "print(\"c_a:\", result.x[0])\n",
    "print(\"c_v:\", result.x[1])\n",
    "print(\"sigma_a:\", result.x[2])\n",
    "print(\"sigma_v:\", result.x[3])\n",
    "\n",
    "print(\"Negative Loglikelihood Value:\", result.fun)"
   ]
  },
  {
   "cell_type": "code",
   "execution_count": 45,
   "metadata": {},
   "outputs": [
    {
     "name": "stderr",
     "output_type": "stream",
     "text": [
      "/var/folders/p7/1qllz46s60lfswf2l4vv4qtr0000gn/T/ipykernel_33535/684719428.py:27: RuntimeWarning: divide by zero encountered in log\n",
      "  nll_combi_list.append(np.log(stats.binom.pmf(x_av.iloc[i,j], n, P_av[i,j])))\n",
      "/var/folders/p7/1qllz46s60lfswf2l4vv4qtr0000gn/T/ipykernel_33535/684719428.py:29: RuntimeWarning: divide by zero encountered in log\n",
      "  sum(np.log(stats.binom.pmf(x_v, n, P_v))) - \\\n",
      "/opt/homebrew/lib/python3.10/site-packages/scipy/optimize/_numdiff.py:576: RuntimeWarning: invalid value encountered in subtract\n",
      "  df = fun(x) - f0\n",
      "/var/folders/p7/1qllz46s60lfswf2l4vv4qtr0000gn/T/ipykernel_33535/684719428.py:27: RuntimeWarning: divide by zero encountered in log\n",
      "  nll_combi_list.append(np.log(stats.binom.pmf(x_av.iloc[i,j], n, P_av[i,j])))\n",
      "/var/folders/p7/1qllz46s60lfswf2l4vv4qtr0000gn/T/ipykernel_33535/684719428.py:29: RuntimeWarning: divide by zero encountered in log\n",
      "  sum(np.log(stats.binom.pmf(x_v, n, P_v))) - \\\n",
      "/var/folders/p7/1qllz46s60lfswf2l4vv4qtr0000gn/T/ipykernel_33535/684719428.py:27: RuntimeWarning: divide by zero encountered in log\n",
      "  nll_combi_list.append(np.log(stats.binom.pmf(x_av.iloc[i,j], n, P_av[i,j])))\n",
      "/var/folders/p7/1qllz46s60lfswf2l4vv4qtr0000gn/T/ipykernel_33535/684719428.py:28: RuntimeWarning: divide by zero encountered in log\n",
      "  nll = -sum(np.log(stats.binom.pmf(x_a, n, P_a))) - \\\n",
      "/opt/homebrew/lib/python3.10/site-packages/scipy/optimize/_numdiff.py:576: RuntimeWarning: invalid value encountered in subtract\n",
      "  df = fun(x) - f0\n",
      "/var/folders/p7/1qllz46s60lfswf2l4vv4qtr0000gn/T/ipykernel_33535/684719428.py:27: RuntimeWarning: divide by zero encountered in log\n",
      "  nll_combi_list.append(np.log(stats.binom.pmf(x_av.iloc[i,j], n, P_av[i,j])))\n",
      "/var/folders/p7/1qllz46s60lfswf2l4vv4qtr0000gn/T/ipykernel_33535/684719428.py:28: RuntimeWarning: divide by zero encountered in log\n",
      "  nll = -sum(np.log(stats.binom.pmf(x_a, n, P_a))) - \\\n",
      "/var/folders/p7/1qllz46s60lfswf2l4vv4qtr0000gn/T/ipykernel_33535/684719428.py:27: RuntimeWarning: divide by zero encountered in log\n",
      "  nll_combi_list.append(np.log(stats.binom.pmf(x_av.iloc[i,j], n, P_av[i,j])))\n",
      "/var/folders/p7/1qllz46s60lfswf2l4vv4qtr0000gn/T/ipykernel_33535/684719428.py:28: RuntimeWarning: divide by zero encountered in log\n",
      "  nll = -sum(np.log(stats.binom.pmf(x_a, n, P_a))) - \\\n",
      "/opt/homebrew/lib/python3.10/site-packages/scipy/optimize/_numdiff.py:576: RuntimeWarning: invalid value encountered in subtract\n",
      "  df = fun(x) - f0\n"
     ]
    },
    {
     "name": "stdout",
     "output_type": "stream",
     "text": [
      "c_a: 3.281946905081517\n",
      "c_v: 3.241809388012453\n",
      "sigma_a: 0.8067854881506644\n",
      "sigma_v: 1.8001458331752527\n",
      "Negative Loglikelihood Value: 75.68628487852389\n"
     ]
    },
    {
     "name": "stderr",
     "output_type": "stream",
     "text": [
      "/var/folders/p7/1qllz46s60lfswf2l4vv4qtr0000gn/T/ipykernel_33535/684719428.py:27: RuntimeWarning: divide by zero encountered in log\n",
      "  nll_combi_list.append(np.log(stats.binom.pmf(x_av.iloc[i,j], n, P_av[i,j])))\n",
      "/opt/homebrew/lib/python3.10/site-packages/scipy/stats/_discrete_distns.py:78: RuntimeWarning: divide by zero encountered in _binom_pdf\n",
      "  return _boost._binom_pdf(x, n, p)\n",
      "/var/folders/p7/1qllz46s60lfswf2l4vv4qtr0000gn/T/ipykernel_33535/684719428.py:29: RuntimeWarning: divide by zero encountered in log\n",
      "  sum(np.log(stats.binom.pmf(x_v, n, P_v))) - \\\n",
      "/opt/homebrew/lib/python3.10/site-packages/scipy/optimize/_numdiff.py:576: RuntimeWarning: invalid value encountered in subtract\n",
      "  df = fun(x) - f0\n",
      "/var/folders/p7/1qllz46s60lfswf2l4vv4qtr0000gn/T/ipykernel_33535/684719428.py:27: RuntimeWarning: divide by zero encountered in log\n",
      "  nll_combi_list.append(np.log(stats.binom.pmf(x_av.iloc[i,j], n, P_av[i,j])))\n",
      "/opt/homebrew/lib/python3.10/site-packages/scipy/stats/_discrete_distns.py:78: RuntimeWarning: divide by zero encountered in _binom_pdf\n",
      "  return _boost._binom_pdf(x, n, p)\n",
      "/var/folders/p7/1qllz46s60lfswf2l4vv4qtr0000gn/T/ipykernel_33535/684719428.py:29: RuntimeWarning: divide by zero encountered in log\n",
      "  sum(np.log(stats.binom.pmf(x_v, n, P_v))) - \\\n"
     ]
    }
   ],
   "source": [
    "df = pd.DataFrame(data[3])\n",
    "Initial_guess = [0.5, 0.5, np.std(df.iloc[0,:]), np.std(df.iloc[1,:])]\n",
    "result = minimize(Negative_LogLikelihood,Initial_guess, data[3])\n",
    "\n",
    "print(\"c_a:\", result.x[0])\n",
    "print(\"c_v:\", result.x[1])\n",
    "print(\"sigma_a:\", result.x[2])\n",
    "print(\"sigma_v:\", result.x[3])\n",
    "\n",
    "print(\"Negative Loglikelihood Value:\", result.fun)"
   ]
  },
  {
   "cell_type": "code",
   "execution_count": 46,
   "metadata": {},
   "outputs": [
    {
     "name": "stderr",
     "output_type": "stream",
     "text": [
      "/var/folders/p7/1qllz46s60lfswf2l4vv4qtr0000gn/T/ipykernel_33535/684719428.py:27: RuntimeWarning: divide by zero encountered in log\n",
      "  nll_combi_list.append(np.log(stats.binom.pmf(x_av.iloc[i,j], n, P_av[i,j])))\n",
      "/var/folders/p7/1qllz46s60lfswf2l4vv4qtr0000gn/T/ipykernel_33535/684719428.py:29: RuntimeWarning: divide by zero encountered in log\n",
      "  sum(np.log(stats.binom.pmf(x_v, n, P_v))) - \\\n",
      "/opt/homebrew/lib/python3.10/site-packages/scipy/optimize/_numdiff.py:576: RuntimeWarning: invalid value encountered in subtract\n",
      "  df = fun(x) - f0\n",
      "/var/folders/p7/1qllz46s60lfswf2l4vv4qtr0000gn/T/ipykernel_33535/684719428.py:27: RuntimeWarning: divide by zero encountered in log\n",
      "  nll_combi_list.append(np.log(stats.binom.pmf(x_av.iloc[i,j], n, P_av[i,j])))\n",
      "/var/folders/p7/1qllz46s60lfswf2l4vv4qtr0000gn/T/ipykernel_33535/684719428.py:29: RuntimeWarning: divide by zero encountered in log\n",
      "  sum(np.log(stats.binom.pmf(x_v, n, P_v))) - \\\n",
      "/var/folders/p7/1qllz46s60lfswf2l4vv4qtr0000gn/T/ipykernel_33535/684719428.py:27: RuntimeWarning: divide by zero encountered in log\n",
      "  nll_combi_list.append(np.log(stats.binom.pmf(x_av.iloc[i,j], n, P_av[i,j])))\n",
      "/opt/homebrew/lib/python3.10/site-packages/scipy/optimize/_numdiff.py:576: RuntimeWarning: invalid value encountered in subtract\n",
      "  df = fun(x) - f0\n"
     ]
    },
    {
     "name": "stdout",
     "output_type": "stream",
     "text": [
      "c_a: 3.3008467726152873\n",
      "c_v: 2.2271479619173866\n",
      "sigma_a: 0.7134482253224526\n",
      "sigma_v: 1.5540763100319044\n",
      "Negative Loglikelihood Value: 67.34305394734614\n"
     ]
    }
   ],
   "source": [
    "df = pd.DataFrame(data[4])\n",
    "Initial_guess = [0.5, 0.5, np.std(df.iloc[0,:]), np.std(df.iloc[1,:])]\n",
    "result = minimize(Negative_LogLikelihood,Initial_guess, data[4])\n",
    "\n",
    "print(\"c_a:\", result.x[0])\n",
    "print(\"c_v:\", result.x[1])\n",
    "print(\"sigma_a:\", result.x[2])\n",
    "print(\"sigma_v:\", result.x[3])\n",
    "\n",
    "print(\"Negative Loglikelihood Value:\", result.fun)"
   ]
  },
  {
   "cell_type": "markdown",
   "metadata": {},
   "source": [
    "# BCI Late Strong Fusion Model"
   ]
  },
  {
   "cell_type": "code",
   "execution_count": 47,
   "metadata": {},
   "outputs": [],
   "source": [
    "def Negative_LogLikelihood(parameters, d):\n",
    "    n = 24\n",
    "    c_a, c_v, sigma_a, sigma_v, c = parameters\n",
    "\n",
    "    # Softmax c\n",
    "    c = sig(c)\n",
    "\n",
    "    d = pd.DataFrame(d)\n",
    "    x_a = d.iloc[0,:]\n",
    "    x_v = d.iloc[1,:]\n",
    "    x_av = d.iloc[2:,:]\n",
    "\n",
    "    # Define mu\n",
    "    mu_a = [1,2,3,4,5] # These are arbitrary \n",
    "    mu_v = [1,2,3,4,5] # These are arbitrary \n",
    "\n",
    "    # Define P i.e. the probability of a 'd' response given an auditory/visual/auditory+visual stimulus\n",
    "    P_a  = stats.norm.cdf((mu_a - c_a)/sigma_a)\n",
    "    P_v  = stats.norm.cdf((mu_v - c_v)/sigma_v)\n",
    "    P_av = np.zeros((5,5)) # 5x5 matrix\n",
    "    for i in range(5):\n",
    "        for j in range(5):\n",
    "            P_av[i,j] = (P_a[j]*P_v[i])/(P_a[j]*P_v[i] + (1-P_a[j])*(1-P_v[i]))\n",
    "    P_av_BCI = c*P_av + (1-c)*np.array(P_a)\n",
    "\n",
    "    # Define the Negative Log Likelihood for the Binomial Distribution\n",
    "    nll_combi_list = []\n",
    "    for i in range(5):\n",
    "        for j in range(5): \n",
    "            nll_combi_list.append(np.log(stats.binom.pmf(x_av.iloc[i,j], n, P_av_BCI[i,j])))\n",
    "    nll = -sum(np.log(stats.binom.pmf(x_a, n, P_a))) - \\\n",
    "           sum(np.log(stats.binom.pmf(x_v, n, P_v))) - \\\n",
    "           sum(nll_combi_list)\n",
    "\n",
    "    return nll"
   ]
  },
  {
   "cell_type": "code",
   "execution_count": 48,
   "metadata": {},
   "outputs": [
    {
     "name": "stderr",
     "output_type": "stream",
     "text": [
      "/var/folders/p7/1qllz46s60lfswf2l4vv4qtr0000gn/T/ipykernel_33535/3599546780.py:30: RuntimeWarning: divide by zero encountered in log\n",
      "  nll_combi_list.append(np.log(stats.binom.pmf(x_av.iloc[i,j], n, P_av_BCI[i,j])))\n",
      "/var/folders/p7/1qllz46s60lfswf2l4vv4qtr0000gn/T/ipykernel_33535/3599546780.py:31: RuntimeWarning: divide by zero encountered in log\n",
      "  nll = -sum(np.log(stats.binom.pmf(x_a, n, P_a))) - \\\n",
      "/opt/homebrew/lib/python3.10/site-packages/scipy/optimize/_numdiff.py:576: RuntimeWarning: invalid value encountered in subtract\n",
      "  df = fun(x) - f0\n",
      "/var/folders/p7/1qllz46s60lfswf2l4vv4qtr0000gn/T/ipykernel_33535/3599546780.py:30: RuntimeWarning: divide by zero encountered in log\n",
      "  nll_combi_list.append(np.log(stats.binom.pmf(x_av.iloc[i,j], n, P_av_BCI[i,j])))\n",
      "/var/folders/p7/1qllz46s60lfswf2l4vv4qtr0000gn/T/ipykernel_33535/3599546780.py:31: RuntimeWarning: divide by zero encountered in log\n",
      "  nll = -sum(np.log(stats.binom.pmf(x_a, n, P_a))) - \\\n",
      "/var/folders/p7/1qllz46s60lfswf2l4vv4qtr0000gn/T/ipykernel_33535/3599546780.py:30: RuntimeWarning: divide by zero encountered in log\n",
      "  nll_combi_list.append(np.log(stats.binom.pmf(x_av.iloc[i,j], n, P_av_BCI[i,j])))\n",
      "/opt/homebrew/lib/python3.10/site-packages/scipy/optimize/_numdiff.py:576: RuntimeWarning: invalid value encountered in subtract\n",
      "  df = fun(x) - f0\n",
      "/var/folders/p7/1qllz46s60lfswf2l4vv4qtr0000gn/T/ipykernel_33535/3599546780.py:30: RuntimeWarning: divide by zero encountered in log\n",
      "  nll_combi_list.append(np.log(stats.binom.pmf(x_av.iloc[i,j], n, P_av_BCI[i,j])))\n"
     ]
    },
    {
     "name": "stdout",
     "output_type": "stream",
     "text": [
      "c_a: 3.119453243580061\n",
      "c_v: 1.9022332598222562\n",
      "sigma_a: 1.0005285004789424\n",
      "sigma_v: 0.4790412508216007\n",
      "c: 0.7123217285282156\n",
      "Negative Loglikelihood Value: 69.11223620911568\n"
     ]
    }
   ],
   "source": [
    "df = pd.DataFrame(data[0])\n",
    "Initial_guess = [0.5, 0.5, np.std(df.iloc[0,:]), np.std(df.iloc[1,:]), 0.5]\n",
    "result = minimize(Negative_LogLikelihood, Initial_guess, data[0])\n",
    "\n",
    "print(\"c_a:\", result.x[0])\n",
    "print(\"c_v:\", result.x[1])\n",
    "print(\"sigma_a:\", result.x[2])\n",
    "print(\"sigma_v:\", result.x[3])\n",
    "print(\"c:\", sig(result.x[4]))\n",
    "\n",
    "print(\"Negative Loglikelihood Value:\", result.fun)"
   ]
  },
  {
   "cell_type": "code",
   "execution_count": 49,
   "metadata": {},
   "outputs": [
    {
     "name": "stdout",
     "output_type": "stream",
     "text": [
      "c_a: 2.937705474728493\n",
      "c_v: 2.019805615387475\n",
      "sigma_a: 0.973827736958071\n",
      "sigma_v: 0.47350517604500864\n",
      "c: 0.9339824001616812\n",
      "Negative Loglikelihood Value: 52.368404938277784\n"
     ]
    }
   ],
   "source": [
    "df = pd.DataFrame(data[1])\n",
    "Initial_guess = [0.5, 0.5, np.std(df.iloc[0,:]), np.std(df.iloc[1,:]), 0.5]\n",
    "result = minimize(Negative_LogLikelihood, Initial_guess, data[1])\n",
    "\n",
    "print(\"c_a:\", result.x[0])\n",
    "print(\"c_v:\", result.x[1])\n",
    "print(\"sigma_a:\", result.x[2])\n",
    "print(\"sigma_v:\", result.x[3])\n",
    "print(\"c:\", sig(result.x[4]))\n",
    "\n",
    "print(\"Negative Loglikelihood Value:\", result.fun)"
   ]
  },
  {
   "cell_type": "code",
   "execution_count": 50,
   "metadata": {},
   "outputs": [
    {
     "name": "stdout",
     "output_type": "stream",
     "text": [
      "c_a: 2.7896009672273725\n",
      "c_v: 2.1054473081811955\n",
      "sigma_a: 1.027027271190455\n",
      "sigma_v: 0.9235911442742147\n",
      "c: 0.6180942321788097\n",
      "Negative Loglikelihood Value: 73.58469580739165\n"
     ]
    }
   ],
   "source": [
    "df = pd.DataFrame(data[2])\n",
    "Initial_guess = [0.5, 0.5, np.std(df.iloc[0,:]), np.std(df.iloc[1,:]), 0.5]\n",
    "result = minimize(Negative_LogLikelihood, Initial_guess, data[2])\n",
    "\n",
    "print(\"c_a:\", result.x[0])\n",
    "print(\"c_v:\", result.x[1])\n",
    "print(\"sigma_a:\", result.x[2])\n",
    "print(\"sigma_v:\", result.x[3])\n",
    "print(\"c:\", sig(result.x[4]))\n",
    "\n",
    "print(\"Negative Loglikelihood Value:\", result.fun)"
   ]
  },
  {
   "cell_type": "code",
   "execution_count": 51,
   "metadata": {},
   "outputs": [
    {
     "name": "stderr",
     "output_type": "stream",
     "text": [
      "/var/folders/p7/1qllz46s60lfswf2l4vv4qtr0000gn/T/ipykernel_33535/3599546780.py:30: RuntimeWarning: divide by zero encountered in log\n",
      "  nll_combi_list.append(np.log(stats.binom.pmf(x_av.iloc[i,j], n, P_av_BCI[i,j])))\n",
      "/var/folders/p7/1qllz46s60lfswf2l4vv4qtr0000gn/T/ipykernel_33535/3599546780.py:31: RuntimeWarning: divide by zero encountered in log\n",
      "  nll = -sum(np.log(stats.binom.pmf(x_a, n, P_a))) - \\\n",
      "/opt/homebrew/lib/python3.10/site-packages/scipy/optimize/_numdiff.py:576: RuntimeWarning: invalid value encountered in subtract\n",
      "  df = fun(x) - f0\n",
      "/var/folders/p7/1qllz46s60lfswf2l4vv4qtr0000gn/T/ipykernel_33535/3599546780.py:30: RuntimeWarning: divide by zero encountered in log\n",
      "  nll_combi_list.append(np.log(stats.binom.pmf(x_av.iloc[i,j], n, P_av_BCI[i,j])))\n",
      "/opt/homebrew/lib/python3.10/site-packages/scipy/stats/_discrete_distns.py:78: RuntimeWarning: divide by zero encountered in _binom_pdf\n",
      "  return _boost._binom_pdf(x, n, p)\n",
      "/var/folders/p7/1qllz46s60lfswf2l4vv4qtr0000gn/T/ipykernel_33535/3599546780.py:31: RuntimeWarning: divide by zero encountered in log\n",
      "  nll = -sum(np.log(stats.binom.pmf(x_a, n, P_a))) - \\\n",
      "/var/folders/p7/1qllz46s60lfswf2l4vv4qtr0000gn/T/ipykernel_33535/3599546780.py:32: RuntimeWarning: divide by zero encountered in log\n",
      "  sum(np.log(stats.binom.pmf(x_v, n, P_v))) - \\\n",
      "/opt/homebrew/lib/python3.10/site-packages/scipy/optimize/_numdiff.py:576: RuntimeWarning: invalid value encountered in subtract\n",
      "  df = fun(x) - f0\n",
      "/var/folders/p7/1qllz46s60lfswf2l4vv4qtr0000gn/T/ipykernel_33535/3599546780.py:30: RuntimeWarning: divide by zero encountered in log\n",
      "  nll_combi_list.append(np.log(stats.binom.pmf(x_av.iloc[i,j], n, P_av_BCI[i,j])))\n",
      "/opt/homebrew/lib/python3.10/site-packages/scipy/stats/_discrete_distns.py:78: RuntimeWarning: divide by zero encountered in _binom_pdf\n",
      "  return _boost._binom_pdf(x, n, p)\n",
      "/var/folders/p7/1qllz46s60lfswf2l4vv4qtr0000gn/T/ipykernel_33535/3599546780.py:31: RuntimeWarning: divide by zero encountered in log\n",
      "  nll = -sum(np.log(stats.binom.pmf(x_a, n, P_a))) - \\\n",
      "/var/folders/p7/1qllz46s60lfswf2l4vv4qtr0000gn/T/ipykernel_33535/3599546780.py:32: RuntimeWarning: divide by zero encountered in log\n",
      "  sum(np.log(stats.binom.pmf(x_v, n, P_v))) - \\\n"
     ]
    },
    {
     "name": "stdout",
     "output_type": "stream",
     "text": [
      "c_a: 3.344101895076112\n",
      "c_v: 3.0361052587594637\n",
      "sigma_a: 0.767726053458445\n",
      "sigma_v: 1.16949670777312\n",
      "c: 0.5843746749912774\n",
      "Negative Loglikelihood Value: 71.34587276599123\n"
     ]
    }
   ],
   "source": [
    "df = pd.DataFrame(data[3])\n",
    "Initial_guess = [0.5, 0.5, np.std(df.iloc[0,:]), np.std(df.iloc[1,:]), 0.5]\n",
    "result = minimize(Negative_LogLikelihood, Initial_guess, data[3])\n",
    "\n",
    "print(\"c_a:\", result.x[0])\n",
    "print(\"c_v:\", result.x[1])\n",
    "print(\"sigma_a:\", result.x[2])\n",
    "print(\"sigma_v:\", result.x[3])\n",
    "print(\"c:\", sig(result.x[4]))\n",
    "\n",
    "print(\"Negative Loglikelihood Value:\", result.fun)"
   ]
  },
  {
   "cell_type": "code",
   "execution_count": 52,
   "metadata": {},
   "outputs": [
    {
     "name": "stderr",
     "output_type": "stream",
     "text": [
      "/var/folders/p7/1qllz46s60lfswf2l4vv4qtr0000gn/T/ipykernel_33535/3599546780.py:30: RuntimeWarning: divide by zero encountered in log\n",
      "  nll_combi_list.append(np.log(stats.binom.pmf(x_av.iloc[i,j], n, P_av_BCI[i,j])))\n",
      "/var/folders/p7/1qllz46s60lfswf2l4vv4qtr0000gn/T/ipykernel_33535/3599546780.py:31: RuntimeWarning: divide by zero encountered in log\n",
      "  nll = -sum(np.log(stats.binom.pmf(x_a, n, P_a))) - \\\n",
      "/opt/homebrew/lib/python3.10/site-packages/scipy/optimize/_numdiff.py:576: RuntimeWarning: invalid value encountered in subtract\n",
      "  df = fun(x) - f0\n",
      "/var/folders/p7/1qllz46s60lfswf2l4vv4qtr0000gn/T/ipykernel_33535/3599546780.py:30: RuntimeWarning: divide by zero encountered in log\n",
      "  nll_combi_list.append(np.log(stats.binom.pmf(x_av.iloc[i,j], n, P_av_BCI[i,j])))\n",
      "/var/folders/p7/1qllz46s60lfswf2l4vv4qtr0000gn/T/ipykernel_33535/3599546780.py:31: RuntimeWarning: divide by zero encountered in log\n",
      "  nll = -sum(np.log(stats.binom.pmf(x_a, n, P_a))) - \\\n",
      "/opt/homebrew/lib/python3.10/site-packages/scipy/optimize/_numdiff.py:576: RuntimeWarning: invalid value encountered in subtract\n",
      "  df = fun(x) - f0\n",
      "/var/folders/p7/1qllz46s60lfswf2l4vv4qtr0000gn/T/ipykernel_33535/3599546780.py:30: RuntimeWarning: divide by zero encountered in log\n",
      "  nll_combi_list.append(np.log(stats.binom.pmf(x_av.iloc[i,j], n, P_av_BCI[i,j])))\n",
      "/var/folders/p7/1qllz46s60lfswf2l4vv4qtr0000gn/T/ipykernel_33535/3599546780.py:31: RuntimeWarning: divide by zero encountered in log\n",
      "  nll = -sum(np.log(stats.binom.pmf(x_a, n, P_a))) - \\\n",
      "/var/folders/p7/1qllz46s60lfswf2l4vv4qtr0000gn/T/ipykernel_33535/3599546780.py:32: RuntimeWarning: divide by zero encountered in log\n",
      "  sum(np.log(stats.binom.pmf(x_v, n, P_v))) - \\\n",
      "/var/folders/p7/1qllz46s60lfswf2l4vv4qtr0000gn/T/ipykernel_33535/3599546780.py:30: RuntimeWarning: divide by zero encountered in log\n",
      "  nll_combi_list.append(np.log(stats.binom.pmf(x_av.iloc[i,j], n, P_av_BCI[i,j])))\n",
      "/var/folders/p7/1qllz46s60lfswf2l4vv4qtr0000gn/T/ipykernel_33535/3599546780.py:31: RuntimeWarning: divide by zero encountered in log\n",
      "  nll = -sum(np.log(stats.binom.pmf(x_a, n, P_a))) - \\\n",
      "/opt/homebrew/lib/python3.10/site-packages/scipy/optimize/_numdiff.py:576: RuntimeWarning: invalid value encountered in subtract\n",
      "  df = fun(x) - f0\n"
     ]
    },
    {
     "name": "stdout",
     "output_type": "stream",
     "text": [
      "c_a: 3.2353912848162327\n",
      "c_v: 2.204749144960771\n",
      "sigma_a: 0.6439992869795104\n",
      "sigma_v: 0.9236076254641805\n",
      "c: 0.550344259137334\n",
      "Negative Loglikelihood Value: 62.42751123288796\n"
     ]
    }
   ],
   "source": [
    "df = pd.DataFrame(data[4])\n",
    "Initial_guess = [0.5, 0.5, np.std(df.iloc[0,:]), np.std(df.iloc[1,:]), 0.5]\n",
    "result = minimize(Negative_LogLikelihood, Initial_guess, data[4])\n",
    "\n",
    "print(\"c_a:\", result.x[0])\n",
    "print(\"c_v:\", result.x[1])\n",
    "print(\"sigma_a:\", result.x[2])\n",
    "print(\"sigma_v:\", result.x[3])\n",
    "print(\"c:\", sig(result.x[4]))\n",
    "\n",
    "print(\"Negative Loglikelihood Value:\", result.fun)"
   ]
  },
  {
   "cell_type": "code",
   "execution_count": null,
   "metadata": {},
   "outputs": [],
   "source": []
  }
 ],
 "metadata": {
  "kernelspec": {
   "display_name": "Python 3.10.6 64-bit",
   "language": "python",
   "name": "python3"
  },
  "language_info": {
   "codemirror_mode": {
    "name": "ipython",
    "version": 3
   },
   "file_extension": ".py",
   "mimetype": "text/x-python",
   "name": "python",
   "nbconvert_exporter": "python",
   "pygments_lexer": "ipython3",
   "version": "3.10.6"
  },
  "orig_nbformat": 4,
  "vscode": {
   "interpreter": {
    "hash": "b0fa6594d8f4cbf19f97940f81e996739fb7646882a419484c72d19e05852a7e"
   }
  }
 },
 "nbformat": 4,
 "nbformat_minor": 2
}
